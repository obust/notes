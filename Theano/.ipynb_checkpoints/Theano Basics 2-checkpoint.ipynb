{
 "cells": [
  {
   "cell_type": "markdown",
   "metadata": {},
   "source": [
    "# Theano Basics 2\n",
    "\n",
    "- Default Values\n",
    "- Shared Variables\n",
    "- Random Variables\n",
    "- Example: Logistic Regression"
   ]
  },
  {
   "cell_type": "markdown",
   "metadata": {},
   "source": [
    "## Default Values\n",
    "\n",
    "Use the [`theano.function.Param`](http://deeplearning.net/software/theano/library/compile/function.html#function.Param) class to **attach informations to function inputs**. \n",
    "\n",
    "For example, to give a default value of 1 for `y`, create a `Param` instance with its `default` field set to 1 :\n",
    "\n",
    "```\n",
    "theano.Param(y, default=1)\n",
    "```\n",
    "\n",
    "Note :\n",
    "- use the [`theano.function.Out`](http://deeplearning.net/software/theano/library/compile/function.html#function.Out) class to attach informations to function outputs\n",
    "- use the [`theano.compile.io.In`](http://theano.readthedocs.org/en/latest/library/compile/io.html#io.In) class to attach informations to function inputs (similar to `Param`)"
   ]
  },
  {
   "cell_type": "markdown",
   "metadata": {},
   "source": [
    "#### Python version"
   ]
  },
  {
   "cell_type": "code",
   "execution_count": null,
   "metadata": {
    "collapsed": true
   },
   "outputs": [],
   "source": [
    "def f(x, y=1):\n",
    "    return x + y"
   ]
  },
  {
   "cell_type": "markdown",
   "metadata": {},
   "source": [
    "#### Theano version"
   ]
  },
  {
   "cell_type": "code",
   "execution_count": null,
   "metadata": {
    "collapsed": true
   },
   "outputs": [],
   "source": [
    "import theano\n",
    "import theano.tensor as T\n",
    "import theano.Param as Param\n",
    "\n",
    "x, y = T.dscalars('x', 'y')\n",
    "z = x + y\n",
    "f = theano.function([x, Param(y, default=1)], z)"
   ]
  },
  {
   "cell_type": "code",
   "execution_count": null,
   "metadata": {
    "collapsed": true
   },
   "outputs": [],
   "source": [
    "print f(33)\n",
    "print f(33, 2)\n",
    "print f(34)"
   ]
  },
  {
   "cell_type": "markdown",
   "metadata": {},
   "source": [
    "## Shared Variables\n",
    "\n",
    "Use [`theano.shared(value, name=None)`](http://theano.readthedocs.org/en/latest/library/compile/shared.html#module-shared) to create a `SharedVariable` instance.\n",
    "\n",
    "- **`value`** : value to associate with this variable (a new container will be created)\n",
    "- **`name`** *(None or str)* : name for this variable\n",
    "- **`type`** : Type of this Variable\n",
    "\n",
    "\n",
    "A `SharedVariable` is a Variable with an internal value that is **shared between *all* functions that use**.\n",
    "The value can be accessed and modified by the `.get_value()` and `.set_value()` methods.\n",
    "\n",
    "In order to use a `SharedVariable` in a function, provide the `updates` option with a pair (SharedVariable, new SharedVariable expression) giving informations on what `SharedVariable` to use and how to update it."
   ]
  },
  {
   "cell_type": "code",
   "execution_count": null,
   "metadata": {
    "collapsed": true
   },
   "outputs": [],
   "source": [
    "count = theano.shared(0)\n",
    "inc = T.iscalar('inc')\n",
    "\n",
    "add_inc = count + inc\n",
    "subtract_inc = count - inc\n",
    "\n",
    "incrementor = theano.function([inc], count, updates=[(count, add_inc)])\n",
    "decrementor = theano.function([inc], count, updates=[(count, subtract_inc)])"
   ]
  },
  {
   "cell_type": "code",
   "execution_count": null,
   "metadata": {
    "collapsed": true
   },
   "outputs": [],
   "source": [
    "count.get_value()\n",
    "\n",
    "incrementor(2)\n",
    "count.get_value()\n",
    "\n",
    "decrementor(4)\n",
    "count.get_value()\n",
    "\n",
    "incrementor(12)\n",
    "count.get_value()"
   ]
  },
  {
   "cell_type": "markdown",
   "metadata": {},
   "source": [
    "## Random Variables\n",
    "\n",
    "The way to think about putting randomness into Theano's computations is to put random variables in your graph. Theano will allocate a NumPy [`RandomStreams`](http://theano.readthedocs.org/en/latest/library/tensor/shared_randomstreams.html#libdoc-tensor-shared-randomstreams) object (a random number generator) for each such variable, and draw from it as necessary. We will call this sort of sequence of random numbers a random stream. Random streams are at their core shared variables, so the observations on shared variables hold here as well.\n",
    "\n",
    "In the example below : \n",
    "\n",
    "- `rng` : random number generator.\n",
    "- `rv_u` : random stream (shared variable) of 2x2 matrices of draws from a uniform distribution.\n",
    "- `rv_n` : random stream (shared variable) of 2x2 matrices of draws from a normal distribution.\n",
    "- `f()` : returns **a new random uniform number** every time it is called. The internal state of the random number generator is automatically updated, so we get different random numbers every time.\n",
    "- `g()` : returns **the same random normal number** every time it is called. The internal state of the random number generator is not affected when we add the extra argument `no_default_updates=True`."
   ]
  },
  {
   "cell_type": "code",
   "execution_count": null,
   "metadata": {
    "collapsed": true
   },
   "outputs": [],
   "source": [
    "from theano.tensor.shared_randomstreams import RandomStreams\n",
    "from theano import function\n",
    "\n",
    "rng = RandomStreams(seed=234)\n",
    "\n",
    "rv_u = rng.uniform((2,2))\n",
    "rv_n = rng.normal((2,2))\n",
    "\n",
    "f = function([], rv_u)\n",
    "g = function([], rv_n, no_default_updates=True)    #Not updating rv_n.rng"
   ]
  },
  {
   "cell_type": "code",
   "execution_count": null,
   "metadata": {
    "collapsed": true
   },
   "outputs": [],
   "source": [
    "print f()\n",
    "print f()\n",
    "print g()\n",
    "print g()"
   ]
  },
  {
   "cell_type": "markdown",
   "metadata": {},
   "source": [
    "Note that a random variable is **drawn at most once** during any single function execution. So the `nearly_zeros()` function is guaranteed to return approximately 0 (except for rounding error) even though the `rv_u` random variable appears three times in the output expression."
   ]
  },
  {
   "cell_type": "code",
   "execution_count": null,
   "metadata": {
    "collapsed": true
   },
   "outputs": [],
   "source": [
    "nearly_zeros = function([], rv_u + rv_u - 2 * rv_u)\n",
    "print nearly_zeros()"
   ]
  },
  {
   "cell_type": "markdown",
   "metadata": {},
   "source": [
    "# Logistic Regression"
   ]
  }
 ],
 "metadata": {
  "kernelspec": {
   "display_name": "Python 2",
   "language": "python",
   "name": "python2"
  },
  "language_info": {
   "codemirror_mode": {
    "name": "ipython",
    "version": 2
   },
   "file_extension": ".py",
   "mimetype": "text/x-python",
   "name": "python",
   "nbconvert_exporter": "python",
   "pygments_lexer": "ipython2",
   "version": "2.7.10"
  }
 },
 "nbformat": 4,
 "nbformat_minor": 0
}
