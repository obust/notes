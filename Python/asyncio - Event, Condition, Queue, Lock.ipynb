{
 "cells": [
  {
   "cell_type": "markdown",
   "metadata": {},
   "source": [
    "# Task Synchronization\n",
    "\n"
   ]
  },
  {
   "cell_type": "code",
   "execution_count": 1,
   "metadata": {
    "collapsed": true
   },
   "outputs": [],
   "source": [
    "import asyncio\n",
    "import functools"
   ]
  },
  {
   "cell_type": "code",
   "execution_count": 5,
   "metadata": {
    "collapsed": true
   },
   "outputs": [],
   "source": [
    "# broom wagon coroutine\n",
    "async def broom_wagon(tasks):\n",
    "    \"\"\"Waits for all tasks to complete before finishing.\"\"\"\n",
    "    done, pending = await asyncio.wait(tasks, return_when='ALL_COMPLETED')\n",
    "    print('ALL TASKS COMPLETED')\n",
    "    return done, pending"
   ]
  },
  {
   "cell_type": "markdown",
   "metadata": {},
   "source": [
    "## Event\n",
    "\n",
    "Use an `Event` to **synchronize the scheduling of multiple consumers**. (ie to trigger multiple coroutines at once\n",
    "\n",
    "It is like runners in the starting blocks waiting for the gun shot.\n",
    "\n",
    "Put simply, an event is like the gun shot at a running race, it lets the runners off the starting blocks."
   ]
  },
  {
   "cell_type": "markdown",
   "metadata": {},
   "source": [
    "### Event API"
   ]
  },
  {
   "cell_type": "code",
   "execution_count": null,
   "metadata": {
    "collapsed": true
   },
   "outputs": [],
   "source": [
    "# instanciation\n",
    "event = asyncio.Event()\n",
    "\n",
    "# event status\n",
    "event.is_set()  # True if the internal flag is True\n",
    "\n",
    "# event manipulation\n",
    "event.set()   # wake up all coroutines waiting on this event\n",
    "event.clear() # set the internal flag to False\n",
    "\n",
    "# event consumption\n",
    "event.wait()! # wait until event is set"
   ]
  },
  {
   "cell_type": "markdown",
   "metadata": {},
   "source": [
    "### Example"
   ]
  },
  {
   "cell_type": "code",
   "execution_count": 2,
   "metadata": {
    "collapsed": false
   },
   "outputs": [
    {
     "name": "stdout",
     "output_type": "stream",
     "text": [
      "Consumer B waiting\n",
      "Consumer A waiting\n",
      "EVENT SET\n",
      "Consumer B triggered\n",
      "Consumer A triggered\n",
      "ALL TASKS COMPLETED\n"
     ]
    }
   ],
   "source": [
    "# event trigger function\n",
    "def trigger(event):\n",
    "    print('EVENT SET')\n",
    "    event.set()\n",
    "\n",
    "# event consumers\n",
    "async def consumer_a(event):\n",
    "    consumer_name = 'Consumer A'\n",
    "    print('{} waiting'.format(consumer_name))\n",
    "    await event.wait()\n",
    "    print('{} triggered'.format(consumer_name))\n",
    "\n",
    "async def consumer_b(event):\n",
    "    consumer_name = 'Consumer B'\n",
    "    print('{} waiting'.format(consumer_name))\n",
    "    await event.wait()\n",
    "    print('{} triggered'.format(consumer_name))\n",
    "\n",
    "# broom wagon coroutine\n",
    "async def broom_wagon(tasks):\n",
    "    \"\"\"Waits for all tasks to complete before finishing.\"\"\"\n",
    "    done, pending = await asyncio.wait(tasks)\n",
    "    print('ALL TASKS COMPLETED')\n",
    "    return done, pending\n",
    "\n",
    "# event\n",
    "event = asyncio.Event()\n",
    "\n",
    "# tasks\n",
    "tasks = [consumer_a(event), consumer_b(event)]\n",
    "\n",
    "# event loop\n",
    "event_loop = asyncio.get_event_loop()\n",
    "event_loop.call_later(0.1, functools.partial(trigger, event))  # kick off event in 0.1 sec\n",
    "\n",
    "done, pending = event_loop.run_until_complete(broom_wagon(tasks))"
   ]
  },
  {
   "cell_type": "markdown",
   "metadata": {},
   "source": [
    "## Condition\n",
    "\n",
    "Use a `Condition` to\n",
    "\n",
    "A condition variable allows one or more coroutines to wait until they are notified by another coroutine."
   ]
  },
  {
   "cell_type": "markdown",
   "metadata": {},
   "source": [
    "### Condition API"
   ]
  },
  {
   "cell_type": "code",
   "execution_count": null,
   "metadata": {
    "collapsed": true
   },
   "outputs": [],
   "source": [
    "# instanciation\n",
    "condition = asyncio.Condition()\n",
    "\n",
    "# condition manipulation\n",
    "condition.notify(n)  # wake up 'n' waiting coroutines (if any)\n",
    "condition.notify_all() # wake up all waiting coroutines (if any)\n",
    "\n",
    "# condition consumption\n",
    "condition.wait()!  # wait until notified\n",
    "condition.wait_for(predicate)!  # wait until the predicate becomes True\n",
    "\n",
    "# other\n",
    "condition.acquire()!  # acquire the underlying lock\n",
    "condition.locked()    # True if the underlying lock is acquired\n",
    "condition.release()   # release the underlying lock"
   ]
  },
  {
   "cell_type": "markdown",
   "metadata": {},
   "source": [
    "### Example"
   ]
  },
  {
   "cell_type": "code",
   "execution_count": 3,
   "metadata": {
    "collapsed": false
   },
   "outputs": [
    {
     "name": "stdout",
     "output_type": "stream",
     "text": [
      "START MANIPULATION\n",
      "Consumer 3 waiting\n",
      "Consumer 4 waiting\n",
      "Consumer 2 waiting\n",
      "Consumer 1 waiting\n",
      "Consumer 0 waiting\n",
      "NOTIFY 1 CONSUMERS\n",
      "Consumer 3 triggered\n",
      "Consumer 3 done\n",
      "NOTIFY 2 CONSUMERS\n",
      "Consumer 4 triggered\n",
      "Consumer 4 done\n",
      "Consumer 2 triggered\n",
      "Consumer 2 done\n",
      "NOTIFY REMAINING\n",
      "END MANIPULATION\n",
      "Consumer 1 triggered\n",
      "Consumer 1 done\n",
      "Consumer 0 triggered\n",
      "Consumer 0 done\n",
      "ALL TASKS COMPLETED\n"
     ]
    }
   ],
   "source": [
    "# condition manipulation function\n",
    "async def manipulate(condition):\n",
    "    print('START MANIPULATION')\n",
    "\n",
    "    # pause to let consumers start\n",
    "    await asyncio.sleep(0.1)\n",
    "\n",
    "    # notify 1 consumer, then notify 2 consumers\n",
    "    for i in range(1, 3):\n",
    "        with await condition:\n",
    "            print('NOTIFY {} CONSUMERS'.format(i))\n",
    "            condition.notify(n=i)\n",
    "        await asyncio.sleep(0.1)\n",
    "\n",
    "    # notify remaining consumers\n",
    "    with await condition:\n",
    "        print('NOTIFY REMAINING')\n",
    "        condition.notify_all()\n",
    "\n",
    "    print('END MANIPULATION')\n",
    "\n",
    "# condition consumers\n",
    "async def consumer(condition, n):\n",
    "    consumer_name = 'Consumer {}'.format(n)\n",
    "    with await condition:\n",
    "        # condition is unlocked\n",
    "        print('{} waiting'.format(consumer_name))\n",
    "        await condition.wait()\n",
    "        print('{} triggered'.format(consumer_name))\n",
    "    \n",
    "    print('{} done'.format(consumer_name))\n",
    "\n",
    "# broom wagon coroutine\n",
    "async def broom_wagon(tasks):\n",
    "    \"\"\"Waits for all tasks to complete before finishing.\"\"\"\n",
    "    done, pending = await asyncio.wait(tasks)\n",
    "    print('ALL TASKS COMPLETED')\n",
    "    return done, pending\n",
    "\n",
    "# condition\n",
    "condition = asyncio.Condition()\n",
    "\n",
    "# wrap tasks in one future\n",
    "consumers = [consumer(condition, i) for i in range(5)]\n",
    "# main_future = asyncio.wait(consumers)\n",
    "\n",
    "# event loop\n",
    "event_loop = asyncio.get_event_loop()\n",
    "event_loop.create_task(manipulate(condition))\n",
    "# event_loop.call_later(0.1, functools.partial(manipulate, condition))\n",
    "\n",
    "result = event_loop.run_until_complete(broom_wagon(consumers))\n"
   ]
  },
  {
   "cell_type": "markdown",
   "metadata": {},
   "source": [
    "## Queue\n",
    "\n",
    "https://docs.python.org/dev/library/asyncio-queue.html\n",
    "\n",
    "Use a `Queue` to **coordinate producer and consumer coroutines**."
   ]
  },
  {
   "cell_type": "markdown",
   "metadata": {},
   "source": [
    "### Queue API"
   ]
  },
  {
   "cell_type": "code",
   "execution_count": null,
   "metadata": {
    "collapsed": true
   },
   "outputs": [],
   "source": [
    "# instanciation\n",
    "queue = asyncio.Queue()\n",
    "\n",
    "# queue info\n",
    "queue.maxsize  # number of items allowed in the queue\n",
    "queue.qsize()  # number of items in the queue\n",
    "queue.empty()  # True if the queue is empty\n",
    "queue.full()   # True if the queue has `maxsize` items\n",
    "\n",
    "# queue manipulation\n",
    "queue.put(item)!  # appends an item to the queue (if full, waits for a slot)\n",
    "queue.get()!      # pops the first item of the queue (if empty, waits for an item)\n",
    "queue.put_nowait(item) # like .put(item), but raises QueueFull if queue is full (no blocking)\n",
    "queue.get_nowait()     # like .get(), but raises QueueEmpty if queue is empty (no blocking)\n",
    "\n",
    "# other\n",
    "queue.join()!  # blocks the queue until all items have been gotten and processed\n",
    "queue.task_done()  # called by consumers to indicate when a formerly enqueued task (aka item) is complete"
   ]
  },
  {
   "cell_type": "markdown",
   "metadata": {
    "collapsed": true
   },
   "source": [
    "### Example"
   ]
  },
  {
   "cell_type": "code",
   "execution_count": 4,
   "metadata": {
    "collapsed": false
   },
   "outputs": [
    {
     "name": "stdout",
     "output_type": "stream",
     "text": [
      "QUEUE : <Queue maxsize=0 _queue=[0, 1, 2, 3, 4, 5, 6, 7, 8, 9, 10, 11, 12, 13, 14, 15, 16, 17, 18, 19] tasks=20>\n",
      "Consumer A grabbed item: 0\n",
      "Consumer B grabbed item: 1\n",
      "Consumer C grabbed item: 2\n",
      "Consumer C grabbed item: 3\n",
      "Consumer B grabbed item: 4\n",
      "Consumer C grabbed item: 5\n",
      "Consumer A grabbed item: 6\n",
      "Consumer B grabbed item: 7\n",
      "Consumer C grabbed item: 8\n",
      "Consumer C grabbed item: 9\n",
      "Consumer B grabbed item: 10\n",
      "Consumer C grabbed item: 11\n",
      "Consumer A grabbed item: 12\n",
      "Consumer B grabbed item: 13\n",
      "Consumer C grabbed item: 14\n",
      "Consumer C grabbed item: 15\n",
      "Consumer B grabbed item: 16\n",
      "Consumer C grabbed item: 17\n",
      "Consumer A grabbed item: 18\n",
      "Consumer B grabbed item: 19\n",
      "ALL TASKS COMPLETED\n",
      "TASKS DONE : {<Task finished coro=<consumer_a() done, defined at <ipython-input-4-c85ff10172a3>:8> result=None>, <Task finished coro=<consumer_c() done, defined at <ipython-input-4-c85ff10172a3>:24> result=None>, <Task finished coro=<consumer_b() done, defined at <ipython-input-4-c85ff10172a3>:16> result=None>}\n",
      "TASKS PENDING : set()\n"
     ]
    }
   ],
   "source": [
    "# queue\n",
    "queue = asyncio.Queue()\n",
    "for x in range(20):\n",
    "    queue.put_nowait(x)\n",
    "print('QUEUE : {}'.format(queue))\n",
    "\n",
    "# queue consumers\n",
    "async def consumer_a(queue):\n",
    "    consumer_name = 'Consumer A'\n",
    "    consumer_speed = 1\n",
    "    while not queue.empty():\n",
    "        item = await queue.get()\n",
    "        print('{0} grabbed item: {1}'.format(consumer_name, item))\n",
    "        await asyncio.sleep(1 / consumer_speed)\n",
    "\n",
    "async def consumer_b(queue):\n",
    "    consumer_name = 'Consumer B'\n",
    "    consumer_speed = 2\n",
    "    while not queue.empty():\n",
    "        item = await queue.get()\n",
    "        print('{0} grabbed item: {1}'.format(consumer_name, item))\n",
    "        await asyncio.sleep(1 / consumer_speed)\n",
    "\n",
    "async def consumer_c(queue):\n",
    "    consumer_name = 'Consumer C'\n",
    "    consumer_speed = 3\n",
    "    while not queue.empty():\n",
    "        item = await queue.get()\n",
    "        print('{0} grabbed item: {1}'.format(consumer_name, item))\n",
    "        await asyncio.sleep(1 / consumer_speed)\n",
    "\n",
    "# broom wagon coroutine\n",
    "async def broom_wagon(tasks):\n",
    "    \"\"\"Waits for all tasks to complete before finishing.\"\"\"\n",
    "    done, pending = await asyncio.wait(tasks, return_when='ALL_COMPLETED')\n",
    "    print('ALL TASKS COMPLETED')\n",
    "    return done, pending\n",
    "\n",
    "# event loop\n",
    "event_loop = asyncio.get_event_loop()\n",
    "\n",
    "# tasks\n",
    "tasks = [consumer_a(queue),\n",
    "         consumer_b(queue),\n",
    "         consumer_c(queue)]\n",
    "\n",
    "done, pending = event_loop.run_until_complete(broom_wagon(tasks))\n",
    "print('TASKS DONE : {}'.format(done))\n",
    "print('TASKS PENDING : {}'.format(pending))"
   ]
  },
  {
   "cell_type": "markdown",
   "metadata": {},
   "source": [
    "## Queue\n",
    "\n",
    "https://docs.python.org/3/library/asyncio-sync.html#asyncio.Lock\n",
    "\n",
    "Use a `Queue` to **coordinate producer and consumer coroutines**.\n",
    "Use a `Lock` to **guard access to a shared resource**.\n",
    "\n",
    "A `Lock` is in one of two states:\n",
    "- *locked*: the lock is acquired. Ac\n",
    "- *unlocked*: the lock is released. Access is blocked "
   ]
  },
  {
   "cell_type": "markdown",
   "metadata": {},
   "source": [
    "### Lock API"
   ]
  },
  {
   "cell_type": "code",
   "execution_count": null,
   "metadata": {
    "collapsed": true
   },
   "outputs": [],
   "source": [
    "# initialization\n",
    "lock = asyncio.Lock()\n",
    "\n",
    "# lock states\n",
    "lock.locked()  # True if lock is locked/acquired, False if it is unlocked/released\n",
    "\n",
    "# lock manipulation\n",
    "lock.acquire()! # sets the lock state to 'locked'. waits for lock to be unlocked first \n",
    "lock.release()  # sets the lock state to 'unlocked'"
   ]
  },
  {
   "cell_type": "markdown",
   "metadata": {},
   "source": [
    "### Example"
   ]
  },
  {
   "cell_type": "code",
   "execution_count": 17,
   "metadata": {
    "collapsed": false
   },
   "outputs": [
    {
     "name": "stdout",
     "output_type": "stream",
     "text": [
      "Consumer B waiting\n",
      "Consumer A waiting\n",
      "RELEASE LOCK\n",
      "Consumer B acquired lock\n",
      "Consumer B released lock\n",
      "Consumer A acquired lock\n",
      "Consumer A released lock\n",
      "ALL TASKS COMPLETED\n"
     ]
    }
   ],
   "source": [
    "def unlock(lock):\n",
    "    print('RELEASE LOCK')\n",
    "    lock.release()\n",
    "\n",
    "\n",
    "async def consumer_a(lock):\n",
    "    consumer_name = 'Consumer A'\n",
    "    print('{} waiting'.format(consumer_name))\n",
    "    # lock context management usage (implicit release)\n",
    "    with await lock:\n",
    "        print('{} acquired lock'.format(consumer_name))\n",
    "    print('{} released lock'.format(consumer_name))\n",
    "\n",
    "\n",
    "async def consumer_b(lock):\n",
    "    consumer_name = 'Consumer B'\n",
    "    print('{} waiting'.format(consumer_name))\n",
    "    # lock direct usage (explicit release)\n",
    "    await lock\n",
    "    try:\n",
    "        print('{} acquired lock'.format(consumer_name))\n",
    "    finally:\n",
    "        print('{} released lock'.format(consumer_name))\n",
    "        lock.release()\n",
    "\n",
    "# lock\n",
    "lock = asyncio.Lock()\n",
    "\n",
    "# event loop\n",
    "event_loop = asyncio.get_event_loop()\n",
    "\n",
    "# set lock state to 'locked' (before starting coroutines)\n",
    "event_loop.run_until_complete(lock.acquire())\n",
    "\n",
    "# unlock the lock after 0.1sec.\n",
    "event_loop.call_later(0.1, functools.partial(unlock, lock))\n",
    "\n",
    "# tasks\n",
    "tasks = [consumer_a(lock), consumer_b(lock)]\n",
    "\n",
    "done, pending = event_loop.run_until_complete(broom_wagon(tasks))"
   ]
  }
 ],
 "metadata": {
  "kernelspec": {
   "display_name": "Python 3",
   "language": "python",
   "name": "python3"
  },
  "language_info": {
   "codemirror_mode": {
    "name": "ipython",
    "version": 3
   },
   "file_extension": ".py",
   "mimetype": "text/x-python",
   "name": "python",
   "nbconvert_exporter": "python",
   "pygments_lexer": "ipython3",
   "version": "3.5.2"
  }
 },
 "nbformat": 4,
 "nbformat_minor": 0
}
