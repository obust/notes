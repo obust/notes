{
 "cells": [
  {
   "cell_type": "markdown",
   "metadata": {},
   "source": [
    "# Asyncio - Coroutine, Future, Task, Event Loop\n",
    "\n",
    "https://pymotw.com/3/asyncio/index.html  \n",
    "http://kunkle.org/blog/2012/04/13/nodejs-basics-explained/  \n",
    "\n",
    "https://medium.com/@yeraydiazdiaz/asyncio-for-the-working-python-developer-5c468e6e2e8e#.ai2lhtm6n  \n",
    "\n",
    "http://masnun.com/2015/11/20/python-asyncio-future-task-and-the-event-loop.html  \n",
    "http://quietlyamused.org/blog/2015/10/02/async-python/  "
   ]
  },
  {
   "cell_type": "code",
   "execution_count": 3,
   "metadata": {
    "collapsed": true
   },
   "outputs": [],
   "source": [
    "import asyncio"
   ]
  },
  {
   "cell_type": "markdown",
   "metadata": {},
   "source": [
    "## Introduction\n",
    "\n",
    "### Asynchronous I/O\n",
    "\n",
    "Async is shorthand for *cooperative multitasking*, a style of multitasking where the currently running task does not get interrupted, but must yield control to other tasks (`Coroutine`). In the normal case, it may fire off request and then sleep until the request comes back with data (`Future`). During the time that it sleeps, other tasks may run and submit their requests in the same way.\n",
    "\n",
    "### Concurrency vs Parallelism\n",
    "\n",
    "https://www.youtube.com/watch?v=cN_DpYBzKso\n",
    "http://www.slideshare.net/dabeaz/an-introduction-to-python-concurrency\n",
    "\n",
    "- *Concurrency*: coordination of independently executed things (ie async functions)\n",
    "    - Goal = dealing with a lot of things at once\n",
    "    - concurrent: opposite of sequencial (following a logical order/sequence)\n",
    "- *Parallelism*: simultaneous execution of multiple things (related or not)\n",
    "    - Goal = doing a lot of things at once\n",
    "    - parallel: opposite of serial (taking place in a series)\n",
    "\n",
    "Concurrency is about structuring things so that maybe you can do parallelism.\n",
    "\n",
    "Breaking down tasks into subtasks only *allows* parallelism, its\n",
    "\n",
    "```\n",
    "# sequential\n",
    "[1....][2........]\n",
    "\n",
    "# parallel\n",
    "[1....]\n",
    "[2........]\n",
    "\n",
    "# concurrent\n",
    "[1..[[2........]]1..]\n",
    "```\n",
    "\n",
    "### asyncio\n",
    "\n",
    "Asynchronous programming in Python revolves around four major components:\n",
    "\n",
    "- A *coroutine* is an asynchronous function. They can be paused and resumed later in time. When paused, they release control back to the caller (aka event loop) without losing their state.\n",
    "- A *future* represents a result that may or may not come later in time.\n",
    "\n",
    "\n",
    "- A *task* is a future which wraps and manages a coroutine.\n",
    "- An *event loop* manages tasks (registering, scheduling, delaying, executing). It handles distributing the flow of control between tasks: context switch."
   ]
  },
  {
   "cell_type": "markdown",
   "metadata": {},
   "source": [
    "## Coroutine (asynchronous function)\n",
    "\n",
    "An **asynchronous function** in Python is typically called a *coroutine*.\n",
    "\n",
    "Put simply, a coroutine is a function which **can be paused and then resumed later**.  \n",
    "While a coroutine is waiting, control is returned to the event loop so that other things can run !\n",
    "\n",
    "With asynchronous programming, you allow your code to handle other tasks while waiting for some tasks to respond.\n",
    "\n",
    "The **input** to a coroutine is **desynchronized** from the **output** returned (= asynchronous function = asynchronous input/output = asyncio).\n",
    "- *Asynchronous*: not related in time.\n",
    "\n",
    "NB: coroutines can only be called within other coroutines or by the event loop as tasks."
   ]
  },
  {
   "cell_type": "markdown",
   "metadata": {},
   "source": [
    "### async\n",
    "\n",
    "Use the `async` keyword to define an asynchronous function (coroutine)."
   ]
  },
  {
   "cell_type": "code",
   "execution_count": null,
   "metadata": {
    "collapsed": false
   },
   "outputs": [],
   "source": [
    "async def task_double(x):\n",
    "    return x * 2"
   ]
  },
  {
   "cell_type": "markdown",
   "metadata": {},
   "source": [
    "### await\n",
    "\n",
    "Use the `await` keyword to make a **call to another asynchronous function** and **wait for its output**.\n",
    "\n",
    "By using `await`, the coroutine lets the event loop know that it may switch context to the next task scheduled for execution (if any)."
   ]
  },
  {
   "cell_type": "code",
   "execution_count": null,
   "metadata": {
    "collapsed": true
   },
   "outputs": [],
   "source": [
    "async def task_double(x):\n",
    "    await asyncio.sleep(1)  # pause for 1 second, control is \n",
    "    return x * 2"
   ]
  },
  {
   "cell_type": "markdown",
   "metadata": {},
   "source": [
    "## Future\n",
    "\n",
    "A `Future` object is like a **place holder for a result that should come in the future** (like a `Promise` object in Javascript). A future represents the result of a work that has not been completed yet.\n",
    "\n",
    "A future can be in one of four states:\n",
    "- pending\n",
    "- running\n",
    "- done\n",
    "- cancelled"
   ]
  },
  {
   "cell_type": "markdown",
   "metadata": {},
   "source": [
    "### Future API"
   ]
  },
  {
   "cell_type": "code",
   "execution_count": null,
   "metadata": {
    "collapsed": true
   },
   "outputs": [],
   "source": [
    "# instanciation\n",
    "future = asyncio.Future()\n",
    "future = loop.create_future()  # prefered way for optimization (cf. Event Loop)\n",
    "\n",
    "# future state\n",
    "future.done()  # True if the future is done\n",
    "future.cancelled() # True if the future was cancelled\n",
    "\n",
    "# future manipulation on success (promise resolved)\n",
    "future.set_result(result)  # success: mark as done, and set its result\n",
    "future.result()  # return the result of this future\n",
    "\n",
    "# future manipulation on fail (promise rejected)\n",
    "future.set_exception(exception) # fail: mark as done, and set an exception\n",
    "future.cancel()  # cancel the future and schedule callbacks\n",
    "future.exception() # return the exception that was thrown by the future\n",
    "\n",
    "# future callbacks (functions called when future is done, aka promise resolved)\n",
    "future.add_done_callback(func)  # add a callback to run when the future is done\n",
    "future.remove_done_callback()  # removes all callback functions"
   ]
  },
  {
   "cell_type": "markdown",
   "metadata": {},
   "source": [
    "## Task = Future + Coroutine\n",
    "\n",
    "A `Task` is a `Future` that wraps a `Coroutine`.  \n",
    "When the coroutine finishes, the result of the task is realized."
   ]
  },
  {
   "cell_type": "markdown",
   "metadata": {},
   "source": [
    "## Event Loop\n",
    "\n",
    "The event loop is responsible for **scheduling and executing tasks** (aka registering, delaying, executing and cancelling tasks). Generally, we schedule multiple tasks to the event loop.  \n",
    "\n",
    "Event loops use *context switch* for *cooperative scheduling* :\n",
    "- An event loop **only runs one task at a time**.\n",
    "- **While a task waits** for the completion of a future, the event loop **executes another task**.  \n",
    "\n",
    "The event loop provides other features:\n",
    "- Delegate function calls to a pool of threads\n",
    "- Create client and server transports for communication\n",
    "- Create subprocesses and transports for communication with another program  \n",
    "\n",
    "NB: Other tasks may run in parallel if other event loops are running in different threads.\n",
    "\n",
    "![event-loop](http://misclassblog.com/wp-content/uploads/2013/04/event-loop.jpg)\n"
   ]
  },
  {
   "cell_type": "markdown",
   "metadata": {},
   "source": [
    "### Event Loop API"
   ]
  },
  {
   "cell_type": "code",
   "execution_count": null,
   "metadata": {
    "collapsed": true
   },
   "outputs": [],
   "source": [
    "event_loop = asyncio.get_event_loop()\n",
    "\n",
    "# event loop status\n",
    "event_loop.is_running()  # True if the event loop is running\n",
    "event_loop.is_closed()   # True if the event loop is closed\n",
    "\n",
    "# running an event loop\n",
    "event_loop.run_until_complete(future)  # run until future is done\n",
    "event_loop.run_forever()  # run until .stop() is called\n",
    "\n",
    "# stopping an event loop\n",
    "event_loop.stop()  # stop executor asap\n",
    "event_loop.close()  # clear the task queue + shut down the executor immediately (pending callbacks are lost)\n",
    "\n",
    "# futures and tasks\n",
    "event_loop.create_future()\n",
    "event_loop.create_task(coroutine)  # make task from coroutine, and schedule it\n",
    "\n",
    "# event loop calls\n",
    "event_loop.call_soon(callback)  # schedules a callback to be called asap\n",
    "event_loop.call_at(when, callback)  # schedules a callback to be called at a given timestamp\n",
    "event_loop.call_later(delay, callback)  # schedules a callback to be called after a given timeout\n",
    "event_loop.time()  # return the current time of the event loop's internal clock"
   ]
  },
  {
   "cell_type": "markdown",
   "metadata": {},
   "source": [
    "### Examples\n",
    "\n",
    "#### Define coroutines"
   ]
  },
  {
   "cell_type": "code",
   "execution_count": 4,
   "metadata": {
    "collapsed": false
   },
   "outputs": [],
   "source": [
    "async def foo():\n",
    "    print('Running foo')\n",
    "    await asyncio.sleep(.5)\n",
    "    print('Running foo again')\n",
    "    return 1\n",
    "\n",
    "\n",
    "async def bar():\n",
    "    print('Running bar')\n",
    "    await asyncio.sleep(1)\n",
    "    print('Running bar again')\n",
    "    return 2"
   ]
  },
  {
   "cell_type": "markdown",
   "metadata": {},
   "source": [
    "#### Gathering results from coroutines"
   ]
  },
  {
   "cell_type": "code",
   "execution_count": null,
   "metadata": {
    "collapsed": false
   },
   "outputs": [],
   "source": [
    "event_loop = asyncio.get_event_loop()\n",
    "\n",
    "# gather all tasks results in a future\n",
    "future = asyncio.gather(foo(), bar())\n",
    "\n",
    "# complete tasks\n",
    "results = event_loop.run_until_complete(future)\n",
    "print(results)"
   ]
  },
  {
   "cell_type": "markdown",
   "metadata": {},
   "source": [
    "#### Waiting for multiple coroutines"
   ]
  },
  {
   "cell_type": "code",
   "execution_count": null,
   "metadata": {
    "collapsed": false
   },
   "outputs": [],
   "source": [
    "event_loop = asyncio.get_event_loop()\n",
    "\n",
    "# make tasks out of coroutines\n",
    "coroutines = [foo(), bar()]\n",
    "tasks = [event_loop.create_task(coroutine) for coroutine in coroutines]\n",
    "future = asyncio.wait(tasks, return_when='ALL_COMPLETED')  # try FIRST_COMPLETED, ALL_COMPLETED, FIRST_EXCEPTION\n",
    "\n",
    "# complete tasks\n",
    "done, pending = event_loop.run_until_complete(future)\n",
    "print('TASKS DONE : ', done)\n",
    "print('TASKS PENDING : ', pending)\n"
   ]
  },
  {
   "cell_type": "markdown",
   "metadata": {},
   "source": [
    "#### Feed tasks to a forever event loop"
   ]
  },
  {
   "cell_type": "code",
   "execution_count": 10,
   "metadata": {
    "collapsed": false
   },
   "outputs": [
    {
     "name": "stdout",
     "output_type": "stream",
     "text": [
      "Running foo\n",
      "Running bar\n",
      "Running foo again\n",
      "Running bar again\n"
     ]
    },
    {
     "ename": "KeyboardInterrupt",
     "evalue": "",
     "output_type": "error",
     "traceback": [
      "\u001b[0;31m---------------------------------------------------------------------------\u001b[0m",
      "\u001b[0;31mKeyboardInterrupt\u001b[0m                         Traceback (most recent call last)",
      "\u001b[0;32m<ipython-input-10-9be37e724968>\u001b[0m in \u001b[0;36m<module>\u001b[0;34m()\u001b[0m\n\u001b[1;32m      6\u001b[0m \u001b[0;34m\u001b[0m\u001b[0m\n\u001b[1;32m      7\u001b[0m \u001b[0;31m# complete tasks\u001b[0m\u001b[0;34m\u001b[0m\u001b[0;34m\u001b[0m\u001b[0m\n\u001b[0;32m----> 8\u001b[0;31m \u001b[0mevent_loop\u001b[0m\u001b[0;34m.\u001b[0m\u001b[0mrun_forever\u001b[0m\u001b[0;34m(\u001b[0m\u001b[0;34m)\u001b[0m\u001b[0;34m\u001b[0m\u001b[0m\n\u001b[0m\u001b[1;32m      9\u001b[0m \u001b[0mevent_loop\u001b[0m\u001b[0;34m.\u001b[0m\u001b[0mstop\u001b[0m\u001b[0;34m(\u001b[0m\u001b[0;34m)\u001b[0m\u001b[0;34m\u001b[0m\u001b[0m\n",
      "\u001b[0;32m/usr/lib/python3.5/asyncio/base_events.py\u001b[0m in \u001b[0;36mrun_forever\u001b[0;34m(self)\u001b[0m\n\u001b[1;32m    343\u001b[0m         \u001b[0;32mtry\u001b[0m\u001b[0;34m:\u001b[0m\u001b[0;34m\u001b[0m\u001b[0m\n\u001b[1;32m    344\u001b[0m             \u001b[0;32mwhile\u001b[0m \u001b[0;32mTrue\u001b[0m\u001b[0;34m:\u001b[0m\u001b[0;34m\u001b[0m\u001b[0m\n\u001b[0;32m--> 345\u001b[0;31m                 \u001b[0mself\u001b[0m\u001b[0;34m.\u001b[0m\u001b[0m_run_once\u001b[0m\u001b[0;34m(\u001b[0m\u001b[0;34m)\u001b[0m\u001b[0;34m\u001b[0m\u001b[0m\n\u001b[0m\u001b[1;32m    346\u001b[0m                 \u001b[0;32mif\u001b[0m \u001b[0mself\u001b[0m\u001b[0;34m.\u001b[0m\u001b[0m_stopping\u001b[0m\u001b[0;34m:\u001b[0m\u001b[0;34m\u001b[0m\u001b[0m\n\u001b[1;32m    347\u001b[0m                     \u001b[0;32mbreak\u001b[0m\u001b[0;34m\u001b[0m\u001b[0m\n",
      "\u001b[0;32m/usr/lib/python3.5/asyncio/base_events.py\u001b[0m in \u001b[0;36m_run_once\u001b[0;34m(self)\u001b[0m\n\u001b[1;32m   1274\u001b[0m                            timeout * 1e3, dt * 1e3)\n\u001b[1;32m   1275\u001b[0m         \u001b[0;32melse\u001b[0m\u001b[0;34m:\u001b[0m\u001b[0;34m\u001b[0m\u001b[0m\n\u001b[0;32m-> 1276\u001b[0;31m             \u001b[0mevent_list\u001b[0m \u001b[0;34m=\u001b[0m \u001b[0mself\u001b[0m\u001b[0;34m.\u001b[0m\u001b[0m_selector\u001b[0m\u001b[0;34m.\u001b[0m\u001b[0mselect\u001b[0m\u001b[0;34m(\u001b[0m\u001b[0mtimeout\u001b[0m\u001b[0;34m)\u001b[0m\u001b[0;34m\u001b[0m\u001b[0m\n\u001b[0m\u001b[1;32m   1277\u001b[0m         \u001b[0mself\u001b[0m\u001b[0;34m.\u001b[0m\u001b[0m_process_events\u001b[0m\u001b[0;34m(\u001b[0m\u001b[0mevent_list\u001b[0m\u001b[0;34m)\u001b[0m\u001b[0;34m\u001b[0m\u001b[0m\n\u001b[1;32m   1278\u001b[0m \u001b[0;34m\u001b[0m\u001b[0m\n",
      "\u001b[0;32m/usr/lib/python3.5/selectors.py\u001b[0m in \u001b[0;36mselect\u001b[0;34m(self, timeout)\u001b[0m\n\u001b[1;32m    439\u001b[0m             \u001b[0mready\u001b[0m \u001b[0;34m=\u001b[0m \u001b[0;34m[\u001b[0m\u001b[0;34m]\u001b[0m\u001b[0;34m\u001b[0m\u001b[0m\n\u001b[1;32m    440\u001b[0m             \u001b[0;32mtry\u001b[0m\u001b[0;34m:\u001b[0m\u001b[0;34m\u001b[0m\u001b[0m\n\u001b[0;32m--> 441\u001b[0;31m                 \u001b[0mfd_event_list\u001b[0m \u001b[0;34m=\u001b[0m \u001b[0mself\u001b[0m\u001b[0;34m.\u001b[0m\u001b[0m_epoll\u001b[0m\u001b[0;34m.\u001b[0m\u001b[0mpoll\u001b[0m\u001b[0;34m(\u001b[0m\u001b[0mtimeout\u001b[0m\u001b[0;34m,\u001b[0m \u001b[0mmax_ev\u001b[0m\u001b[0;34m)\u001b[0m\u001b[0;34m\u001b[0m\u001b[0m\n\u001b[0m\u001b[1;32m    442\u001b[0m             \u001b[0;32mexcept\u001b[0m \u001b[0mInterruptedError\u001b[0m\u001b[0;34m:\u001b[0m\u001b[0;34m\u001b[0m\u001b[0m\n\u001b[1;32m    443\u001b[0m                 \u001b[0;32mreturn\u001b[0m \u001b[0mready\u001b[0m\u001b[0;34m\u001b[0m\u001b[0m\n",
      "\u001b[0;31mKeyboardInterrupt\u001b[0m: "
     ]
    }
   ],
   "source": [
    "event_loop = asyncio.get_event_loop()\n",
    "\n",
    "# make tasks out of coroutines\n",
    "coroutines = [foo(), bar()]\n",
    "tasks = [event_loop.create_task(coroutine) for coroutine in coroutines]\n",
    "\n",
    "# complete tasks\n",
    "event_loop.run_forever()\n",
    "event_loop.stop()"
   ]
  },
  {
   "cell_type": "markdown",
   "metadata": {},
   "source": [
    "#### Future callbacks"
   ]
  },
  {
   "cell_type": "code",
   "execution_count": 7,
   "metadata": {
    "collapsed": false
   },
   "outputs": [
    {
     "name": "stdout",
     "output_type": "stream",
     "text": [
      "Running foo\n",
      "Running foo again\n",
      "RESULT OF TASK:  1\n"
     ]
    },
    {
     "data": {
      "text/plain": [
       "1"
      ]
     },
     "execution_count": 7,
     "metadata": {},
     "output_type": "execute_result"
    }
   ],
   "source": [
    "def print_result(future):\n",
    "    print('RESULT OF TASK: ', future.result())\n",
    "\n",
    "loop = asyncio.get_event_loop()\n",
    "\n",
    "# create a task from a coroutine object\n",
    "task = loop.create_task(foo())\n",
    "\n",
    "# set callback when task is done\n",
    "task.add_done_callback(print_result)\n",
    "\n",
    "loop.run_until_complete(task)"
   ]
  }
 ],
 "metadata": {
  "kernelspec": {
   "display_name": "Python 3",
   "language": "python",
   "name": "python3"
  },
  "language_info": {
   "codemirror_mode": {
    "name": "ipython",
    "version": 3
   },
   "file_extension": ".py",
   "mimetype": "text/x-python",
   "name": "python",
   "nbconvert_exporter": "python",
   "pygments_lexer": "ipython3",
   "version": "3.5.2"
  }
 },
 "nbformat": 4,
 "nbformat_minor": 0
}
