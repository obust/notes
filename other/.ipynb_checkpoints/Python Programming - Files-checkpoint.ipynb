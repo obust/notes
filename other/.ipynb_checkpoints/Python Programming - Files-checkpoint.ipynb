{
 "cells": [
  {
   "cell_type": "markdown",
   "metadata": {},
   "source": [
    "# Python Programming - Files\n",
    "\n",
    "Il est important de pouvoir sauvegarder nos objets dans des fichiers, afin de les utiliser d'une session à l'autre de notre programme."
   ]
  },
  {
   "cell_type": "code",
   "execution_count": null,
   "metadata": {
    "collapsed": true
   },
   "outputs": [],
   "source": []
  },
  {
   "cell_type": "markdown",
   "metadata": {},
   "source": [
    "## Arborescence\n",
    "- C:\n",
    "    - test\n",
    "        - rep1\n",
    "            - fichier1.txt\n",
    "        - rep2\n",
    "            - fichier2.txt\n",
    "            - fichier3.txt\n",
    "\n",
    "**Chemin Absolus**<br>\n",
    "Permet d'accéder à un endroit dans le disque quel que soit le répertoire de travail courant<br>\n",
    "On décrit la suite des répertoires menant au fichier (en partant de 'C:/' pour Windows)<br>\n",
    "\n",
    "    - ex : C:/test/rep1/fichier1.txt\n",
    "\n",
    "**Chemin relatif**<br>\n",
    "Permet de travailler sans avoir à savoir où le projet est stocké<br>\n",
    "On tient compte du dossier dans lequel on se trouve actuellement<br>\n",
    "\n",
    "    - /rep1/fichier1.txt (cas où on est dans le dossier 'test')\n",
    "    - ../rep1/fichier1.txt (cas où on est dans le dossier 'rep2')\n",
    "\n",
    "os.getcwd() \n",
    "- permet de savoir le répertoire de travail courant (CWD = « Current Working Directory »)\n",
    "\n",
    "os.chdir\n",
    "- permet de se placer dans un répertoire de travail\n",
    "\n"
   ]
  },
  {
   "cell_type": "markdown",
   "metadata": {},
   "source": [
    "##Ouvrir\n",
    "        \n",
    "- path : renseigner le chemin relatif ou absolu\n",
    "- mode :\n",
    "    - \"r\" : lecture seule (read)\n",
    "    - \"w\" : lecture et écriture (write) => Le fichier est écrasé. S'il n'existe pas, il est créé\n",
    "    - \"a\" : ouverture en mode ajout (append) => On écrit à la fin du fichier. S'il n'existe pas, il est créé.\n",
    "    - \"rb\", \"wb\" ou \"ab\" : ouverture en mode binaire\n",
    "\n",
    "Le fichier ouvert est un Objet de la Classe **TextIOWrapper**.<br>\n",
    "On utilise donc les méthodes de cette classe (read(), close(), etc.)"
   ]
  },
  {
   "cell_type": "code",
   "execution_count": null,
   "metadata": {
    "collapsed": true
   },
   "outputs": [],
   "source": [
    "file = open(path, mode)"
   ]
  },
  {
   "cell_type": "markdown",
   "metadata": {},
   "source": [
    "**Ouverture sécurisée**<br>\n",
    "Permet de refermer le fichier dans tous les cas après le bloc d'instruction (même si une exception se produit)"
   ]
  },
  {
   "cell_type": "code",
   "execution_count": null,
   "metadata": {
    "collapsed": true
   },
   "outputs": [],
   "source": [
    "with open(path, mode) as file:\n",
    "    # instructions"
   ]
  },
  {
   "cell_type": "markdown",
   "metadata": {},
   "source": [
    "##Lire"
   ]
  },
  {
   "cell_type": "code",
   "execution_count": null,
   "metadata": {
    "collapsed": true
   },
   "outputs": [],
   "source": [
    "file.read() # lit l'intégralité de 'file'"
   ]
  },
  {
   "cell_type": "markdown",
   "metadata": {},
   "source": [
    "## Ecrire\n",
    "La méthode write() n'accepte que des chaines de caractères en paramètre. Il faut donc convertir en 'str' les autres types de données que l'on veut stocker..."
   ]
  },
  {
   "cell_type": "code",
   "execution_count": null,
   "metadata": {
    "collapsed": true
   },
   "outputs": [],
   "source": [
    "content = 'This will be store in my file.'\n",
    "file.write(content)"
   ]
  },
  {
   "cell_type": "markdown",
   "metadata": {},
   "source": [
    "## Fermer\n",
    "Il faut absolument refermer un fichier après son utilisation, sinon on risque de ne plus pouvoir y avoir accès"
   ]
  },
  {
   "cell_type": "code",
   "execution_count": null,
   "metadata": {
    "collapsed": true
   },
   "outputs": [],
   "source": [
    "file.close()\n",
    "file.closed # renvoie True si le fichier est refermé, False sinon"
   ]
  },
  {
   "cell_type": "code",
   "execution_count": null,
   "metadata": {
    "collapsed": true
   },
   "outputs": [],
   "source": [
    "# cas normal\n",
    "file = open(\"fichier.txt\", \"r\")\n",
    "type(file) # <class '_io.TextIOWrapper'>\n",
    "contenu = file.read()\n",
    "print(contenu)\n",
    "file.close()\n",
    "file.closed  # True\n",
    "\n",
    "# cas sécurisé\n",
    "with open(\"fichier.txt\", \"r\") as file:\n",
    "    content = file.read()\n",
    "    print(content)\n",
    "file.closed  # True"
   ]
  },
  {
   "cell_type": "markdown",
   "metadata": {},
   "source": [
    "## Enregistrer un Objet - module pickle\n",
    "\n",
    "**CLASS Pickler**<br>\n",
    "Permet de créer un Objet Pickler capable d'enregistrer d'autres objets : class TextIOWrapper -> class Pickler\n",
    "- METHODE .dump(Objet) : permet d'enregistrer les objets dans le Pickler\n",
    "\n",
    "\n",
    "**CLASS Unpickler**<br>\n",
    "Permet de créer un Objet Unpickler capable de récupérer d'autres objets : class TextIOWrapper -> class Unpickler\n",
    "- METHODE .load(Objet) : permet de lire l'objets dans notre Unpickler\n",
    "\n",
    "NB : penser à **ouvrir le fichier en mode binaire ('rb', 'wb' ou 'ab')**"
   ]
  },
  {
   "cell_type": "code",
   "execution_count": null,
   "metadata": {
    "collapsed": true
   },
   "outputs": [],
   "source": [
    "scores = {\n",
    "    \"joueur 1\":    5,\n",
    "    \"joueur 2\":   35,\n",
    "    \"joueur 3\":   20,\n",
    "    \"joueur 4\":    2,\n",
    "}\n",
    "\n",
    "import pickle\n",
    "\n",
    "# Save Object\n",
    "with open('donnees', 'wb') as file: # ouvre le fichier en binaire\n",
    "    myPickler = pickle.Pickler(file) # transforme en objet Pickler\n",
    "    myPickler.dump(scores) # enregistre l'objet score\n",
    "\n",
    "# Load Object\n",
    "with open('donnees', 'rb') as file:\n",
    "    myUnpickler = pickle.Unpickler(file)\n",
    "    scores_loaded = myUnpickler.load()"
   ]
  }
 ],
 "metadata": {
  "kernelspec": {
   "display_name": "Python 3",
   "language": "python",
   "name": "python3"
  },
  "language_info": {
   "codemirror_mode": {
    "name": "ipython",
    "version": 3
   },
   "file_extension": ".py",
   "mimetype": "text/x-python",
   "name": "python",
   "nbconvert_exporter": "python",
   "pygments_lexer": "ipython3",
   "version": "3.4.3"
  }
 },
 "nbformat": 4,
 "nbformat_minor": 0
}
