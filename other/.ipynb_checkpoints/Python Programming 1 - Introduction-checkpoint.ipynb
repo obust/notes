{
 "cells": [
  {
   "cell_type": "markdown",
   "metadata": {},
   "source": [
    "# Python Programming - Introduction"
   ]
  },
  {
   "cell_type": "markdown",
   "metadata": {},
   "source": [
    "## Sommaire"
   ]
  },
  {
   "cell_type": "markdown",
   "metadata": {},
   "source": [
    "1. Item 1\n",
    "  1. A corollary to the above item.\n",
    "  2. Yet another point to consider.\n",
    "2. Item 2\n",
    "  * A corollary that does not need to be ordered.\n",
    "    * This is indented four spaces, because it's two spaces further than the item above.\n",
    "    * You might want to consider making a new list.\n",
    "3. Item 3\n",
    "\n",
    "[subtitle](#Hello-World)"
   ]
  },
  {
   "cell_type": "markdown",
   "metadata": {},
   "source": [
    "##Conditions"
   ]
  },
  {
   "cell_type": "code",
   "execution_count": 5,
   "metadata": {
    "collapsed": false,
    "scrolled": true
   },
   "outputs": [
    {
     "name": "stdout",
     "output_type": "stream",
     "text": [
      "bissextile\n"
     ]
    }
   ],
   "source": [
    "a = 2012\n",
    "\n",
    "if a%4 == 0:\n",
    "    print(\"bissextile\")\n",
    "else:\n",
    "    if a%100 == 0:\n",
    "        if a%400 == 0:\n",
    "            print(\"bissextile\")\n",
    "        else:\n",
    "            print(\"non bissextile\")\n",
    "    else:\n",
    "        print(\"non bissextile\")\n",
    "\n"
   ]
  },
  {
   "cell_type": "markdown",
   "metadata": {},
   "source": [
    "## Opération Logiques"
   ]
  },
  {
   "cell_type": "markdown",
   "metadata": {},
   "source": [
    "- '=='  : égal à\n",
    "- '!='  : différent de\n",
    "- '<'   : inférieur à\n",
    "- '<='  : inférieur ou égal à\n",
    "- '>='  : supérieur ou égal à\n",
    "- '>'   : supérieur à"
   ]
  },
  {
   "cell_type": "markdown",
   "metadata": {},
   "source": [
    "- 'and' : opérateur ET\n",
    "- 'or' : opérateur OU\n",
    "- 'not' : opérateur négation"
   ]
  },
  {
   "cell_type": "markdown",
   "metadata": {},
   "source": [
    "## Boucle: while\n",
    "\n",
    "- permet de répéter un bloc d'instructions tant qu'une condition est vraie\n",
    "- attention aux boucles infinies !\n",
    "- mot-clé 'continue' : permet de passer à la prochaine iteration de boucle, sans exécuter le reste des instructions de la boucle en cours\n",
    "- mot-clé 'break' : permet d'interrompre la boucle"
   ]
  },
  {
   "cell_type": "code",
   "execution_count": null,
   "metadata": {
    "collapsed": true
   },
   "outputs": [],
   "source": [
    "while condition:\n",
    "    # instruction 1\n",
    "    # instruction 2\n",
    "    # ..."
   ]
  },
  {
   "cell_type": "code",
   "execution_count": null,
   "metadata": {
    "collapsed": true
   },
   "outputs": [],
   "source": [
    "# afficher la table de multiplication de 7\n",
    "k = 7\n",
    "i = 0\n",
    "while i < 10:\n",
    "    print(i + 1, \"*\", k, \"=\", (i + 1) * k)\n",
    "    i += 1"
   ]
  },
  {
   "cell_type": "code",
   "execution_count": null,
   "metadata": {
    "collapsed": true
   },
   "outputs": [],
   "source": [
    "# afficher les nombres impaires inférieurs à 20\n",
    "i = 0\n",
    "while i < 20:\n",
    "    i += 1\n",
    "    if i % 2 == 0:\n",
    "        continue # on retourne au while sans exécuter les autres lignes\n",
    "    print(i, \" est un nombre impair\")"
   ]
  },
  {
   "cell_type": "markdown",
   "metadata": {},
   "source": [
    "## Boucle: for\n",
    "\n",
    "- permet de parcourir une **séquence** de plusieurs données"
   ]
  },
  {
   "cell_type": "code",
   "execution_count": null,
   "metadata": {
    "collapsed": true
   },
   "outputs": [],
   "source": [
    "for element in sequence :\n",
    "    # instruction 1\n",
    "    # instruction 2\n",
    "    # ..."
   ]
  },
  {
   "cell_type": "code",
   "execution_count": null,
   "metadata": {
    "collapsed": true
   },
   "outputs": [],
   "source": [
    "# ex: afficher le lettres d'une chaine\n",
    "chaine = \"Bonjour\"\n",
    "for lettre in chaine:\n",
    "    print(lettre)"
   ]
  },
  {
   "cell_type": "code",
   "execution_count": null,
   "metadata": {
    "collapsed": true
   },
   "outputs": [],
   "source": [
    "# ex: afficher les voyelles\n",
    "chaine = \"Bonjour\"\n",
    "for lettre in chaine:\n",
    "    if lettre in \"AEIOUYaeiouy\":\n",
    "        print(lettre)\n",
    "    else:\n",
    "        print(\"*\")"
   ]
  },
  {
   "cell_type": "markdown",
   "metadata": {},
   "source": [
    "## Fonction"
   ]
  },
  {
   "cell_type": "code",
   "execution_count": null,
   "metadata": {
    "collapsed": true
   },
   "outputs": [],
   "source": [
    "def myFunction(arg1, arg2):\n",
    "    \"\"\"Docstring: string called with keyword 'help': help(functionName)\"\"\"\n",
    "    \n",
    "    # instruction 1\n",
    "    # instruction 2\n",
    "    # ..."
   ]
  },
  {
   "cell_type": "code",
   "execution_count": 18,
   "metadata": {
    "collapsed": false
   },
   "outputs": [
    {
     "name": "stdout",
     "output_type": "stream",
     "text": [
      "a = 1 , b = 2 , c = 3 , d = 4 , e = 5\n",
      "a = -1 , b = 2 , c = 3 , d = 4 , e = 5\n",
      "a = 1 , b = 8 , c = 3 , d = 0 , e = 5\n",
      "a = 4 , b = 35 , c = 48 , d = 4 , e = 9\n"
     ]
    }
   ],
   "source": [
    "# ex: argument assignment\n",
    "def test(a=1, b=2, c=3, d=4, e=5):\n",
    "    print(\"a =\", a, \", b =\", b, \", c =\", c, \", d =\", d, \", e =\", e)\n",
    "\n",
    "test()\n",
    "test(-1)\n",
    "test(b=8, d=0)\n",
    "test(b=35, c=48, a=4, e=9)"
   ]
  },
  {
   "cell_type": "code",
   "execution_count": null,
   "metadata": {
    "collapsed": true
   },
   "outputs": [],
   "source": [
    "# ex: table de multiplication\n",
    "def table(k, maxi=10):\n",
    "    \"\"\"Fonction affichant la table de multiplication de nb, de 1*k à maxi*k\"\"\"\n",
    "    \n",
    "    i = 0\n",
    "    while i < maxi:\n",
    "        print(i + 1, \"*\", nb, \"=\", (i + 1) * nb)\n",
    "        i += 1\n",
    "\n",
    "table(7)\n",
    "table(7,20)\n",
    "table(nb=7, maxi=20)\n",
    "table(maxi=20, nb=7)"
   ]
  },
  {
   "cell_type": "markdown",
   "metadata": {},
   "source": [
    "## Fonction Lambda\n",
    "\n",
    "- fonctions extrêmement courtes, limitées à une seule instruction\n",
    "- on les stocke dans des variables : nomVariable = lambda arg1, arg2: instruction"
   ]
  },
  {
   "cell_type": "code",
   "execution_count": null,
   "metadata": {
    "collapsed": true
   },
   "outputs": [],
   "source": [
    "nomVariable = lambda arg1, arg2: instruction"
   ]
  },
  {
   "cell_type": "code",
   "execution_count": 21,
   "metadata": {
    "collapsed": false
   },
   "outputs": [
    {
     "data": {
      "text/plain": [
       "25"
      ]
     },
     "execution_count": 21,
     "metadata": {},
     "output_type": "execute_result"
    }
   ],
   "source": [
    "# ex: fonction carré\n",
    "carre = lambda x: x*x\n",
    "carre(5)"
   ]
  },
  {
   "cell_type": "code",
   "execution_count": 22,
   "metadata": {
    "collapsed": false
   },
   "outputs": [
    {
     "data": {
      "text/plain": [
       "7"
      ]
     },
     "execution_count": 22,
     "metadata": {},
     "output_type": "execute_result"
    }
   ],
   "source": [
    "# ex: fonction addition\n",
    "addition = lambda x, y: x+y\n",
    "addition(5, 2)"
   ]
  },
  {
   "cell_type": "markdown",
   "metadata": {},
   "source": [
    "## Exception\n",
    "\n",
    "- try : bloc d'instructions à essayer\n",
    "- except : bloc d'instructions exécuté si une erreur est trouvée dans le bloc try\n",
    "- else (facultatif) : bloc d'instruction exécuté si aucune erreur ne survient dans le bloc try\n",
    "- finally (facultatif) : bloc d'instruction exécuté DANS TOUS LES CAS après le bloc try (même s'il y a une exception, un return,...)\n",
    "- mot clef 'raise' : permet de lever une exception\n",
    "\traise TypeDeLException(\"message à afficher\")\n",
    "- mot clef 'pass' : permet de laisser couler une exception\n",
    "\n"
   ]
  },
  {
   "cell_type": "code",
   "execution_count": null,
   "metadata": {
    "collapsed": true
   },
   "outputs": [],
   "source": [
    "# Syntaxe minimale\n",
    "try:\n",
    "    # instruction 1\n",
    "    # instruction 2\n",
    "    # ...\n",
    "except:\n",
    "    # instruction when catching an error\n",
    "    # ...\n",
    "\n",
    "# Syntaxe complete\n",
    "try:\n",
    "    # instruction 1\n",
    "    # instruction 2\n",
    "    # ...\n",
    "except exceptionType1 as e:\n",
    "    # instruction when catching this type of exception\n",
    "    # ...\n",
    "except exceptionType2 as e:\n",
    "    # instruction when catching this type of exception\n",
    "    # ...\n",
    "finally\n",
    "    # instruction to do anyway"
   ]
  },
  {
   "cell_type": "code",
   "execution_count": 38,
   "metadata": {
    "collapsed": false
   },
   "outputs": [
    {
     "name": "stdout",
     "output_type": "stream",
     "text": [
      "Hello\n",
      "You are John\n"
     ]
    }
   ],
   "source": [
    "# ex: Catch an error\n",
    "name = \"Bob\"\n",
    "try:\n",
    "    print(\"Hello\")\n",
    "    int(name) # try to convert name to int\n",
    "    print(\"my man !\")\n",
    "except:\n",
    "    name = \"John\"\n",
    "    \n",
    "print(\"You are\", name)"
   ]
  },
  {
   "cell_type": "code",
   "execution_count": 32,
   "metadata": {
    "collapsed": false
   },
   "outputs": [
    {
     "name": "stdout",
     "output_type": "stream",
     "text": [
      "La variable numerateur ou denominateur n'a pas été définie.\n"
     ]
    }
   ],
   "source": [
    "# ex: Some exception types\n",
    "try:\n",
    "    resultat = numerateur / denominateur\n",
    "except NameError:\n",
    "    print(\"La variable numerateur ou denominateur n'a pas été définie.\")\n",
    "except TypeError:\n",
    "    print(\"La variable numerateur ou denominateur possède un type incompatible avec la division.\")\n",
    "except ZeroDivisionError:\n",
    "    print(\"La variable denominateur est égale à 0.\")\n",
    "else:\n",
    "    print(\"Le résultat obtenu est\", resultat)"
   ]
  },
  {
   "cell_type": "code",
   "execution_count": null,
   "metadata": {
    "collapsed": true
   },
   "outputs": [],
   "source": [
    "# ValueError type\n",
    "annee = input()\n",
    "try:\n",
    "    annee = int(annee) # On tente de convertir l'année\n",
    "    if annee<=0:\n",
    "        raise ValueError(\"l'année saisie est négative ou nulle\")\n",
    "except ValueError:\n",
    "    print(\"La valeur saisie est invalide (l'année est peut-être négative).\")"
   ]
  },
  {
   "cell_type": "code",
   "execution_count": null,
   "metadata": {
    "collapsed": true
   },
   "outputs": [],
   "source": []
  },
  {
   "cell_type": "markdown",
   "metadata": {},
   "source": [
    "## Package, Modules & Fonctions\n",
    "- un Package est un dossier (ou sous-dossier) contenant des Modules\n",
    "- un Module est un fichier .py contenant des Fonctions\n",
    "\n",
    "La plupart des fonctionnalités de Python sont apportées par des modules. La [Python Standard Library](http://docs.python.org/2/library/) est une grande collection de modules qui apportent des fonctionnalités cross-platform communes telles que : access to the operating system, file I/O, string management, network communication, etc...\n",
    "\n",
    "**Importation de module**\n",
    "- mot-clé 'import'\n",
    "- donne accès à toutes les fonctions du package/module\n",
    "- la liste des fonctions concernées est disponible via le docstring : help(\"math\") ou help(\"math.sqrt\")\n",
    "- se déplacer dans le docstring : \n",
    "    * Q = revenir à l'interpréteur\n",
    "    * ESPACE = avance d'une page\n",
    "    * ENTREE = avance d'une ligne\n",
    "\n",
    "**Exemple de hierarchie**\n",
    "- package bibliothequeX\n",
    "    - package evenements\n",
    "        - module clavier\n",
    "        - module souris\n",
    "    - package effets (contenant les differents effets graphique: translation, rotation, fondu, ...)\n",
    "    - package objets (contenant les differents objets graphiques: boutons, zones de texte, barres de menu,...)"
   ]
  },
  {
   "cell_type": "code",
   "execution_count": null,
   "metadata": {
    "collapsed": true
   },
   "outputs": [],
   "source": [
    "# importation globale\n",
    "import nomModule\n",
    "import nomPackage.nomModule\n",
    "# appel des fonctions : nomPackage.nomModule.nomFonction1()\n",
    "\n",
    "# importation spécifique (importe les fonctions dans le namespace en cours = pas besoin de préfix pour les appeler)\n",
    "from nomModule import nomFonction1, nomFonction2\n",
    "from nomModule import *\n",
    "from nomPackage.nomModule import nomFonction1, nomFonction2\n",
    "# appel des fonctions : nomFonction1()"
   ]
  },
  {
   "cell_type": "code",
   "execution_count": null,
   "metadata": {
    "collapsed": true
   },
   "outputs": [],
   "source": [
    "# ex: docstring module\n",
    "help(math)"
   ]
  },
  {
   "cell_type": "code",
   "execution_count": 25,
   "metadata": {
    "collapsed": false
   },
   "outputs": [
    {
     "data": {
      "text/plain": [
       "4.0"
      ]
     },
     "execution_count": 25,
     "metadata": {},
     "output_type": "execute_result"
    }
   ],
   "source": [
    "# ex: importation globale\n",
    "import math\n",
    "math.sqrt(16)"
   ]
  },
  {
   "cell_type": "code",
   "execution_count": 40,
   "metadata": {
    "collapsed": false
   },
   "outputs": [
    {
     "data": {
      "text/plain": [
       "1.0"
      ]
     },
     "execution_count": 40,
     "metadata": {},
     "output_type": "execute_result"
    }
   ],
   "source": [
    "# ex: importation spécifique\n",
    "from math import cos, pi\n",
    "cos(2 * pi)"
   ]
  }
 ],
 "metadata": {
  "kernelspec": {
   "display_name": "Python 3",
   "language": "python",
   "name": "python3"
  },
  "language_info": {
   "codemirror_mode": {
    "name": "ipython",
    "version": 3
   },
   "file_extension": ".py",
   "mimetype": "text/x-python",
   "name": "python",
   "nbconvert_exporter": "python",
   "pygments_lexer": "ipython3",
   "version": "3.4.3"
  }
 },
 "nbformat": 4,
 "nbformat_minor": 0
}
