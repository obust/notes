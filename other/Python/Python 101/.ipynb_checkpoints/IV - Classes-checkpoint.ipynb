{
 "cells": [
  {
   "cell_type": "markdown",
   "metadata": {},
   "source": [
    "# Python IV - Classes"
   ]
  },
  {
   "cell_type": "markdown",
   "metadata": {},
   "source": []
  },
  {
   "cell_type": "markdown",
   "metadata": {},
   "source": [
    "## Summary\n",
    "\n",
    "1. [Class Basics](#1.-Class-Basics)<br>\n",
    "    1.1 Objects and Class<br>\n",
    "    1.2 Class Syntax\n",
    "    1.3 Class Scope\n",
    "2. [Inheritance]()<br>\n",
    "    2.1 Inheritance Syntax<br>\n",
    "    2.2 Override<br>\n",
    "3. []()<br>\n",
    "    3.1 <br>\n",
    "    3.1 "
   ]
  },
  {
   "cell_type": "markdown",
   "metadata": {},
   "source": [
    "## 1. Class Basics"
   ]
  },
  {
   "cell_type": "markdown",
   "metadata": {},
   "source": [
    "## 1.1 Objects and Class\n",
    "\n",
    "Python is an Object-Oriented Programming language (OOP), which means it manipulates programming constructs called **objects**.<br>\n",
    "\n",
    "A **class** is a data structure that ***establishes a model*** for some entity (ex: a car, a user, a shopping cart, etc.).<br>\n",
    "The model of a class is composed of data as well as functions.\n",
    "- data of a class are called **attributes**\n",
    "- functions of a class are called **methods**\n",
    "\n",
    "An **object** is an instance / a member of a class. It follows the class structure.<br>\n",
    "Once instanciated, you can call the object's attributes and methods.\n",
    "\n",
    "For example:\n",
    "- When you call `len(\"my string here\")`, Python checks to see whether the string object you passed it has a `length` attribute, and if it does, it returns the value associated with that attribute. \n",
    "- When you call `my_dict.items()`, Python checks to see if the object `my_dict` of class Dict has an `.items()` method and executes that method if it finds it."
   ]
  },
  {
   "cell_type": "code",
   "execution_count": 11,
   "metadata": {
    "collapsed": false
   },
   "outputs": [
    {
     "name": "stdout",
     "output_type": "stream",
     "text": [
      "I'm a yellow lemon and I taste sour.\n",
      "Yep! I'm edible.\n"
     ]
    }
   ],
   "source": [
    "# Define a Fruit class\n",
    "class Fruit(object):\n",
    "    \"\"\"A class that makes various tasty fruits.\"\"\"\n",
    "    def __init__(self, name, color, flavor, poisonous):\n",
    "        self.name = name\n",
    "        self.color = color\n",
    "        self.flavor = flavor\n",
    "        self.poisonous = poisonous\n",
    "\n",
    "    def description(self):\n",
    "        print(\"I'm a {} {} and I taste {}.\".format(self.color, self.name, self.flavor))\n",
    "\n",
    "    def is_edible(self):\n",
    "        if not self.poisonous:\n",
    "            print(\"Yep! I'm edible.\")\n",
    "        else:\n",
    "            print(\"Don't eat me! I am super poisonous.\")\n",
    "\n",
    "# Create a lemon instance\n",
    "lemon = Fruit(\"lemon\", \"yellow\", \"sour\", False)\n",
    "\n",
    "# Call methods of the object\n",
    "lemon.description()\n",
    "lemon.is_edible()"
   ]
  },
  {
   "cell_type": "markdown",
   "metadata": {},
   "source": [
    "The **`dir()`** function will list an object's attributes and methods."
   ]
  },
  {
   "cell_type": "code",
   "execution_count": null,
   "metadata": {
    "collapsed": true
   },
   "outputs": [],
   "source": [
    "my_object = [1, 2]\n",
    "dir(my_object)"
   ]
  },
  {
   "cell_type": "markdown",
   "metadata": {},
   "source": [
    "The **`__dict__`** special attribute will return a dictionnary with the objects attribut's names as keys, and attribut's values as value"
   ]
  },
  {
   "cell_type": "code",
   "execution_count": 12,
   "metadata": {
    "collapsed": false
   },
   "outputs": [
    {
     "data": {
      "text/plain": [
       "{'color': 'yellow', 'flavor': 'sour', 'name': 'lemon', 'poisonous': False}"
      ]
     },
     "execution_count": 12,
     "metadata": {},
     "output_type": "execute_result"
    }
   ],
   "source": [
    "lemon = Fruit(\"lemon\", \"yellow\", \"sour\", False)\n",
    "lemon.__dict__"
   ]
  },
  {
   "cell_type": "markdown",
   "metadata": {},
   "source": [
    "## 1.2 Class Syntax\n",
    "\n",
    "A basic class syntax consists only of :\n",
    "1. the `class` keyword\n",
    "2. the name of the class (in PascalCase)\n",
    "3. the class from which the new class inherits in parentheses (by default, use the object class)\n",
    "4. the initializing function `__init__()` (by default, give it the self argument)"
   ]
  },
  {
   "cell_type": "code",
   "execution_count": null,
   "metadata": {
    "collapsed": true
   },
   "outputs": [],
   "source": [
    "class NewClass(object):\n",
    "    \n",
    "    def __init(self):\n",
    "        # initializing instructions"
   ]
  },
  {
   "cell_type": "markdown",
   "metadata": {},
   "source": [
    "#### Special method `__init__()`\n",
    "\n",
    "The `__init__()` method is used to initialize the objects it creates. It is the function that \"boots up\" each object the class creates.\n",
    "\n",
    "The first argument `__init__()` gets is used to refer to the instance object, just like a variable refers to an object, and by convention, that argument is called `self`. If you add additional arguments, Python will expect these arguments when instanciating an object of this class."
   ]
  },
  {
   "cell_type": "markdown",
   "metadata": {},
   "source": [
    "#### self \n",
    "\n",
    "By using `self`, `__init__()` can \"boot up\" each object **to expect attributes**."
   ]
  },
  {
   "cell_type": "code",
   "execution_count": 5,
   "metadata": {
    "collapsed": false
   },
   "outputs": [
    {
     "name": "stdout",
     "output_type": "stream",
     "text": [
      "Jeffrey 2\n",
      "Bruce 7\n"
     ]
    }
   ],
   "source": [
    "class Animal(object):\n",
    "    \n",
    "    def __init__(self, name, age):\n",
    "        self.name = name\n",
    "        self.age = age\n",
    "\n",
    "zebra = Animal(\"Jeffrey\", 2)\n",
    "giraffe = Animal(\"Bruce\", 7)\n",
    "\n",
    "print(zebra.name, zebra.age)\n",
    "print(giraffe.name, giraffe.age)"
   ]
  },
  {
   "cell_type": "markdown",
   "metadata": {},
   "source": [
    "## 1.3 Attributes\n",
    "\n",
    "Attributes **characterize** an object. They are variables common in all objects of the class but which values are specific to each instance of the class.\n",
    "\n",
    "In many cases, it is necessary to keep control over reading and writing certain attributes.<br>\n",
    "We may want to :\n",
    "- process the data before setting it as an attribute\n",
    "- process an attribute before the data before returning it\n",
    "- modify another attribute when an attribute is changed\n",
    "- make an attribute unchangeable\n",
    "- etc.\n",
    "\n",
    "In many languages, this is done through privacy, setters and getters. \n",
    "In Python all attributes are public, and it uses **privacy** and **properties** to deal with this matter."
   ]
  },
  {
   "cell_type": "code",
   "execution_count": null,
   "metadata": {
    "collapsed": true
   },
   "outputs": [],
   "source": []
  },
  {
   "cell_type": "markdown",
   "metadata": {},
   "source": [
    "### 1.3.2 Private Attributes\n",
    "\n",
    "Attributes with a double underscore prefix are not directly accessible externally."
   ]
  },
  {
   "cell_type": "code",
   "execution_count": null,
   "metadata": {
    "collapsed": true
   },
   "outputs": [],
   "source": [
    "class Counter(object):\n",
    "    __privateCount = 0\n",
    "    \n",
    "    def count(self):\n",
    "        self.__privateCount += 1\n",
    "        print(self.__privateCount)\n",
    "\n",
    "my_counter = Counter()\n",
    "my_counter.count()\n",
    "my_counter.count()\n",
    "print(my_counter.__privateCount)"
   ]
  },
  {
   "cell_type": "markdown",
   "metadata": {},
   "source": [
    "### 1.3.3 Properties\n",
    "\n",
    "Properties are identical to getters and setters but are syntactically identical to attribute access. This makes it transparent from the client's point of view.\n",
    "\n",
    "The `@property` decorator turns the `my_attr()` method into a \"getter\" for a read-only attribute with the same name.\n",
    "A property object has `.getter()`, `.setter()`, and `.deleter()` methods usable as decorators. The property works in the background with a private attribute `__my_attr` invisible to the client.\n",
    "\n",
    "Python will then call the appropriate getter, setter or deleter of our property depending on the action the client is trying to do on the corresponding attribute."
   ]
  },
  {
   "cell_type": "code",
   "execution_count": null,
   "metadata": {
    "collapsed": true
   },
   "outputs": [],
   "source": [
    "class MyClass(object):\n",
    "          \n",
    "    @property\n",
    "    def my_attr(self):\n",
    "        return self.__my_attr\n",
    "\n",
    "    @my_attr.setter\n",
    "    def my_attr(self, x):\n",
    "        self.__my_attr = x\n",
    "        \n",
    "    @my_attr.deleter\n",
    "    def my_attr(self):\n",
    "        del self.__my_attr       "
   ]
  },
  {
   "cell_type": "markdown",
   "metadata": {},
   "source": [
    "## 1.4 Methods\n",
    "Methods are **actions**."
   ]
  },
  {
   "cell_type": "markdown",
   "metadata": {},
   "source": [
    "### 1.4.1 Instance Methods — self\n",
    "\n",
    "An **Instance Method** has access to the object that is calling it (ie the instance itself).\n",
    "\n",
    "- Instance method must have a reference to an object as the first parameter : use the **`self`** convention.<br>\n",
    "The variable `self` will then reference the object calling the method so that the instance can be used inside the instance method.\n",
    "\n",
    "NB: by default, all methods are instance methods, and therefore take `self` as the first parameter."
   ]
  },
  {
   "cell_type": "code",
   "execution_count": null,
   "metadata": {
    "collapsed": true
   },
   "outputs": [],
   "source": [
    "def my_instance_method(self, [args]):\n",
    "    # instructions"
   ]
  },
  {
   "cell_type": "markdown",
   "metadata": {},
   "source": [
    "### 1.4.2 Class Methods — cls\n",
    "\n",
    "A **Class Method** has access to the class that is calling it.\n",
    "\n",
    "- Class Methods must have a reference to a class object as the first parameter : use the **`cls`** convention.<br>The variable `cls` will then reference the class of the object calling the method so that the class can be used inside the class method.\n",
    "- Class Methods must be explicit : use the **`@classmethod`** decorator."
   ]
  },
  {
   "cell_type": "code",
   "execution_count": null,
   "metadata": {
    "collapsed": true
   },
   "outputs": [],
   "source": [
    "@classmethod\n",
    "def my_class_method(cls, [args]):\n",
    "    # instructions"
   ]
  },
  {
   "cell_type": "code",
   "execution_count": null,
   "metadata": {
    "collapsed": true
   },
   "outputs": [],
   "source": [
    "# Ex: create a Date class instances having source encoded as a string of format ('dd-mm-yyyy')\n",
    "\n",
    "@classmethod\n",
    "def from_string(cls, date_as_string):\n",
    "    day, month, year = map(int, date_as_string.split('-'))\n",
    "    new_date = cls(day, month, year)\n",
    "    return new_date\n",
    "\n",
    "my_date = Date.from_string('11-09-2012')"
   ]
  },
  {
   "cell_type": "markdown",
   "metadata": {},
   "source": [
    "### 1.4.3 Static Methods\n",
    "\n",
    "A **Static Method** has no access to the object nor the class that is calling it.<br>\n",
    "It is basically just a function, called syntactically like a method.\n",
    "\n",
    "- Static Methods doesn't take any obligatory parameters. (unlike Instance Methods or Class Methods).\n",
    "- Static Methods must be explicit; use the **`@staticmethod`** decorator."
   ]
  },
  {
   "cell_type": "code",
   "execution_count": null,
   "metadata": {
    "collapsed": true
   },
   "outputs": [],
   "source": [
    "@staticmethod\n",
    "def my_static_method([args]):\n",
    "    # instructions"
   ]
  },
  {
   "cell_type": "code",
   "execution_count": null,
   "metadata": {
    "collapsed": true
   },
   "outputs": [],
   "source": [
    "@staticmethod\n",
    "def is_date_valid(date_as_string):\n",
    "    day, month, year = map(int, date_as_string.split('-'))\n",
    "    return day <= 31 and month <= 12 and year <= 3999\n",
    "\n",
    "if(Date.is_date_valid('22-04-1990')):\n",
    "    # ..."
   ]
  },
  {
   "cell_type": "markdown",
   "metadata": {},
   "source": [
    "## 2. Inheritance\n",
    "\n",
    "Inheritance is the process by which one class takes on the attributes and methods of another, and it's used to express an **is-a** relationship.<br>\n",
    "For example, a car **is a** vehicule, and a truck **is a** vehicule as well. So both Car class and Truck class could inherit from a Vehicule class, meaning inherit the data structure of Vehicule (attributes and methods)."
   ]
  },
  {
   "cell_type": "markdown",
   "metadata": {},
   "source": [
    "### 2.1 Inheritance Syntax"
   ]
  },
  {
   "cell_type": "code",
   "execution_count": null,
   "metadata": {
    "collapsed": true
   },
   "outputs": [],
   "source": [
    "class DerivedClass(BaseClass):\n",
    "    # code goes here"
   ]
  },
  {
   "cell_type": "code",
   "execution_count": null,
   "metadata": {
    "collapsed": true
   },
   "outputs": [],
   "source": [
    "class Customer(object):\n",
    "    \"\"\"Produces objects that represent customers.\"\"\"\n",
    "    def __init__(self, customer_id):\n",
    "        self.customer_id = customer_id\n",
    "\n",
    "    def display_cart(self):\n",
    "        print \"I'm a string that stands in for the contents of your shopping cart!\"\n",
    "\n",
    "class ReturningCustomer(Customer):\n",
    "    \"\"\"For customers of the repeat variety.\"\"\"\n",
    "    def display_order_history(self):\n",
    "        print \"I'm a string that stands in for your order history!\"\n",
    "\n",
    "monty_python = ReturningCustomer(\"ID: 12345\")\n",
    "monty_python.display_cart()\n",
    "monty_python.display_order_history()"
   ]
  },
  {
   "cell_type": "markdown",
   "metadata": {},
   "source": [
    "### 2.2 Override\n",
    "\n",
    "Sometimes you'll want one class that inherits from another to not only take on the methods and attributes of its parent, but to **override** one or more of them."
   ]
  },
  {
   "cell_type": "code",
   "execution_count": null,
   "metadata": {
    "collapsed": true
   },
   "outputs": [],
   "source": [
    "class Employee(object):\n",
    "    def __init__(self, name):\n",
    "        self.name = name\n",
    "    def greet(self, other):\n",
    "        print(\"Hello, {}\".format(other.name))\n",
    "\n",
    "class CEO(Employee):\n",
    "    def greet(self, other):\n",
    "        print(\"Get back to work, {}!\".format(other.name))\n",
    "\n",
    "ceo = CEO(\"Emily\")\n",
    "emp = Employee(\"Steve\")\n",
    "\n",
    "emp.greet(ceo) # Hello, Emily\n",
    "ceo.greet(emp) # Get back to work, Steve!"
   ]
  },
  {
   "cell_type": "code",
   "execution_count": null,
   "metadata": {
    "collapsed": true
   },
   "outputs": [],
   "source": []
  },
  {
   "cell_type": "markdown",
   "metadata": {},
   "source": [
    "A derived class (or **subclass**) may override a method or attribute defined in that class' base class (or **superclass**) that you actually need.<br>\n",
    "You can directly access the attributes or methods of a superclass with Python's built-in '`super`' call."
   ]
  },
  {
   "cell_type": "code",
   "execution_count": null,
   "metadata": {
    "collapsed": true
   },
   "outputs": [],
   "source": [
    "class DerivedClass(BaseClass):\n",
    "   def base_method(self):\n",
    "       return super(DerivedClass, self).base_method()"
   ]
  },
  {
   "cell_type": "code",
   "execution_count": null,
   "metadata": {
    "collapsed": true
   },
   "outputs": [],
   "source": []
  },
  {
   "cell_type": "markdown",
   "metadata": {},
   "source": [
    "### 2.3 Base Class Methods\n",
    "Some useful class methods to override"
   ]
  },
  {
   "cell_type": "code",
   "execution_count": null,
   "metadata": {
    "collapsed": true
   },
   "outputs": [],
   "source": [
    "# Constructor\n",
    "__init__ (self [,args]) \n",
    "obj = ClassName(args)\n",
    "\n",
    "# Destructor, deletes an object\n",
    "__del__(self) \n",
    "del obj\n",
    "\n",
    "# Evaluatable string representation\n",
    "__repr__(self) \n",
    "repr(obj)\n",
    "\n",
    "# Printable string representation\n",
    "__str__(self) \n",
    "str(obj)\n",
    "\n",
    "# Object comparision\n",
    "__cmp__ (self, x) \n",
    "cmp(obj, x)"
   ]
  }
 ],
 "metadata": {
  "kernelspec": {
   "display_name": "Python 2",
   "language": "python",
   "name": "python2"
  },
  "language_info": {
   "codemirror_mode": {
    "name": "ipython",
    "version": 2
   },
   "file_extension": ".py",
   "mimetype": "text/x-python",
   "name": "python",
   "nbconvert_exporter": "python",
   "pygments_lexer": "ipython2",
   "version": "2.7.9"
  }
 },
 "nbformat": 4,
 "nbformat_minor": 0
}
