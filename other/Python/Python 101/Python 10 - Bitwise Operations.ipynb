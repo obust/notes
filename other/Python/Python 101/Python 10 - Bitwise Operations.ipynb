{
 "cells": [
  {
   "cell_type": "markdown",
   "metadata": {},
   "source": [
    "# Python X - Bitwise Operations\n",
    "\n",
    "Bitwise operations are operations that directly manipulate bits. In all computers, numbers are represented with bits, a series of zeros and ones. \n",
    "\n",
    "NB: You can only do bitwise operations on an integers."
   ]
  },
  {
   "cell_type": "markdown",
   "metadata": {},
   "source": [
    "## Summary\n",
    "\n",
    "1. [Base 2](#1.-Base-2)<br>\n",
    "    1.1 Counting in base 2<br>\n",
    "    1.2 To binary - bin()<br>\n",
    "    1.3 From binary - int()\n",
    "2. [Bitwise Operators](#2.-Bitwise-Operators)<br>\n",
    "    2.1 Left Shift (<<) and Right Shift (>>)<br>\n",
    "    2.3 Bitwise AND (&)<br>\n",
    "    2.3 Bitwise OR  (|)<br>\n",
    "    2.4 Bitwise XOR (^)<br>\n",
    "    2.5 Bitwise NOT (~)\n",
    "3. [Bit Mask](#3.-Bit-Mask)<br>\n",
    "    3.1 Check if a bit is on (using &)<br>\n",
    "    3.1 Turn on a bit (using |)<br>\n",
    "    3.1 Flip out all bits (using ^)"
   ]
  },
  {
   "cell_type": "markdown",
   "metadata": {},
   "source": [
    "## 1. Base 2\n",
    "\n",
    "In binary we count in base two, where each place can hold one of two values: 0 or 1."
   ]
  },
  {
   "cell_type": "markdown",
   "metadata": {},
   "source": [
    "### 1.1 Counting in base 2\n",
    "\n",
    "Contrary to counting in base 10, where each decimal place represents a power of 10, each place in a binary number represents a power of two (or a bit).<br>\n",
    "The rightmost bit is the 1's bit (2^0), the next bit is the 2's bit (2^1), then 4, 8, 16, 32, and so on.\n",
    "\n",
    "- 2^0 = 1\n",
    "- 2^1 = 2\n",
    "- 2^2 = 4\n",
    "- 2^3 = 8\n",
    "- 2^4 = 16\n",
    "- 2^5 = 32\n",
    "- 2^6 = 64\n",
    "- 2^7 = 128\n",
    "- 2^8 = 256\n",
    "- 2^9 = 512\n",
    "- 2^10 = 1024\n",
    "\n",
    "You may recognize these numbers. Do you have a 32 or 64 bit system? Does your computer have a 256GB hard drive? Computers think in binary!<br>\n",
    "NB: 1 byte = 8 bits (8 bits can store numbers up to 255 => cf RGB colors)"
   ]
  },
  {
   "cell_type": "raw",
   "metadata": {},
   "source": [
    " 8 4 2 1               128 64 32 16 | 8  4  2  1\n",
    " *******                ************************\n",
    " 0 0 0 0 = 0             0  0  0  0 | 1  0  1  0 =  10\n",
    " 0 0 0 1 = 1             0  0  1  0 | 0  0  0  1 =  33\n",
    " 0 0 1 0 = 2             0  0  0  0 | 1  1  1  1 =  15\n",
    " 0 0 1 1 = 3             0  0  0  1 | 1  1  1  1 =  31\n",
    " -------                ------------------------\n",
    " 0 1 0 0 = 4             0  0  1  0 | 0  0  0  0 =  32\n",
    " 0 1 0 1 = 5             0  1  0  0 | 0  0  0  0 =  64\n",
    " 0 1 1 0 = 6             1  0  0  0 | 0  0  0  0 = 128\n",
    " 0 1 1 1 = 7             1  1  1  1 | 1  1  1  1 = 255\n",
    " -------\n",
    " 1 0 0 0 = 8"
   ]
  },
  {
   "cell_type": "code",
   "execution_count": null,
   "metadata": {
    "collapsed": true
   },
   "outputs": [],
   "source": [
    "print(0b1)    # 1\n",
    "print(0b10)   # 2\n",
    "print(0b11)   # 3\n",
    "print(0b100)  # 4\n",
    "print(0b101)  # 5\n",
    "print(0b110)  # 6\n",
    "print(0b111)  # 7\n",
    "print(0b1 + 0b11)  # 1 + 3 = 4\n",
    "print(0b11 * 0b11) # 3 * 3 = 9"
   ]
  },
  {
   "cell_type": "markdown",
   "metadata": {},
   "source": [
    "### 1.2 To binary - bin()\n",
    "\n",
    "To print a number in its binary representation, you can use the bin() function. \n",
    "bin() takes an integer as input and returns the binary representation of that integer in a string. \n",
    "After using the bin function, you can no longer operate on the value like a number.\n",
    "\n",
    "**bin(integer)**\n",
    "- integer : integer to convert to binary\n",
    "\n",
    "NB: You can also represent numbers in base 8 and base 16 using the oct() and hex() functions."
   ]
  },
  {
   "cell_type": "code",
   "execution_count": null,
   "metadata": {
    "collapsed": true
   },
   "outputs": [],
   "source": [
    "print(bin(1))  # 0b1\n",
    "print(bin(2))  # 0b10\n",
    "\n",
    "print(oct(1))  # 0o1\n",
    "print(oct(8))  # 0o10\n",
    "\n",
    "print(hex(1))  # 0x1\n",
    "print(hex(16)) # 0x10"
   ]
  },
  {
   "cell_type": "markdown",
   "metadata": {},
   "source": [
    "### 1.3 From binary - int()\n",
    "\n",
    "The int() function turn non-integer input into an integer.<br>\n",
    "The 2nd optional parameter specifies the base the number is in.\n",
    "int() will return the value of that number converted to base ten.\n",
    "\n",
    "**int(string, [base])**\n",
    "- string : string containing a number\n",
    "- base : base that number is in (optional)\n"
   ]
  },
  {
   "cell_type": "code",
   "execution_count": 22,
   "metadata": {
    "collapsed": false
   },
   "outputs": [
    {
     "name": "stdout",
     "output_type": "stream",
     "text": [
      "1\n",
      "2\n",
      "7\n",
      "4\n",
      "5\n",
      "255\n"
     ]
    }
   ],
   "source": [
    "print(int(\"1\",2))\n",
    "print(int(\"10\",2))\n",
    "print(int(\"111\",2))\n",
    "print(int(\"0b100\",2))\n",
    "print(int(bin(5),2))\n",
    "print(int(\"11111111\",2))"
   ]
  },
  {
   "cell_type": "code",
   "execution_count": null,
   "metadata": {
    "collapsed": true
   },
   "outputs": [],
   "source": []
  },
  {
   "cell_type": "markdown",
   "metadata": {},
   "source": [
    "## 2. Bitwise Operators"
   ]
  },
  {
   "cell_type": "code",
   "execution_count": null,
   "metadata": {
    "collapsed": true
   },
   "outputs": [],
   "source": [
    "print(5 >> 4)  # Right Shift\n",
    "print(5 << 1)  # Left Shift\n",
    "print(8 & 5)   # Bitwise AND\n",
    "print(9 | 4)   # Bitwise OR\n",
    "print(12 ^ 42) # Bitwise XOR\n",
    "print(~88)     # Bitwise NOT"
   ]
  },
  {
   "cell_type": "markdown",
   "metadata": {},
   "source": [
    "### 2.1 Left Bit Shift (<<) and Right Bit Shift (>>)\n",
    "\n",
    "These operators work by shifting the bits of a number over by a designated number of slots.\n",
    "\n",
    "Mathematically, this operation is equivalent to floor dividing and multiplying by 2 (respectively) for every time you shift.\n",
    "- i << n =       i * 2^n\n",
    "- i >> n = floor(i / 2^n)"
   ]
  },
  {
   "cell_type": "code",
   "execution_count": null,
   "metadata": {
    "collapsed": true
   },
   "outputs": [],
   "source": [
    "# Left Bit Shift (<<)  \n",
    "0b000001 << 2 == 0b000100 # = 1 << 2 = 4   ( = 1 * 2^2)\n",
    "0b000101 << 3 == 0b101000 # = 5 << 3 = 40  ( = 5 * 2^3)       \n",
    "\n",
    "# Right Bit Shift (>>)\n",
    "0b0010100 >> 3 == 0b000010 # = 20 >> 3 = 2  ( = 20 / 2^3 and floor)   \n",
    "0b0000010 >> 2 == 0b000000 # =  2 >> 2 = 0  ( =  2 / 2^2 and floor)   "
   ]
  },
  {
   "cell_type": "raw",
   "metadata": {},
   "source": [
    "One useful way to use shifts is as follows :\n",
    "\n",
    "128 64 32 16 | 8  4  2  1\n",
    " ************************\n",
    "  0  0  0  0 | 0  0  0  1 =   1 \n",
    "  0  0  0  0 | 0  0  1  0 =   2 =   1 << 1   =    4 >> 1\n",
    "  0  0  0  0 | 0  1  0  0 =   4 =   1 << 2   =    8 >> 1\n",
    "  0  0  0  0 | 1  0  0  0 =   8 =   1 << 3   =   16 >> 1\n",
    " ------------------------\n",
    "  0  0  0  1 | 0  0  0  0 =  16 =   1 << 4   =   32 >> 1\n",
    "  0  0  1  0 | 0  0  0  0 =  32 =   1 << 5   =   64 >> 1\n",
    "  0  1  0  0 | 0  0  0  0 =  64 =   1 << 6   =  128 >> 1\n",
    "  1  0  0  0 | 0  0  0  0 = 128 =   1 << 7"
   ]
  },
  {
   "cell_type": "markdown",
   "metadata": {},
   "source": [
    "### 2.2 Bitwise AND (&)\n",
    "\n",
    "The bitwise AND (&) operator compares two numbers on a bit level and returns a number where the bits are turned on if the corresponding bits of **both** numbers are 1.\n",
    "\n",
    "For every given corresponding pair of bits :\n",
    "- 0 & 0 = 0\n",
    "- 0 & 1 = 0\n",
    "- 1 & 0 = 0\n",
    "- 1 & 1 = 1"
   ]
  },
  {
   "cell_type": "raw",
   "metadata": {},
   "source": [
    "     a:   0111    (7)           a:   00101010   (42)\n",
    "     b:   1010   (10)           b:   00001111   (15)       \n",
    "===============            ===================      \n",
    " a & b:   0010    (2)       a & b:   00001010   (10)"
   ]
  },
  {
   "cell_type": "code",
   "execution_count": 25,
   "metadata": {
    "collapsed": false
   },
   "outputs": [
    {
     "name": "stdout",
     "output_type": "stream",
     "text": [
      "0b10\n",
      "0b1010\n"
     ]
    }
   ],
   "source": [
    "print(bin(0b0111 & 0b1010))\n",
    "print(bin(0b00101010 & 0b00001111))"
   ]
  },
  {
   "cell_type": "markdown",
   "metadata": {},
   "source": [
    "### 2.3 Bitwise OR (|)\n",
    "\n",
    "The bitwise OR (|) operator compares two numbers on a bit level and returns a number where the bits are turned on if either of the corresponding bits of **either** number are 1.\n",
    "\n",
    "For every given corresponding pair of bits :\n",
    "- 0 & 0 = 0\n",
    "- 0 & 1 = 1\n",
    "- 1 & 0 = 1\n",
    "- 1 & 1 = 1"
   ]
  },
  {
   "cell_type": "raw",
   "metadata": {},
   "source": [
    "     a:   0111    (7)           a:   00101010   (42)\n",
    "     b:   1010   (10)           b:   00001111   (15)       \n",
    "===============            ===================      \n",
    " a & b:   1111   (15)       a & b:   00101111   (47)"
   ]
  },
  {
   "cell_type": "code",
   "execution_count": 26,
   "metadata": {
    "collapsed": false
   },
   "outputs": [
    {
     "name": "stdout",
     "output_type": "stream",
     "text": [
      "0b1111\n",
      "0b101111\n"
     ]
    }
   ],
   "source": [
    "print(bin(0b0111 | 0b1010))\n",
    "print(bin(0b00101010 | 0b00001111))"
   ]
  },
  {
   "cell_type": "markdown",
   "metadata": {},
   "source": [
    "### 2.4 Bitwise XOR (^)\n",
    "\n",
    "The XOR (^) or \"Exclusive OR\" operator compares two numbers on a bit level and returns a number where the bits are turned on if **either** of the corresponding bits of the two numbers are 1, **but not both**.\n",
    "\n",
    "For every given corresponding pair of bits :\n",
    "- 0 & 0 = 0\n",
    "- 0 & 1 = 1\n",
    "- 1 & 0 = 1\n",
    "- 1 & 1 = 0"
   ]
  },
  {
   "cell_type": "raw",
   "metadata": {},
   "source": [
    "     a:   0111    (7)           a:   00101010   (42)\n",
    "     b:   1010   (10)           b:   00001111   (15)       \n",
    "===============            ===================      \n",
    " a & b:   1101   (13)       a & b:   00100101   (37)"
   ]
  },
  {
   "cell_type": "code",
   "execution_count": 27,
   "metadata": {
    "collapsed": false,
    "scrolled": true
   },
   "outputs": [
    {
     "name": "stdout",
     "output_type": "stream",
     "text": [
      "0b1101\n",
      "0b100101\n"
     ]
    }
   ],
   "source": [
    "print(bin(0b0111 ^ 0b1010))\n",
    "print(bin(0b00101010 ^ 0b00001111))"
   ]
  },
  {
   "cell_type": "markdown",
   "metadata": {},
   "source": [
    "### 2.5 Bitwise NOT (~)\n",
    "\n",
    "The bitwise NOT operator (~) just flips all of the bits of a number. (Rem: \"~\" is \"Opt+n\" on Mac)\n",
    "\n",
    "Mathematically, this is equivalent to adding one to the number and then making it negative :\n",
    "- ~i = -(i+1)\n"
   ]
  },
  {
   "cell_type": "code",
   "execution_count": null,
   "metadata": {
    "collapsed": true
   },
   "outputs": [],
   "source": [
    "print(~1)  # -2\n",
    "print(~2)  # -3\n",
    "print(~3)  # -4\n",
    "print(~42) # -43"
   ]
  },
  {
   "cell_type": "markdown",
   "metadata": {},
   "source": [
    "## 3. Bit Mask\n",
    "\n",
    "A **bit mask** is just a variable that aids you with bitwise operations. A bit mask can help you turn specific bits on, turn others off, or just collect data from an integer about which bits are on or off."
   ]
  },
  {
   "cell_type": "markdown",
   "metadata": {},
   "source": [
    "### 3.1 Check if a bit is on (using &)"
   ]
  },
  {
   "cell_type": "code",
   "execution_count": 39,
   "metadata": {
    "collapsed": false
   },
   "outputs": [
    {
     "name": "stdout",
     "output_type": "stream",
     "text": [
      "3rd bit is on\n"
     ]
    }
   ],
   "source": [
    "a  = 0b1100\n",
    "mask = 0b1 << 3 # we slide the bit to the 3rd position\n",
    "\n",
    "if (a & mask) > 0:\n",
    "    print(\"3rd bit is on\")\n",
    "else:\n",
    "    print(\"3rd bit is off\")"
   ]
  },
  {
   "cell_type": "markdown",
   "metadata": {},
   "source": [
    "### 3.2 Turn on a bit (using |)"
   ]
  },
  {
   "cell_type": "code",
   "execution_count": 35,
   "metadata": {
    "collapsed": false,
    "scrolled": false
   },
   "outputs": [
    {
     "name": "stdout",
     "output_type": "stream",
     "text": [
      "0b1110\n"
     ]
    }
   ],
   "source": [
    "a  = 0b1100\n",
    "mask = 0b10\n",
    "\n",
    "print(bin(a | mask))"
   ]
  },
  {
   "cell_type": "markdown",
   "metadata": {},
   "source": [
    "### 3.3 Flip out all bits (using ^)"
   ]
  },
  {
   "cell_type": "code",
   "execution_count": 38,
   "metadata": {
    "collapsed": false
   },
   "outputs": [
    {
     "name": "stdout",
     "output_type": "stream",
     "text": [
      "0b1001\n"
     ]
    }
   ],
   "source": [
    "a = 0b0110\n",
    "mask = 0b1111\n",
    "\n",
    "print(bin(a ^ mask))"
   ]
  }
 ],
 "metadata": {
  "kernelspec": {
   "display_name": "Python 2",
   "language": "python",
   "name": "python2"
  },
  "language_info": {
   "codemirror_mode": {
    "name": "ipython",
    "version": 2
   },
   "file_extension": ".py",
   "mimetype": "text/x-python",
   "name": "python",
   "nbconvert_exporter": "python",
   "pygments_lexer": "ipython2",
   "version": "2.7.9"
  }
 },
 "nbformat": 4,
 "nbformat_minor": 0
}
