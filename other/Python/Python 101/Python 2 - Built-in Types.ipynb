{
 "cells": [
  {
   "cell_type": "markdown",
   "metadata": {},
   "source": [
    "# Python II - Built-in Types\n",
    "\n",
    "A data type or simply type is a classification identifying one of various types of data, such as real, integer or boolean.<br> \n",
    "It is an interface that determines :\n",
    "- the possible values for that type, \n",
    "- the operations that can be done on values of that type,\n",
    "- and the way values of that type can be stored.\n",
    "\n",
    "More on Python Built-in Types at https://docs.python.org/2/library/stdtypes.html <br>\n",
    "and https://docs.python.org/2/tutorial/datastructures.html"
   ]
  },
  {
   "cell_type": "markdown",
   "metadata": {},
   "source": [
    "## Summary\n",
    "\n",
    "1. [Boolean Type — bool](#1.-Boolean-Type-—-bool)<br>\n",
    "    1.1 Truth Testing<br>\n",
    "    1.2 Boolean Operations<br>\n",
    "    1.3 Boolean Comparisions\n",
    "2. [Numeric Types — int, float, long, complex](#2.-Numeric-Types-—-int,-float,-long,-complex)<br>\n",
    "    2.1 Instanciation<br>\n",
    "    2.3 Numeric Type Operations<br>\n",
    "    2.3 Decimal Type\n",
    "3. [Sequence Types — str, list, tuple, unicode, bytearray, buffer, xrange](#3.-Sequence-Types-—-str,-list,-tuple,-unicode,-bytearray,-buffer,-xrange)<br>\n",
    "    3.1 Instanciation<br>\n",
    "    3.2 Sequence Type Operations<br>\n",
    "    3.3 List Operations<br>\n",
    "    3.4 String Formatting<br>\n",
    "    3.5 Looping Through Sequences\n",
    "4. [Mapping Type — dict](#4.-Mapping-Types---dict)<br>\n",
    "    4.1 Instanciation<br>\n",
    "    4.2 Dictionnary Operations<br>\n",
    "    4.3 Looping Through Dictionnaries\n"
   ]
  },
  {
   "cell_type": "markdown",
   "metadata": {},
   "source": [
    "## 1. Boolean Type — bool\n",
    "\n",
    "Boolean Type can take two values :\n",
    "1. *True*\n",
    "2. *False*"
   ]
  },
  {
   "cell_type": "markdown",
   "metadata": {},
   "source": [
    "### 1.1 Truth Testing\n",
    "Any object can be tested for truth value.\n",
    "\n",
    "The following values are **considered false** :\n",
    "* *None*\n",
    "* *False*\n",
    "* zero of any numeric type : *0, 0L, 0.0, 0j*\n",
    "* any empty sequence : *'', (), []*\n",
    "* any empty mapping : *{}*\n",
    "\n",
    "All other values are **considered true** — so objects of many types are always true.\n",
    "\n",
    "Operations and built-in functions that have a Boolean result always return *0* or *False* for false and *1* or *True* for true, unless otherwise stated."
   ]
  },
  {
   "cell_type": "markdown",
   "metadata": {},
   "source": [
    "### 1.2 Boolean Operations"
   ]
  },
  {
   "cell_type": "code",
   "execution_count": null,
   "metadata": {
    "collapsed": true
   },
   "outputs": [],
   "source": [
    "x or y  # if x is false, then returns y, else returns x\n",
    "x and y # if x is false, then returns x, else returns y\n",
    "not x   # if x is false, then True, else False"
   ]
  },
  {
   "cell_type": "markdown",
   "metadata": {},
   "source": [
    "### 1.3 Boolean Comparisions"
   ]
  },
  {
   "cell_type": "code",
   "execution_count": null,
   "metadata": {
    "collapsed": true
   },
   "outputs": [],
   "source": [
    "<  # strictly less than\n",
    "<= # less than or equal\n",
    ">  # strictly greater than\n",
    ">= # greater than or equal\n",
    "== # equal\n",
    "!= # not equal\n",
    "is # object identity\n",
    "is not # negated object identity"
   ]
  },
  {
   "cell_type": "markdown",
   "metadata": {},
   "source": [
    "## 2. Numeric Types — int, float, long, complex\n",
    "\n",
    "Numeric type precision depends on the operating system of the machine.\n",
    "\n",
    "* **Integers** have at least 32 bits of precision (-2,147,483,648 to 2,147,483,647). \n",
    "* **Long integers** have unlimited precision. \n",
    "* **Floating point numbers** have variable precision (see sys.float_info). \n",
    "* **Complex numbers** have a real and imaginary part, which are each a floating point number.\n",
    "\n",
    "Rem: The standard library includes additional numeric types: fractions that hold rationals, and decimal that hold floating-point numbers with user-definable precision."
   ]
  },
  {
   "cell_type": "code",
   "execution_count": 11,
   "metadata": {
    "collapsed": false
   },
   "outputs": [
    {
     "data": {
      "text/plain": [
       "sys.float_info(max=1.7976931348623157e+308, max_exp=1024, max_10_exp=308, min=2.2250738585072014e-308, min_exp=-1021, min_10_exp=-307, dig=15, mant_dig=53, epsilon=2.220446049250313e-16, radix=2, rounds=1)"
      ]
     },
     "execution_count": 11,
     "metadata": {},
     "output_type": "execute_result"
    }
   ],
   "source": [
    "import sys\n",
    "sys.float_info"
   ]
  },
  {
   "cell_type": "markdown",
   "metadata": {},
   "source": [
    "### 2.1 Instanciation"
   ]
  },
  {
   "cell_type": "code",
   "execution_count": null,
   "metadata": {
    "collapsed": true
   },
   "outputs": [],
   "source": [
    "# int\n",
    "a = 59\n",
    "b = -1\n",
    "\n",
    "# long\n",
    "a = 59L\n",
    "b = -1L\n",
    "\n",
    "# float\n",
    "a = 59.0\n",
    "b = -1.0\n",
    "c = 12846.99973\n",
    "\n",
    "# complex\n",
    "a = complex(1.0,0.0)\n",
    "b = complex(-1.0,0.0)\n",
    "a = complex(14.78,0.15624)"
   ]
  },
  {
   "cell_type": "markdown",
   "metadata": {},
   "source": [
    "### 2.2 Numeric Types Operations"
   ]
  },
  {
   "cell_type": "code",
   "execution_count": null,
   "metadata": {
    "collapsed": true
   },
   "outputs": [],
   "source": [
    "x + y  # sum of x and y\n",
    "x - y  # difference of x and y\n",
    "x * y  # product of x and y\n",
    "x / y  # quotient of x and y\n",
    "x // y # (floored) quotient of x and y\n",
    "x % y  # remainder of x / y\n",
    "-x     # x negated\n",
    "+x     # x unchanged\n",
    "\n",
    "int(x) # x converted to integer\n",
    "long(x) # x converted to long integer\n",
    "float(x) # x converted to floating point\n",
    "complex(re,im) # a complex number with real part re, imaginary part im (im defaults is 0)\n",
    "\n",
    "c.conjugate() # conjugate of the complex number c\n",
    "abs(x) # absolute value or magnitude of x\n",
    "divmod(x, y) # the pair (x // y, x % y)\n",
    "pow(x, y) # x to the power y\n",
    "x ** y    # x to the power y"
   ]
  },
  {
   "cell_type": "markdown",
   "metadata": {
    "collapsed": true
   },
   "source": [
    "### 1.3 Decimal Module\n",
    "\n",
    "The Decimal Module is not a built-in type of Python but a module that provides support for decimal floating point arithmetic.<br>\n",
    "\n",
    "The module was designed around the concept that \"computers must provide an arithmetic that works in the same way as the arithmetic that people learn at school\".\n",
    "\n",
    "It offers several advantages over the float datatype :\n",
    "- Decimals can be represented exactly. \n",
    "    - In decimal floating point: 1.1 + 2.2 = 3.3\n",
    "    - In binary floating point: 1.1 + 2.2 = 3.3000000000000003\n",
    "- Decimals include special values such as Infinity, -Infinity, NaN and differentiates -0 from +0.\n",
    "- The decimal module incorporates a notion of significant: \n",
    "    - 1.3 * 1.2 = 1.56\n",
    "    - 1.30 * 1.20 = 1.5600"
   ]
  },
  {
   "cell_type": "code",
   "execution_count": null,
   "metadata": {
    "collapsed": true
   },
   "outputs": [],
   "source": [
    "from decimal import *\n",
    "\n",
    "Decimal(10) # Decimal('10')\n",
    "Decimal('3.14') # Decimal('3.14')\n",
    "Decimal(3.14) # Decimal('3.140000000000000124344978758017532527446746826171875')\n",
    "Decimal(str(2.0 ** 0.5)) # Decimal('1.41421356237')\n",
    "Decimal(2) ** Decimal('0.5') # Decimal('1.414213562373095048801688724')\n",
    "Decimal('NaN') # Decimal('NaN')\n",
    "Decimal('-Infinity') # Decimal('-Infinity')"
   ]
  },
  {
   "cell_type": "markdown",
   "metadata": {},
   "source": [
    "**Decimal has a user alterable precision (defaulting to 28 places)**"
   ]
  },
  {
   "cell_type": "code",
   "execution_count": null,
   "metadata": {
    "collapsed": true
   },
   "outputs": [],
   "source": [
    "getcontext().prec = 6\n",
    "Decimal(1) / Decimal(7) # Decimal('0.142857')\n",
    "\n",
    "getcontext().prec = 28\n",
    "Decimal(1) / Decimal(7) # Decimal('0.1428571428571428571428571429')"
   ]
  },
  {
   "cell_type": "markdown",
   "metadata": {},
   "source": [
    "**Decimal has a good compatibility with the rest of Python**"
   ]
  },
  {
   "cell_type": "code",
   "execution_count": null,
   "metadata": {
    "collapsed": true
   },
   "outputs": [],
   "source": [
    "data = map(Decimal, '1.34 1.87 3.45 2.35 1.00 0.03 9.25'.split())\n",
    "max(data) # Decimal('9.25')\n",
    "min(data) # Decimal('0.03')\n",
    "sorted(data) # [Decimal('0.03'), Decimal('1.00'), Decimal('1.34'), Decimal('1.87'), Decimal('2.35'), Decimal('3.45'), Decimal('9.25')]\n",
    "sum(data) # Decimal('19.29')"
   ]
  },
  {
   "cell_type": "markdown",
   "metadata": {},
   "source": [
    "**Decimal also has some mathematical functions available**"
   ]
  },
  {
   "cell_type": "code",
   "execution_count": null,
   "metadata": {
    "collapsed": true
   },
   "outputs": [],
   "source": [
    "Decimal(2).sqrt()  # Decimal('1.414213562373095048801688724')\n",
    "Decimal(1).exp()   # Decimal('2.718281828459045235360287471')\n",
    "Decimal('10').ln() # Decimal('2.302585092994045684017991455')\n",
    "Decimal('10').log10() # Decimal('1')\n",
    "Decimal('7.325').quantize(Decimal('.01'), rounding=ROUND_DOWN) # Decimal('7.32')\n",
    "Decimal('7.325').quantize(Decimal('1.'), rounding=ROUND_UP) # Decimal('8')"
   ]
  },
  {
   "cell_type": "markdown",
   "metadata": {},
   "source": [
    "## 3. Sequence Types — str, list, tuple, unicode, bytearray, buffer, xrange\n",
    "\n",
    "* **String** : immutable sequence of characters.\n",
    "* **List** : mutable sequence of objects of diff. class.\n",
    "* **Tuple** : immutable fixed-sized grouping of objects of diff. class (NB: these objects may be mutable themselves).\n",
    "* **Unicode** strings, **Bytearray** objects, **Buffer** objects and **Xrange** will not be described here."
   ]
  },
  {
   "cell_type": "markdown",
   "metadata": {},
   "source": [
    "### 3.1 Instanciation"
   ]
  },
  {
   "cell_type": "code",
   "execution_count": null,
   "metadata": {
    "collapsed": true
   },
   "outputs": [],
   "source": [
    "# strings\n",
    "s1 = ''\n",
    "s2 = 'my sequence of characters'\n",
    "s3 = \"my other sequence of characters\"\n",
    "\n",
    "# lists\n",
    "ls1 = list()\n",
    "ls2 = []\n",
    "ls3 = [1, 3.5, 'abc', []]\n",
    "\n",
    "# tuples\n",
    "t = ('hi',) # size-1 tuple\n",
    "t = (12345, 54321, 'hello!')\n",
    "t = 12345, 54321, 'hello!'\n",
    "coord = (x, y, z)\n",
    "vector = ([1, 2, 3], [3, 2, 1])\n",
    "matrix = ([1, 0, 0], [0, 1, 0], [0, 0, 1])\n",
    "(a, b) = (0, ['abc', 'def'])"
   ]
  },
  {
   "cell_type": "markdown",
   "metadata": {},
   "source": [
    "### 3.2 Sequence Type Operations"
   ]
  },
  {
   "cell_type": "code",
   "execution_count": null,
   "metadata": {
    "collapsed": true
   },
   "outputs": [],
   "source": [
    "seq + t # the concatenation of seq and t\n",
    "seq * n # n copies of seq concatenated (NB: all n elements of the resulting sequence point to the same seq !!!)\n",
    "\n",
    "seq[i]     # ith item of seq, origin 0\n",
    "seq[i:j]   # slice of seq from i to j\n",
    "seq[i:j:k] # slice of seq from i to j with step k\n",
    "\n",
    "len(seq) # length of seq\n",
    "min(seq) # smallest item of seq\n",
    "max(seq) # largest item of seq\n",
    "\n",
    "x in seq     # True if an item of seq is equal to x, else False\n",
    "x not in seq # False if an item of seq is equal to x, else True\n",
    "seq.index(x) # index of the first occurrence of x in seq\n",
    "seq.count(x) # total number of occurrences of x in seq"
   ]
  },
  {
   "cell_type": "code",
   "execution_count": null,
   "metadata": {
    "collapsed": true
   },
   "outputs": [],
   "source": [
    "s = 'Hello world !'\n",
    "s[0]  # 'H'\n",
    "s[2]  # 'l'\n",
    "s[-1] # '!'\n",
    "\n",
    "s[0:2] # 'He'\n",
    "s[:2]  # 'He'\n",
    "s[2:]  # 'llo world !'\n",
    "s[2:len(s)] # 'llo world !'"
   ]
  },
  {
   "cell_type": "markdown",
   "metadata": {},
   "source": [
    "### 3.3 List Operations\n",
    "Mutable Sequence type objects (lists and bytearrays) support additional operations that allow in-place modification of the object."
   ]
  },
  {
   "cell_type": "code",
   "execution_count": null,
   "metadata": {
    "collapsed": true
   },
   "outputs": [],
   "source": [
    "s[i] = x     # item i of s is replaced by x\n",
    "s[i:j] = t   # slice of s from i to j is replaced by the contents of the iterable t\n",
    "s[i:j:k] = t # the elements of s[i:j:k] are replaced by those of t\n",
    "del s[i:j]   # same as s[i:j] = []\n",
    "del s[i:j:k] # removes the elements of s[i:j:k] from the list\n",
    "\n",
    "s.append(x) # appends object x to the end of s // same as s[len(s):len(s)] = [x]\n",
    "s.extend(x) # appends items of x to the end of s // same as s[len(s):len(s)] = x\n",
    "s.count(x)  # returns number of i‘s for which s[i] == x\n",
    "s.index(x[, i[, j]]) # returns smallest k such that s[k] == x and i <= k < j\n",
    "s.insert(i, x) # inserts x at position i // same as s[i:i] = [x]\n",
    "s.pop([i])  # returns item at index i and then removes it from s // same as x = s[i]; del s[i]; return x\n",
    "s.remove(x) # removes first occurence of x // same as del s[s.index(x)]\n",
    "s.reverse() # reverses the items of s in place\n",
    "s.sort([cmp[, key[, reverse]]]) # sort items of s in place"
   ]
  },
  {
   "cell_type": "code",
   "execution_count": null,
   "metadata": {
    "collapsed": true
   },
   "outputs": [],
   "source": [
    "ls = [1]\n",
    "\n",
    "# concatenate\n",
    "ls += [2, 3]      # [1, 2, 3]\n",
    "ls.append(4)      # [1, 2, 3, 4]\n",
    "ls.append([5])    # [1, 2, 3, 4, [5]]\n",
    "ls.extend([6])    # [1, 2, 3, 4, [5], 6]\n",
    "\n",
    "# add, delete, modify\n",
    "ls.insert(2, 'c') # [1, 2, 'c', 3, 4, [5], 6]\n",
    "ls.remove('c')    # [1, 2, 3, 4, [5], 6]\n",
    "ls[-1] = 1        # [1, 2, 3, 4, [5], 1]\n",
    "del ls[0]         # [2, 3, 4, [5], 1]"
   ]
  },
  {
   "cell_type": "markdown",
   "metadata": {},
   "source": [
    "### 3.4 List Comprehension\n",
    "\n",
    "List comprehensions provide a concise way to create lists. Common applications are :\n",
    "- Create a lists where each element is the result of some operations applied to each member of another sequence.\n",
    "- Create a subsequence where each element from another sequence satisfy a certain condition."
   ]
  },
  {
   "cell_type": "code",
   "execution_count": null,
   "metadata": {
    "collapsed": true
   },
   "outputs": [],
   "source": [
    "# list operation\n",
    "nums = [1, 2, 3, 4]\n",
    "squares = [ n**2 for n in nums ] # [1, 4, 9, 16]\n",
    "\n",
    "words = ['hello', 'and', 'goodbye']\n",
    "shouting = [ s.upper() + '!!!' for s in words ] # ['HELLO!!!', 'AND!!!', 'GOODBYE!!!']\n",
    "\n",
    "# subsequencing\n",
    "nums = [2, 8, 1, 6]\n",
    "small = [ n for n in nums if n <= 2 ] # [2, 1]\n",
    "\n",
    "fruits = ['apple', 'cherry', 'bannana', 'lemon']\n",
    "afruits = [ s.upper() for s in fruits if 'a' in s ] # ['APPLE', 'BANNANA']"
   ]
  },
  {
   "cell_type": "markdown",
   "metadata": {},
   "source": [
    "### 3.5 List Sorting\n",
    "\n",
    "The **`sorted(list)`** function takes a list and returns a new list with those elements in sorted order (the original list remains unchanged)."
   ]
  },
  {
   "cell_type": "code",
   "execution_count": null,
   "metadata": {
    "collapsed": true
   },
   "outputs": [],
   "source": [
    "# sorting\n",
    "a = [5, 1, 4, 3]\n",
    "print(sorted(a)) # [1, 3, 4, 5]\n",
    "print(a)         # [5, 1, 4, 3]\n",
    "\n",
    "# reverse sorting\n",
    "strs = ['aa', 'BB', 'zz', 'CC']\n",
    "print(sorted(strs))                # ['BB', 'CC', 'aa', 'zz']   (case sensitive)\n",
    "print(sorted(strs, reverse=True))  # ['zz', 'aa', 'CC', 'BB']\n",
    "\n",
    "# sorting by key function\n",
    "strs = ['ccc', 'aaaa', 'D', 'BB']\n",
    "print(sorted(strs, key=len))       # ['D', 'BB', 'ccc', 'aaaa']\n",
    "print(sorted(strs, key=str.lower)) # ['aaaa', 'BB', 'ccc', 'D']"
   ]
  },
  {
   "cell_type": "markdown",
   "metadata": {},
   "source": [
    "The **`.sort()`** method sorts the list calling it into ascending order (the original list is changed)."
   ]
  },
  {
   "cell_type": "code",
   "execution_count": null,
   "metadata": {
    "collapsed": true
   },
   "outputs": [],
   "source": [
    "a = [5, 1, 4, 3]\n",
    "print(a.sort()) # [1, 3, 4, 5]\n",
    "print(a)        # [1, 3, 4, 5]"
   ]
  },
  {
   "cell_type": "markdown",
   "metadata": {},
   "source": [
    "### 3.4 String Formatting"
   ]
  },
  {
   "cell_type": "code",
   "execution_count": 61,
   "metadata": {
    "collapsed": false
   },
   "outputs": [
    {
     "name": "stdout",
     "output_type": "stream",
     "text": [
      "My name is Chuck Norris and I am -1 years old.\n",
      "My name is Chuck Norris and I am -1 years old.\n",
      "My name is Chuck Norris and I am -1 years old.\n",
      "My name is Chuck Norris and I am -1 years old.\n",
      "My name is Albus Dumbledore and I am 120 years old.\n"
     ]
    }
   ],
   "source": [
    "first = 'Chuck'\n",
    "last = 'Norris'\n",
    "age = -1\n",
    "\n",
    "print('My name is ' + first + ' ' + last + ' and I am ' + str(age) + ' years old.')\n",
    "print('My name is', first, last, 'and I am', age,'years old.')\n",
    "print('My name is {} {} and I am {} years old.'.format(first, last, age))\n",
    "print('My name is {1} {2} and I am {0} years old.'.format(age, first, last))\n",
    "print('My name is {first} {last} and I am {age} years old.'.format(age = 120, first = 'Albus', last = 'Dumbledore'))"
   ]
  },
  {
   "cell_type": "markdown",
   "metadata": {},
   "source": [
    "### 3.5 Looping Through Sequences\n",
    "Looping techniques are used to iterate through a given sequence<br>\n",
    "Rem: it is better to avoid looping through a list whose size is evolving"
   ]
  },
  {
   "cell_type": "code",
   "execution_count": 49,
   "metadata": {
    "collapsed": false
   },
   "outputs": [
    {
     "name": "stdout",
     "output_type": "stream",
     "text": [
      "tic\n",
      "tac\n",
      "toe\n"
     ]
    }
   ],
   "source": [
    "seq = ['tic', 'tac', 'toe']\n",
    "\n",
    "for e in seq:\n",
    "    print(e)"
   ]
  },
  {
   "cell_type": "markdown",
   "metadata": {},
   "source": [
    "**Use enumerate() to retrieve the position index**"
   ]
  },
  {
   "cell_type": "code",
   "execution_count": 50,
   "metadata": {
    "collapsed": false
   },
   "outputs": [
    {
     "name": "stdout",
     "output_type": "stream",
     "text": [
      "0: eat\n",
      "1: sleep\n",
      "2: rave\n",
      "3: repeat\n"
     ]
    }
   ],
   "source": [
    "seq = ['eat', 'sleep', 'rave', 'repeat']\n",
    "\n",
    "for i, e in enumerate(seq):\n",
    "    print(\"{}: {}\".format(i, e))"
   ]
  },
  {
   "cell_type": "markdown",
   "metadata": {},
   "source": [
    "**Use zip() to loop over two or more sequences at the same time**"
   ]
  },
  {
   "cell_type": "code",
   "execution_count": 45,
   "metadata": {
    "collapsed": false
   },
   "outputs": [
    {
     "name": "stdout",
     "output_type": "stream",
     "text": [
      "What is your name?  It is lancelot.\n",
      "What is your quest?  It is the holy grail.\n",
      "What is your favorite color?  It is blue.\n"
     ]
    }
   ],
   "source": [
    "questions = ['name', 'quest']\n",
    "answers = ['lancelot', 'the holy grail']\n",
    "\n",
    "for q, a in zip(questions, answers):\n",
    "    print(\"What is your {0}?  It is {1}.\".format(q, a))"
   ]
  },
  {
   "cell_type": "markdown",
   "metadata": {},
   "source": [
    "**Use the slice notation seq[:] to modify a sequence while looping through it**<br>\n",
    "It will loop through a copy of the sequence, allowing to make changes to the original (ex: duplicate certain items)."
   ]
  },
  {
   "cell_type": "code",
   "execution_count": 52,
   "metadata": {
    "collapsed": false
   },
   "outputs": [
    {
     "data": {
      "text/plain": [
       "['defecate', 'cat', 'window', 'defecate']"
      ]
     },
     "execution_count": 52,
     "metadata": {},
     "output_type": "execute_result"
    }
   ],
   "source": [
    "words = ['cat', 'window', 'defecate']\n",
    "for w in words[:]:\n",
    "    if len(w) > 6:\n",
    "        words.insert(0, w)\n",
    "\n",
    "words"
   ]
  },
  {
   "cell_type": "markdown",
   "metadata": {},
   "source": [
    "## 4. Mapping Types - dict\n",
    "\n",
    "- **Dict** : mutable container object (just like List) that uses a key => value mapping.<br>\n",
    "    - uses a mapping : key => value\n",
    "    - keys are unique in the dictionnary\n",
    "    - keys should be strings or numeric types\n",
    "    - a dictionnary structure is not ordered (unlike Lists whose items are ordered from 0 to n)"
   ]
  },
  {
   "cell_type": "markdown",
   "metadata": {},
   "source": [
    "### 4.1 Instanciation"
   ]
  },
  {
   "cell_type": "code",
   "execution_count": 71,
   "metadata": {
    "collapsed": false,
    "scrolled": true
   },
   "outputs": [
    {
     "name": "stdout",
     "output_type": "stream",
     "text": [
      "True\n",
      "{'three': 3, 'two': 2, 'one': 1}\n",
      "{'one': 1, 'two': 2, 'three': 3}\n",
      "{'three': 3, 'two': 2, 'one': 1}\n"
     ]
    }
   ],
   "source": [
    "x = dict()\n",
    "y = {}\n",
    "\n",
    "a = dict(one=1, two=2, three=3)\n",
    "b = {'one': 1, 'two': 2, 'three': 3}\n",
    "c = dict({'three': 3, 'one': 1, 'two': 2})\n",
    "d = dict([('two', 2), ('one', 1), ('three', 3)])\n",
    "e = dict(zip(['one', 'two', 'three'], [1, 2, 3]))\n",
    "print(a == b == c == d == e)\n",
    "print(a)\n",
    "print(b)\n",
    "print(c)"
   ]
  },
  {
   "cell_type": "markdown",
   "metadata": {},
   "source": [
    "### 4.2 Dictionnary Operations"
   ]
  },
  {
   "cell_type": "code",
   "execution_count": null,
   "metadata": {
    "collapsed": true
   },
   "outputs": [],
   "source": [
    "len(d) # returns the number of items in the dictionary d.\n",
    "d[key] # return the item of d with key key. Raises a KeyError if key is not in the map.\n",
    "get(key[, default]) # returns the value for key if key is in the dictionary, else default (never raises an error).\n",
    "d[key] = value # sets d[key] to value.\n",
    "\n",
    "del d[key] # remove d[key] from d. Raises a KeyError if key is not in the map.\n",
    "key in d # returns True if d has a key key, else False.\n",
    "key not in d # equivalent to not key in d.\n",
    "\n",
    "clear() # removes all items from the dictionary.\n",
    "copy() # returns a shallow copy of the dictionary.\n",
    "\n",
    "fromkeys(seq[, value]) # creates a new dictionary with keys from seq and values set to value.\n",
    "\n",
    "items() # returns a copy of the dictionary’s list of (key, value) pairs.\n",
    "keys() # return a copy of the dictionary’s list of keys. See the note for dict.items().\n",
    "values() # return a copy of the dictionary’s list of values. See the note for dict.items().\n",
    "\n",
    "iteritems() # returns an iterator over the dictionary’s (key, value) pairs. See the note for dict.items().\n",
    "iter(d) # returns an iterator over the keys of the dictionary. This is a shortcut for iterkeys().\n",
    "iterkeys() # returns an iterator over the dictionary’s keys. See the note for dict.items().\n",
    "itervalues() # returns an iterator over the dictionary’s values. See the note for dict.items().\n",
    "\n",
    "pop(key[, default]) # if key is in the dictionary, remove it and return its value, else return default.\n",
    "popitem(key, value) # removes and return an arbitrary (key, value) pair from the dictionary.\n",
    "\n",
    "update([other]) # updates the dictionary with the key/value pairs from other, overwriting existing keys. Return None.\n",
    "\n",
    "viewitems() # returns a new view of the dictionary’s items ((key, value) pairs). See view objects.\n",
    "viewkeys() # returns a new view of the dictionary’s keys. See view objects.\n",
    "viewvalues() # returns a new view of the dictionary’s values. See view objects."
   ]
  },
  {
   "cell_type": "markdown",
   "metadata": {},
   "source": [
    "### 4.3 Looping Through a Dictionnary"
   ]
  },
  {
   "cell_type": "code",
   "execution_count": 73,
   "metadata": {
    "collapsed": false
   },
   "outputs": [
    {
     "name": "stdout",
     "output_type": "stream",
     "text": [
      "bananas\n",
      "pears\n",
      "apples\n",
      "bananas\n",
      "pears\n",
      "apples\n",
      "3\n",
      "31\n",
      "21\n",
      "One of the fruits has a quantity of 21.\n",
      "There are 3 bananas in the basket.\n",
      "There are 31 pears in the basket.\n",
      "There are 21 apples in the basket.\n"
     ]
    }
   ],
   "source": [
    "fruits = {\"apples\":21, \"bananas\":3, \"pears\":31}\n",
    "\n",
    "for key in fruits.keys():\n",
    "    print(key) # bananas pears apples\n",
    "\n",
    "for key in fruits:\n",
    "    print(key) # bananas pears apples\n",
    "\n",
    "for value in fruits.values():\n",
    "    print(value) # 3 31 21\n",
    "\n",
    "if 21 in fruits.values():\n",
    "    print(\"One of the fruits has a quantity of 21.\")\n",
    "\n",
    "for key, value in fruits.items():\n",
    "    print(\"There are {0} {1} in the basket.\".format(value, key))"
   ]
  },
  {
   "cell_type": "code",
   "execution_count": null,
   "metadata": {
    "collapsed": true
   },
   "outputs": [],
   "source": []
  }
 ],
 "metadata": {
  "kernelspec": {
   "display_name": "Python 2",
   "language": "python",
   "name": "python2"
  },
  "language_info": {
   "codemirror_mode": {
    "name": "ipython",
    "version": 2
   },
   "file_extension": ".py",
   "mimetype": "text/x-python",
   "name": "python",
   "nbconvert_exporter": "python",
   "pygments_lexer": "ipython2",
   "version": "2.7.9"
  }
 },
 "nbformat": 4,
 "nbformat_minor": 0
}
