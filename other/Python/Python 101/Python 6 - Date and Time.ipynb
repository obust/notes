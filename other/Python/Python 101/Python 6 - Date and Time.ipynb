{
 "cells": [
  {
   "cell_type": "markdown",
   "metadata": {},
   "source": [
    "# Python VI - Date and Time\n",
    "\n",
    "A date object represents a date (year, month and day)\n",
    "A **`timedelta`** object represents a duration, the difference between two dates or times."
   ]
  },
  {
   "cell_type": "code",
   "execution_count": 1,
   "metadata": {
    "collapsed": true
   },
   "outputs": [],
   "source": [
    "from datetime import datetime\n",
    "from datetime import timedelta"
   ]
  },
  {
   "cell_type": "code",
   "execution_count": 2,
   "metadata": {
    "collapsed": false
   },
   "outputs": [
    {
     "data": {
      "text/plain": [
       "datetime.datetime(2015, 9, 28, 19, 57, 26, 540048)"
      ]
     },
     "execution_count": 2,
     "metadata": {},
     "output_type": "execute_result"
    }
   ],
   "source": [
    "now = datetime.now()\n",
    "now"
   ]
  },
  {
   "cell_type": "code",
   "execution_count": 4,
   "metadata": {
    "collapsed": false
   },
   "outputs": [
    {
     "name": "stdout",
     "output_type": "stream",
     "text": [
      "2015\n",
      "9\n",
      "28\n",
      "19\n",
      "57\n",
      "26\n"
     ]
    }
   ],
   "source": [
    "# current year\n",
    "print now.year\n",
    "\n",
    "# current month\n",
    "print now.month\n",
    "\n",
    "# current day\n",
    "print now.day\n",
    "\n",
    "# current hour\n",
    "print now.hour\n",
    "\n",
    "# current minute\n",
    "print now.minute\n",
    "\n",
    "# current second\n",
    "print now.second"
   ]
  },
  {
   "cell_type": "code",
   "execution_count": 5,
   "metadata": {
    "collapsed": false
   },
   "outputs": [
    {
     "data": {
      "text/plain": [
       "datetime.timedelta(1)"
      ]
     },
     "execution_count": 5,
     "metadata": {},
     "output_type": "execute_result"
    }
   ],
   "source": [
    "# difference between two dates\n",
    "delta = datetime(2015, 1, 7) - datetime(2011, 1, 6)\n",
    "delta"
   ]
  },
  {
   "cell_type": "code",
   "execution_count": 6,
   "metadata": {
    "collapsed": false
   },
   "outputs": [
    {
     "data": {
      "text/plain": [
       "1"
      ]
     },
     "execution_count": 6,
     "metadata": {},
     "output_type": "execute_result"
    }
   ],
   "source": [
    "# the difference days\n",
    "print delta.days\n",
    "\n",
    "# the difference seconds\n",
    "print delta.seconds"
   ]
  },
  {
   "cell_type": "markdown",
   "metadata": {},
   "source": [
    "## Date\n",
    "\n",
    "- date2 = date1 + timedelta\n",
    "- date2 = date1 - timedelta\n",
    "- timedelta = date1 - date2\n",
    "- date1 < date2"
   ]
  },
  {
   "cell_type": "markdown",
   "metadata": {},
   "source": [
    "## Summary\n",
    "\n",
    "1. [Timedelta](#1.-I/O-Basics)<br>\n",
    "    1.1 File Path<br>\n",
    "    1.2 Open<br>\n",
    "    1.3 Read<br>\n",
    "    1.4 Write<br>\n",
    "    1.5 Close<br>\n",
    "    1.6 Safe Opening/Closing\n",
    "2. [Date](#2.-Serialize-Objects-as-binary-—-module-pickle)\n",
    "3. [Time](#3.-Serialize-Objects-as-JSON-—-module-json)\n",
    "3. [Datetime](#3.-Serialize-Objects-as-JSON-—-module-json)"
   ]
  },
  {
   "cell_type": "markdown",
   "metadata": {},
   "source": [
    "## 1. I/O Basics"
   ]
  },
  {
   "cell_type": "markdown",
   "metadata": {},
   "source": [
    "### 1.1 File Path"
   ]
  },
  {
   "cell_type": "raw",
   "metadata": {},
   "source": [
    "- C:\n",
    "    - test\n",
    "        - rep1\n",
    "            - file1.txt\n",
    "        - rep2\n",
    "            - file2.txt\n",
    "            - file3.txt"
   ]
  },
  {
   "cell_type": "markdown",
   "metadata": {},
   "source": [
    "#### Absolute Path\n",
    "\n",
    "Absolute paths refer to a location from the root of the current site (or virtual host).\n",
    "\n",
    "    - ex : C:/test/rep1/file1.txt\n",
    "\n",
    "#### Relative Path\n",
    "\n",
    "Relative paths refer to a location from the actual location of the document the reference is made.\n",
    "\n",
    "    - /rep1/file1.txt (case when we are in the 'test' directory)\n",
    "    - ../rep1/file1.txt (case when we are in the 'rep2' directory)\n",
    "\n",
    "#### Current Directory\n",
    "\n",
    "- **`os.getcwd()`** returns the a string representing the Current Working Directory\n",
    "- **`os.chdir(path)`** changes the current working directory to `path`.\n",
    "\n"
   ]
  },
  {
   "cell_type": "markdown",
   "metadata": {},
   "source": [
    "### 1.2 Open\n",
    "\n",
    "The `open(path, mode)` function .\n",
    "- 'r'  : to **read** (stream positioned at the beginning)\n",
    "- 'r+' : to **read** and **write** (stream positioned at the beginning)\n",
    "- 'w'  : to **overwrite** + create the file if nonexistent (stream positioned at the beginning)\n",
    "- 'w+' : to **read** and **overwrite** + create the file if nonexistent (stream positioned at the beginning)\n",
    "- 'a'  : to **write** + create the file if nonexistent (stream positioned at the end)\n",
    "- 'a+' : to **read** and **write** + create the file if nonexistent (stream positioned at the end)\n",
    "\n",
    "The file opened is an member of class **TextIOWrapper**.<br>\n",
    "Therefore, we use methods of that class (.read(), .write(), .close(), etc.)"
   ]
  },
  {
   "cell_type": "code",
   "execution_count": null,
   "metadata": {
    "collapsed": true
   },
   "outputs": [],
   "source": [
    "f = open(path, mode)"
   ]
  },
  {
   "cell_type": "markdown",
   "metadata": {},
   "source": [
    "### 1.3 Read"
   ]
  },
  {
   "cell_type": "markdown",
   "metadata": {},
   "source": [
    "#### With .read()\n",
    "The `.read([size])` method reads some quantity of data and returns it as a string.<br>\n",
    "- If  `size` argument is omitted : the entire content of the file is read and returned (NB: this may cause some memory issue).<br>\n",
    "- If `size` argument is given : at most `size` bytes are read and returned."
   ]
  },
  {
   "cell_type": "code",
   "execution_count": null,
   "metadata": {
    "collapsed": true
   },
   "outputs": [],
   "source": [
    "f.read() # 'This is the entire file.\\n'\n",
    "f.read() # ''         => .read() returns an empty string when it reaches the end of a file"
   ]
  },
  {
   "cell_type": "markdown",
   "metadata": {},
   "source": [
    "#### With .readline()\n",
    "The `.readline()` method reads a single line from the file.\n",
    "- '\\n' means the line is blank\n",
    "- '' means it reached the end of the file"
   ]
  },
  {
   "cell_type": "code",
   "execution_count": null,
   "metadata": {
    "collapsed": true
   },
   "outputs": [],
   "source": [
    "f.readline() # 'This is the first line of the file.\\n'\n",
    "f.readline() # 'Second line of the file\\n'\n",
    "             #  ...\n",
    "f.readline() # ''     => .readline() returns an empty string when it reaches the end of a file"
   ]
  },
  {
   "cell_type": "markdown",
   "metadata": {},
   "source": [
    "#### With for() loops\n",
    "\n",
    "For reading lines from a file, you can loop over the file object. This is **memory efficient**, **fast**, and leads to **simple code**."
   ]
  },
  {
   "cell_type": "code",
   "execution_count": null,
   "metadata": {
    "collapsed": true
   },
   "outputs": [],
   "source": [
    "for line in f:\n",
    "    print line,\n",
    "\n",
    "# 'This is the first line of the file.'\n",
    "# 'Second line of the file'"
   ]
  },
  {
   "cell_type": "markdown",
   "metadata": {},
   "source": [
    "### 1.4 Write\n",
    "\n",
    "The `.write(string)` method writes the contents of *string* to the file.<br>\n",
    "Other types of data must be converted to string beforehand."
   ]
  },
  {
   "cell_type": "code",
   "execution_count": null,
   "metadata": {
    "collapsed": true
   },
   "outputs": [],
   "source": [
    "f.write('This is a test\\n')\n",
    "data = ('the answer', 42)\n",
    "file.write(str(data))"
   ]
  },
  {
   "cell_type": "markdown",
   "metadata": {},
   "source": [
    "### 1.5 Close\n",
    "\n",
    "You **must** close a file. You do this simply by calling the `.close()` method.<br>\n",
    "If you don't close your file, Python won't access it properly.\n",
    "\n",
    "During the I/O process, data is **buffered**: this means that it is held in a temporary location before being written to the file.\n",
    "\n",
    "Python doesn't **flush the buffer**, which is writing data to the file, until it's sure you're done writing. One way to do this is to close the file. If you write to a file without closing, the data won't make it to the target file."
   ]
  },
  {
   "cell_type": "code",
   "execution_count": null,
   "metadata": {
    "collapsed": true
   },
   "outputs": [],
   "source": [
    "f = open(\"file1.txt\", \"r\")\n",
    "# read/write in the file\n",
    "f.close()"
   ]
  },
  {
   "cell_type": "markdown",
   "metadata": {},
   "source": [
    "We can check if the file is close with the attribute **`.closed`** of the TextIOWrapper class (the class of the file object)."
   ]
  },
  {
   "cell_type": "code",
   "execution_count": null,
   "metadata": {
    "collapsed": true
   },
   "outputs": [],
   "source": [
    "f.closed # True if the file is closed"
   ]
  },
  {
   "cell_type": "markdown",
   "metadata": {},
   "source": [
    "### 1.6 Safe Opening/Closing\n",
    "\n",
    "Use the keywords `with` and `as` to automatically close the file even in case of error.\n",
    "\n",
    "File objects contain a special pair of built-in methods: __enter__() and __exit__().<br>\n",
    "When a file object's __exit__() method is invoked, it automatically closes the file. The `with` and `as` invoke this method."
   ]
  },
  {
   "cell_type": "code",
   "execution_count": null,
   "metadata": {
    "collapsed": true
   },
   "outputs": [],
   "source": [
    "with open(\"path\", \"mode\") as variable:\n",
    "    # Read or write to the file\n",
    "    \n",
    "file.closed # True"
   ]
  },
  {
   "cell_type": "markdown",
   "metadata": {},
   "source": [
    "### 2. Serialize Objects as binary — module pickle\n",
    "\n",
    "#### Class Pickler\n",
    "Pickler file objects can save other objects to binary with the `.dump(object)` method :\n",
    "- TextIOWrapper object => Pickler object => .dump() method\n",
    "\n",
    "\n",
    "#### Class Unpickler\n",
    "Unpickler file objects can retrieve other objects from binary withe the `.load()` method :\n",
    "- TextIOWrapper object => Unpickler object => .load() method\n",
    "\n",
    "NB : remember to **open the file as binary** ('rb', 'wb' ou 'ab').\n",
    "\n",
    "NB : pickle is a protocol specific to Python and cannot be used to communicate with applications written in other languages. It is also insecure by default: deserializing pickle data coming from an untrusted source can execute arbitrary code, if the data was crafted by a skilled attacker."
   ]
  },
  {
   "cell_type": "code",
   "execution_count": null,
   "metadata": {
    "collapsed": true
   },
   "outputs": [],
   "source": [
    "scores = { \"player 1\": 5, \"player 2\": 35, \"player 3\": 20 }\n",
    "\n",
    "import pickle\n",
    "\n",
    "# Save Object\n",
    "with open('data.txt', 'wb') as file: # opens file as binary\n",
    "    myPickler = pickle.Pickler(file) # converts file to Pickler object\n",
    "    myPickler.dump(scores) # saves the scores in the file\n",
    "\n",
    "# Load Object\n",
    "with open('data.txt', 'rb') as file:\n",
    "    myUnpickler = pickle.Unpickler(file)\n",
    "    scores_loaded = myUnpickler.load()"
   ]
  },
  {
   "cell_type": "markdown",
   "metadata": {},
   "source": [
    "### 3. Serialize Objects as JSON — module json\n",
    "\n",
    "Python allows you the popular data interchange format called JSON (JavaScript Object Notation). \n",
    "\n",
    "The standard module json can take Python data hierarchies, and convert them to string representations (**serialization**). It can also reconstruct the data from the string representation (**deserialization**).\n",
    "\n",
    "Between serializing and deserializing, the string representing the object can be stored in a file or data, or sent over a network connection to some distant machine.\n",
    "\n",
    "NB : The JSON format is commonly used by modern applications to allow for data exchange. Many programmers are already familiar with it, which makes it a good choice for **interoperability**."
   ]
  },
  {
   "cell_type": "code",
   "execution_count": null,
   "metadata": {
    "collapsed": true
   },
   "outputs": [],
   "source": [
    "scores = { \"player 1\": 5, \"player 2\": 35, \"player 3\": 20 }\n",
    "\n",
    "import json\n",
    "\n",
    "# Save Object\n",
    "with open('data.txt', 'w') as file:\n",
    "    json.dump(scores, file)\n",
    "\n",
    "# Load Object\n",
    "with open('data.txt', 'r') as file:\n",
    "    scores_loaded = json.load(file)"
   ]
  }
 ],
 "metadata": {
  "kernelspec": {
   "display_name": "Python 2",
   "language": "python",
   "name": "python2"
  },
  "language_info": {
   "codemirror_mode": {
    "name": "ipython",
    "version": 2
   },
   "file_extension": ".py",
   "mimetype": "text/x-python",
   "name": "python",
   "nbconvert_exporter": "python",
   "pygments_lexer": "ipython2",
   "version": "2.7.10"
  }
 },
 "nbformat": 4,
 "nbformat_minor": 0
}
