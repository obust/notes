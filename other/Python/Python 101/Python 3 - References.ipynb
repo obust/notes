{
 "cells": [
  {
   "cell_type": "markdown",
   "metadata": {},
   "source": [
    "## Python III - References\n",
    "\n",
    "- chq Objet a une référence : ie son identifiant ou sa position\n",
    "        id(objet) renvoie la référence de l'objet dans Python (sa position)\n",
    "- une Variable pointe vers la référence d'un Objet\n",
    "- une Méthode travaille sur l'Objet même\n",
    "- on peut modifier un Objet via ses Méthodes propre\n",
    "\n",
    "Rem : les Objets de Classe str, int, float n'ont pas de méthode propre qui modifie\n",
    "=> quand on modifie une variable pointant vers un Objet str, int ou float, on créé un nouvel objet et on change le pointeur"
   ]
  },
  {
   "cell_type": "code",
   "execution_count": 11,
   "metadata": {
    "collapsed": false
   },
   "outputs": [
    {
     "name": "stdout",
     "output_type": "stream",
     "text": [
      "[1, 2, 3, 4]\n",
      "[1, 2, 3, 4]\n",
      "[1, 2, 3]\n"
     ]
    }
   ],
   "source": [
    "liste1 = [1, 2, 3] # un Objet est créé avec une référence. la variable liste1 pointe vers cette référence\n",
    "liste2 = liste1    # la Variable liste2 pointe vers cette même référence\n",
    "liste3 = list(liste1) # un nouvel Objet est créé (cloné depuis l'objet que pointe liste1) avec une nouvelle référence. la variable liste2 pointe vers cette nouvelle référence\n",
    "\n",
    "liste2.append(4)   # liste2 pointe vers le même Objet que liste1 et appelle une méthode qui agit sur cet Objet\n",
    "\n",
    "print(liste2)\n",
    "print(liste1)\n",
    "print(liste3)"
   ]
  },
  {
   "cell_type": "code",
   "execution_count": null,
   "metadata": {
    "collapsed": true
   },
   "outputs": [],
   "source": [
    "chaine = \"abc\" # un objet str est créé avec une référence. la variable chaine pointe vers cette référence\n",
    "chaine = \"xyz\" # un nouvel objet str est créé avec une nouvelle référence. la variable chaine pointe vers cette nouvelle référence"
   ]
  },
  {
   "cell_type": "markdown",
   "metadata": {},
   "source": [
    "## Comparaison d'objets\n",
    "\n",
    "- '==', '!=' : comparent la classe et le contenu des deux objets (ie leurs attributs)\n",
    "- 'is', 'is not' : comparent les références des deux objets"
   ]
  },
  {
   "cell_type": "code",
   "execution_count": 8,
   "metadata": {
    "collapsed": false
   },
   "outputs": [
    {
     "name": "stdout",
     "output_type": "stream",
     "text": [
      "Same reference\n"
     ]
    }
   ],
   "source": [
    "a = [1, 2]\n",
    "b = a\n",
    "\n",
    "if(a is b):\n",
    "    print('Same reference')\n",
    "elif(a == b):\n",
    "    print('Same class and content')\n",
    "else:\n",
    "    print('Objects are different')"
   ]
  },
  {
   "cell_type": "code",
   "execution_count": 9,
   "metadata": {
    "collapsed": false
   },
   "outputs": [
    {
     "name": "stdout",
     "output_type": "stream",
     "text": [
      "Same class and content\n"
     ]
    }
   ],
   "source": [
    "a = [1, 2]\n",
    "b = [1, 2]\n",
    "\n",
    "if(a is b):\n",
    "    print('Same reference')\n",
    "elif(a == b):\n",
    "    print('Same class and content')\n",
    "else:\n",
    "    print('Objects are different')"
   ]
  },
  {
   "cell_type": "code",
   "execution_count": 6,
   "metadata": {
    "collapsed": false
   },
   "outputs": [
    {
     "name": "stdout",
     "output_type": "stream",
     "text": [
      "Objects are different\n"
     ]
    }
   ],
   "source": [
    "a = [1]\n",
    "b = 1\n",
    "\n",
    "if(a is b):\n",
    "    print('Same reference')\n",
    "elif(a == b):\n",
    "    print('Same class and content')\n",
    "else:\n",
    "    print('Objects are different')"
   ]
  },
  {
   "cell_type": "code",
   "execution_count": 7,
   "metadata": {
    "collapsed": false
   },
   "outputs": [
    {
     "name": "stdout",
     "output_type": "stream",
     "text": [
      "Same reference\n"
     ]
    }
   ],
   "source": [
    "a = \"abc\"\n",
    "b = \"abc\"\n",
    "\n",
    "if(a is b):\n",
    "    print('Same reference')\n",
    "elif(a == b):\n",
    "    print('Same class and content')\n",
    "else:\n",
    "    print('Objects are different')"
   ]
  },
  {
   "cell_type": "markdown",
   "metadata": {},
   "source": [
    "## Portée des variables (accessibilité des variables dans une fonction)\n",
    "\n",
    "**Espace local (d'une fonction)**\n",
    "- espace qui contient les variables locales :\n",
    "    - les paramètres de la fonction \n",
    "    - les variables définies dans son corps\n",
    "- il est détruit à la fin de l'exécution de la fonction\n",
    "- les variables locales ne prennent effet que dans l'espace locale de la fonction\n",
    "\n",
    "NB: chq variable locale créé, construit un nouvel objet avec une nouvelle référence<br>\n",
    "=> une variable locale peut avoir le nom d'une variable extérieure, car elle ne pointe pas vers la même réf\n",
    "\n",
    "**Variable extérieure (à l'espace local)**\n",
    "- variable définie en dehors de l'espace local de la fonction\n",
    "- varibale accessible EN LECTURE SEULE dans l'espace de fonction\n",
    "\n",
    "**Objet extérieur (à l'espace local)**\n",
    "- objet définie en dehors de l'espace local de la fonction\n",
    "- objet modifiable dans l'espace de fonction : via les méthodes propre à la Classe de l'Objet\n",
    "\n",
    "\n",
    "**Variable gobale**\n",
    "- permet dans une fonction de donner plein accès (lecture et écriture) sur une variable extérieure à l'espace local\n",
    "- si la variable extérieure est trouvée, alors une variable locale du même nom est crée pointant vers la même réf<br>\n",
    "    => on peut alors modifier l'objet de référence qui n'était qui n'était que accessible en lecture avant\n",
    "    \n",
    "    def myFunction(args):\n",
    "        global myVariableExt\n",
    "        # actions on myVariableExt\n",
    "\n",
    "**BILAN**\n",
    "- une fonction ne peut modifier, par affectation, la valeur d'une Variable extérieure à son espace local.\n",
    "- une fonction peut modifier un Objet, en appelant les méthodes de laa Classe de l'Objet\n",
    "- une fonction peut modifier une variable extérieure, si on appelle la variable globale\n",
    "\n",
    "\n"
   ]
  },
  {
   "cell_type": "code",
   "execution_count": 12,
   "metadata": {
    "collapsed": false
   },
   "outputs": [
    {
     "name": "stdout",
     "output_type": "stream",
     "text": [
      "La variable a = 5.\n",
      "La variable a = 8.\n"
     ]
    }
   ],
   "source": [
    "# lecture d'une variable extérieure\n",
    "def print_a():\n",
    "    print(\"La variable a = {0}.\".format(a))\n",
    "\n",
    "a = 5\n",
    "print_a()\n",
    "a = 8\n",
    "print_a()"
   ]
  },
  {
   "cell_type": "code",
   "execution_count": 13,
   "metadata": {
    "collapsed": false
   },
   "outputs": [
    {
     "data": {
      "text/plain": [
       "['a', 'e', 'i', 'o']"
      ]
     },
     "execution_count": 13,
     "metadata": {},
     "output_type": "execute_result"
    }
   ],
   "source": [
    "# modification d'un objet extérieur\n",
    "def addTo_ma_liste(elt_to_add):\n",
    "    ma_liste.append(elt_to_add)\n",
    "\n",
    "ma_liste = ['a', 'e', 'i']\n",
    "addTo_ma_liste('o')\n",
    "ma_liste"
   ]
  },
  {
   "cell_type": "code",
   "execution_count": 14,
   "metadata": {
    "collapsed": false
   },
   "outputs": [
    {
     "data": {
      "text/plain": [
       "5"
      ]
     },
     "execution_count": 14,
     "metadata": {},
     "output_type": "execute_result"
    }
   ],
   "source": [
    "# modification d'une variable extérieure (variable globale)\n",
    "def inc_i():\n",
    "    global i # Python recherche i en dehors de l'espace local de la fonction\n",
    "    i += 1\n",
    "\n",
    "i = 4\n",
    "inc_i()\n",
    "i"
   ]
  }
 ],
 "metadata": {
  "kernelspec": {
   "display_name": "Python 2",
   "language": "python",
   "name": "python2"
  },
  "language_info": {
   "codemirror_mode": {
    "name": "ipython",
    "version": 2
   },
   "file_extension": ".py",
   "mimetype": "text/x-python",
   "name": "python",
   "nbconvert_exporter": "python",
   "pygments_lexer": "ipython2",
   "version": "2.7.9"
  }
 },
 "nbformat": 4,
 "nbformat_minor": 0
}
