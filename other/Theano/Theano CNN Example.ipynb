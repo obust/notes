{
 "cells": [
  {
   "cell_type": "code",
   "execution_count": 1,
   "metadata": {
    "collapsed": true
   },
   "outputs": [],
   "source": [
    "import theano\n",
    "from theano import tensor as T\n",
    "from theano.tensor.nnet import conv\n",
    "\n",
    "import numpy as np"
   ]
  },
  {
   "cell_type": "code",
   "execution_count": 2,
   "metadata": {
    "collapsed": false
   },
   "outputs": [],
   "source": [
    "rng = np.random.RandomState(23455)\n",
    "\n",
    "# input (4D tensor)\n",
    "input = T.tensor4(name='input')\n",
    "\n",
    "# weights (4D tensor)\n",
    "w_shape = (2, 3, 9, 9)\n",
    "w_bound = np.sqrt(3 * 9 * 9)\n",
    "W = theano.shared( np.asarray(\n",
    "            rng.uniform(\n",
    "                low=-1.0/w_bound, \n",
    "                high=1.0/w_bound, \n",
    "                size=w_shape),\n",
    "            dtype=input.dtype), name ='W')\n",
    "\n",
    "# biases (1D tensor)\n",
    "b_shape = (2,)\n",
    "b = theano.shared(np.asarray(\n",
    "            rng.uniform(low=-.5, high=.5, size=b_shape),\n",
    "            dtype=input.dtype), name ='b')\n",
    "\n",
    "# convolution expression of input with filters W\n",
    "# build symbolic expression to add bias and apply activation function, i.e. produce neural net layer output\n",
    "Z = conv.conv2d(input, W) + b.dimshuffle('x', 0, 'x', 'x')\n",
    "\n",
    "output = T.nnet.sigmoid(Z)"
   ]
  },
  {
   "cell_type": "code",
   "execution_count": 3,
   "metadata": {
    "collapsed": true
   },
   "outputs": [],
   "source": [
    "# create theano function to compute filtered images\n",
    "f = theano.function([input], output)"
   ]
  },
  {
   "cell_type": "code",
   "execution_count": null,
   "metadata": {
    "collapsed": true
   },
   "outputs": [],
   "source": [
    "import pylab\n",
    "from PIL import Image"
   ]
  },
  {
   "cell_type": "code",
   "execution_count": null,
   "metadata": {
    "collapsed": false
   },
   "outputs": [],
   "source": [
    "# open random image of dimensions 639x516\n",
    "img = Image.open(open('images/3wolfmoon.jpg'))\n",
    "# dimensions are (height, width, channel)\n",
    "img = np.asarray(img, dtype='float64') / 256.\n",
    "\n",
    "# put image in 4D tensor of shape (1, 3, height, width)\n",
    "img_ = img.transpose(2, 0, 1).reshape(1, 3, 639, 516)\n",
    "filtered_img = f(img_)\n",
    "\n",
    "# plot original image and first and second components of output\n",
    "pylab.subplot(1, 3, 1); pylab.axis('off'); pylab.imshow(img)\n",
    "pylab.gray();\n",
    "# recall that the convOp output (filtered image) is actually a \"minibatch\", of size 1 here, so we take index 0 in the first dimension:\n",
    "pylab.subplot(1, 3, 2); pylab.axis('off'); pylab.imshow(filtered_img[0, 0, :, :])\n",
    "pylab.subplot(1, 3, 3); pylab.axis('off'); pylab.imshow(filtered_img[0, 1, :, :])\n",
    "pylab.show()"
   ]
  }
 ],
 "metadata": {
  "kernelspec": {
   "display_name": "Python 2",
   "language": "python",
   "name": "python2"
  },
  "language_info": {
   "codemirror_mode": {
    "name": "ipython",
    "version": 2
   },
   "file_extension": ".py",
   "mimetype": "text/x-python",
   "name": "python",
   "nbconvert_exporter": "python",
   "pygments_lexer": "ipython2",
   "version": "2.7.10"
  }
 },
 "nbformat": 4,
 "nbformat_minor": 0
}
