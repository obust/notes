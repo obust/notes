{
 "cells": [
  {
   "cell_type": "markdown",
   "metadata": {},
   "source": [
    "# Theano Basics 1\n",
    "\n",
    "- Introduction\n",
    "- Symbolic Variables\n",
    "- Symbolic Expressions\n",
    "- Compile Functions\n",
    "- Examples\n",
    "    - Multiply\n",
    "    - Logistic function"
   ]
  },
  {
   "cell_type": "markdown",
   "metadata": {},
   "source": [
    "## Introduction"
   ]
  },
  {
   "cell_type": "markdown",
   "metadata": {},
   "source": [
    "Theano is not a programming language in the normal sense because you write a program in Python that builds expressions for Theano. Still it is like a programming language in the sense that you have to :\n",
    "\n",
    "1. **Declare Symbolic Variables** : declare variables (a,b) and give their types\n",
    "2. **Construct Expression Graphs** : build expressions for how to put those variables together\n",
    "3. **Compile Functions** : compile expression graphs to callable functions in order to use them for computation."
   ]
  },
  {
   "cell_type": "markdown",
   "metadata": {},
   "source": [
    "#### Python version"
   ]
  },
  {
   "cell_type": "code",
   "execution_count": null,
   "metadata": {
    "collapsed": true
   },
   "outputs": [],
   "source": [
    "def multiply(a, b):\n",
    "    return a * b"
   ]
  },
  {
   "cell_type": "markdown",
   "metadata": {},
   "source": [
    "#### Theano version"
   ]
  },
  {
   "cell_type": "code",
   "execution_count": null,
   "metadata": {
    "collapsed": true
   },
   "outputs": [],
   "source": [
    "import theano\n",
    "from theano import tensor as T\n",
    "\n",
    "# Step 1: Declare Symbolic Variables\n",
    "a = T.scalar()\n",
    "b = T.scalar()\n",
    "\n",
    "# Step 2: Construct Graph Expressions\n",
    "y = a * b\n",
    "\n",
    "# Step 3: Compile Functions\n",
    "multiply = theano.function(inputs=[a, b], outputs=y)"
   ]
  },
  {
   "cell_type": "markdown",
   "metadata": {},
   "source": [
    "## Symbolic Variables\n",
    "\n",
    "A *Symbolic Variable* or simply *Variable* is the main data structure you work with when using Theano. \n",
    "\n",
    "In Theano, all Variables must be typed. [See types](http://theano.readthedocs.org/en/latest/library/tensor/basic.html#libdoc-basic-tensor)\n",
    "\n",
    "In the example below, the Variables `a` and `b` are instances of the `T.var.TensorVariable` class. \n",
    "The type of both x and y is theano.tensor.ivector.\n"
   ]
  },
  {
   "cell_type": "code",
   "execution_count": null,
   "metadata": {
    "collapsed": true
   },
   "outputs": [],
   "source": [
    "# Step 1: Declare Symbolic Variables\n",
    "a = T.dscalar()\n",
    "b = T.dscalar()"
   ]
  },
  {
   "cell_type": "markdown",
   "metadata": {},
   "source": [
    "equivalent to :"
   ]
  },
  {
   "cell_type": "code",
   "execution_count": null,
   "metadata": {
    "collapsed": true
   },
   "outputs": [],
   "source": [
    "a = T.scalar(dtype='float64')\n",
    "b = T.scalar(dtype='float64')"
   ]
  },
  {
   "cell_type": "markdown",
   "metadata": {},
   "source": [
    "## Expression Graphs\n",
    "\n",
    "An *[Expression Graph](https://en.wikipedia.org/wiki/S-expression)* is a combination of various operations on *Variables* which translate to a (tree-structured) symbolic graph.  \n",
    "Symbolic Expressions return also a *Variable*.\n",
    "\n",
    "In the example below :\n",
    "- `a * b` is a Symbolic Expression\n",
    "- `y` is a Variable"
   ]
  },
  {
   "cell_type": "code",
   "execution_count": null,
   "metadata": {
    "collapsed": true
   },
   "outputs": [],
   "source": [
    "# Step 2: Define Symbolic Expressions\n",
    "y = a * b"
   ]
  },
  {
   "cell_type": "markdown",
   "metadata": {},
   "source": [
    "## Compile Functions\n",
    "\n",
    "Use `theano.function(inputs, outputs, mode=None, updates=None, givens=None)` to return a **callable object** that will **compute the `outputs`** from the `inputs` and **update the implicit function arguments** according to the `updates`.\n",
    "\n",
    "- **`inputs`** *(list of Variables or Param instances)* : Variable instances for which values will be specified at the time of the function call.\n",
    "- **`outputs`** *(list of Variables or Out instances)* : Variable instances of symbolic expressions to compute.\n",
    "- **`updates`** *(list of pairs (shared_var, new_shared_var))* : specific update for a SharedVariable.\n",
    "- **`mode`** : compilation mode.\n",
    "- **`givens`** *(list of pairs (var1, var2))* : specific substitutions to replace variables in the symbolic graph (e.g. var2 replaces var1)."
   ]
  },
  {
   "cell_type": "code",
   "execution_count": null,
   "metadata": {
    "collapsed": true
   },
   "outputs": [],
   "source": [
    "# Step 3: Compile Functions\n",
    "multiply = theano.function(inputs=[a, b], outputs=y)"
   ]
  },
  {
   "cell_type": "markdown",
   "metadata": {},
   "source": [
    "`theano.function()` is the interface to a compiler which builds a callable object from a pure [expression graph](http://theano.readthedocs.org/en/latest/tutorial/symbolic_graphs.html).  \n",
    "Theano’s compiler can optimize a graph and even compile some or all of it into native machine instructions. These optimizations include :\n",
    "\n",
    "- customized C code for many mathematical operations\n",
    "- use of GPU for computations\n",
    "- merging of similar subgraphs, to avoid redundant calculation\n",
    "- arithmetic simplification (e.g. x\\*y/x -> y, --x -> x)\n",
    "- using memory aliasing to avoid calculation\n",
    "- loop fusion for elementwise sub-expressions\n",
    "- etc."
   ]
  },
  {
   "cell_type": "markdown",
   "metadata": {},
   "source": [
    "## Examples"
   ]
  },
  {
   "cell_type": "markdown",
   "metadata": {},
   "source": [
    "### Multiply"
   ]
  },
  {
   "cell_type": "code",
   "execution_count": null,
   "metadata": {
    "collapsed": true
   },
   "outputs": [],
   "source": [
    "import theano\n",
    "from theano import tensor as T\n",
    "\n",
    "# Step 1: Declare Symbolic Variables\n",
    "a = T.scalar()\n",
    "b = T.scalar()\n",
    "\n",
    "# Step 2: Define Symbolic Expressions\n",
    "y = a * b\n",
    "\n",
    "# Step 3: Compile Functions\n",
    "multiply = theano.function(inputs=[a, b], outputs=y)"
   ]
  },
  {
   "cell_type": "code",
   "execution_count": null,
   "metadata": {
    "collapsed": true
   },
   "outputs": [],
   "source": [
    "multiply(2, 3)\n",
    "multiply(16.3, 12.1)"
   ]
  },
  {
   "cell_type": "markdown",
   "metadata": {},
   "source": [
    "### Sigmoid Function\n",
    "\n",
    "The sigmoid function, is given by: \n",
    "$$ y(x) =  \\frac {1}{1 + e^{-x}} $$"
   ]
  },
  {
   "cell_type": "code",
   "execution_count": 2,
   "metadata": {
    "collapsed": false
   },
   "outputs": [],
   "source": [
    "import theano\n",
    "import theano.tensor as T\n",
    "\n",
    "# Step 1: Symbolic Variables\n",
    "x = T.dmatrix('x')\n",
    "\n",
    "# Step 2: Graph Expressions\n",
    "y = 1 / (1 + T.exp(-x))\n",
    "\n",
    "# Step 3: Compile Functions\n",
    "sigmoid = theano.function([x], y)"
   ]
  },
  {
   "cell_type": "code",
   "execution_count": null,
   "metadata": {
    "collapsed": true
   },
   "outputs": [],
   "source": [
    "sigmoid([[0, 1], [-1, -2]])"
   ]
  }
 ],
 "metadata": {
  "kernelspec": {
   "display_name": "Python 2",
   "language": "python",
   "name": "python2"
  },
  "language_info": {
   "codemirror_mode": {
    "name": "ipython",
    "version": 2
   },
   "file_extension": ".py",
   "mimetype": "text/x-python",
   "name": "python",
   "nbconvert_exporter": "python",
   "pygments_lexer": "ipython2",
   "version": "2.7.10"
  }
 },
 "nbformat": 4,
 "nbformat_minor": 0
}
