{
 "cells": [
  {
   "cell_type": "markdown",
   "metadata": {},
   "source": [
    "# PageRank"
   ]
  },
  {
   "cell_type": "markdown",
   "metadata": {},
   "source": [
    "<pre>\n",
    "AUTHOR: Samuelm M.H. (samuel.mh@gmail.com)\n",
    "DATE: 6-Feb-2015\n",
    "DESCRIPTION: \n",
    "    A small study on how to implement efficiently the PageRank algorithm using Python.\n",
    "</pre>"
   ]
  },
  {
   "cell_type": "markdown",
   "metadata": {},
   "source": [
    "---"
   ]
  },
  {
   "cell_type": "markdown",
   "metadata": {},
   "source": [
    "## Dataset"
   ]
  },
  {
   "cell_type": "markdown",
   "metadata": {},
   "source": [
    "The chosen dataset is a directed graph where nodes represent pages from Stanford University (stanford.edu) and directed edges represent hyperlinks between them. This representation is suitable to be transformed into the adjacency matrix required for the PageRank algorithm.\n",
    "\n",
    "Information:\n",
    "* URL: http://snap.stanford.edu/data/web-Stanford.html\n",
    "* Year: 2002\n",
    "* Nodes: 281.903 (numeration starts at 1)\n",
    "* Edges: 2.312.497\n",
    "* Format: id of origin (tabulator) id of destiny (data start at line 5 and there is no tuple duplication). Represents a hyperlink.\n",
    "* Size (uncompressed): 31,4MB"
   ]
  },
  {
   "cell_type": "code",
   "execution_count": 1,
   "metadata": {
    "collapsed": false
   },
   "outputs": [
    {
     "name": "stdout",
     "output_type": "stream",
     "text": [
      "# Directed graph (each unordered pair of nodes is saved once): web-Google.txt \r",
      "\r\n",
      "# Webgraph from the Google programming contest, 2002\r",
      "\r\n",
      "# Nodes: 875713 Edges: 5105039\r",
      "\r\n"
     ]
    }
   ],
   "source": [
    "!head -n 3 data/web-Google.txt"
   ]
  },
  {
   "cell_type": "code",
   "execution_count": 2,
   "metadata": {
    "collapsed": false
   },
   "outputs": [],
   "source": [
    "# DATASET_ORIGINAL = \"data/web-Google.txt\"   NODES = 875713 EDGES = 5105039\n",
    "# DATASET_ORIGINAL = \"data/web-Stanford.txt\" NODES = 281903 EDGES = 2312497\n",
    "\n",
    "DATASET_ORIGINAL = \"data/web-Google.txt\"\n",
    "NODES = 875713\n",
    "EDGES = 5105039"
   ]
  },
  {
   "cell_type": "markdown",
   "metadata": {},
   "source": [
    "### First thoughts"
   ]
  },
  {
   "cell_type": "markdown",
   "metadata": {},
   "source": [
    "We need to load the dataset into memory as an adjacency matrix. It can be a square matrix having a boolean value in each cell. The way [NumPy](http://www.numpy.org/) implements this is with a dense matrix where each value is a Byte. Let's see how much memory is needed.\n",
    "\n",
    "\\begin{equation*}\n",
    "\\frac{281903^2_{cells}*1_{Byte/cell}}{2^{30}_{B/GB}} = 74,012 GB\n",
    "\\end{equation*}\n",
    "\n",
    "More than 74GB to store the adjacency matrix!! It doesn't fit in the RAM of my laptop."
   ]
  },
  {
   "cell_type": "markdown",
   "metadata": {},
   "source": [
    "---"
   ]
  },
  {
   "cell_type": "markdown",
   "metadata": {},
   "source": [
    "## Sparse Matrices"
   ]
  },
  {
   "cell_type": "markdown",
   "metadata": {},
   "source": [
    "It seems reasonable that, if the dataset size is 31,4MB, there must be a representation of it that fits into memory. The key is that a single node is on average connected only to a few nodes (lets say 10). This means there are a lot of false values (not hyperlinks). As false values can be seen as a zeroes, we say the matrix is [sparse](http://en.wikipedia.org/wiki/Sparse_matrix). A good property of a sparse matrices is that their representation is much smaller as their dense equivalent.\n",
    "\n",
    "There are several libraries to deal with sparse matrices in Python, but the one i've chosen is [scipy.sparse](http://docs.scipy.org/doc/scipy/reference/sparse.html)"
   ]
  },
  {
   "cell_type": "code",
   "execution_count": 3,
   "metadata": {
    "collapsed": false
   },
   "outputs": [],
   "source": [
    "import numpy as np\n",
    "from  scipy import sparse"
   ]
  },
  {
   "cell_type": "markdown",
   "metadata": {},
   "source": [
    "### Loading the dataset"
   ]
  },
  {
   "cell_type": "markdown",
   "metadata": {},
   "source": [
    "The goal is to keep the adjacency matrix into a Compressed Sparse Row matrix.\n",
    "According to the [CSR matrix documentation](http://docs.scipy.org/doc/scipy/reference/generated/scipy.sparse.csr_matrix.html)\n",
    "\n",
    "Advantages of the CSR format:\n",
    "* Efficient arithmetic operations CSR + CSR, CSR * CSR, etc.\n",
    "* Efficient row slicing\n",
    "* Fast matrix vector products\n",
    "\n",
    "So, the efficient row operations is what we need to apply the power method to compute the PageRank values.\n",
    "\n",
    "Disadvantages of the CSR format\n",
    "* Slow column slicing operations (consider CSC)\n",
    "* Changes to the sparsity structure are expensive (consider LIL or DOK)\n",
    "\n",
    "\n",
    "If we build an empty CSR matrix and try to modify its values we will get a warning like.\n",
    "<pre>\n",
    "SparseEfficiencyWarning: \n",
    "    Changing the sparsity structure of a csr_matrix is expensive. \n",
    "    lil_matrix is more efficient. \n",
    "</pre>"
   ]
  },
  {
   "cell_type": "markdown",
   "metadata": {},
   "source": [
    "The first solution could be using a **Dictionary Of Keys** based sparse matrix and then converting it to a CSR matrix. But it turns out to be slow."
   ]
  },
  {
   "cell_type": "code",
   "execution_count": null,
   "metadata": {
    "collapsed": false
   },
   "outputs": [],
   "source": [
    "def dataset2dok():\n",
    "    with open(DATASET_ORIGINAL,'r') as f:\n",
    "        dokm = sparse.dok_matrix((NODES,NODES),dtype=np.bool)\n",
    "        for line in f.readlines()[4:]:\n",
    "            origin, destiny = (int(x)-1 for x in line.split())\n",
    "            dokm[destiny,origin]=True\n",
    "    return(dokm.tocsr())\n",
    "\n",
    "%time dok_m = dataset2dok()"
   ]
  },
  {
   "cell_type": "markdown",
   "metadata": {},
   "source": [
    "Another solution could be building the **Compressed Sparse Row** matrix from its indices instead of modifying the cells."
   ]
  },
  {
   "cell_type": "code",
   "execution_count": null,
   "metadata": {
    "collapsed": true
   },
   "outputs": [],
   "source": [
    "for line in f.readlines()[4:]:\n",
    "            origin, destiny = (int(x)-1 for x in line.split())\n",
    "            row.append(destiny)\n",
    "            col.append(origin)"
   ]
  },
  {
   "cell_type": "code",
   "execution_count": null,
   "metadata": {
    "collapsed": false
   },
   "outputs": [],
   "source": [
    "def dataset2csr():\n",
    "    row = []\n",
    "    col = []    \n",
    "    with open(DATASET_ORIGINAL,'r') as f:\n",
    "        for line in f.readlines()[4:]:\n",
    "            origin, destiny = (int(x)-1 for x in line.split())\n",
    "            row.append(destiny)\n",
    "            col.append(origin)\n",
    "    return(sparse.csr_matrix(([True]*EDGES,(row,col)),shape=(NODES,NODES)))\n",
    "\n",
    "%time csr_m = dataset2csr()"
   ]
  },
  {
   "cell_type": "markdown",
   "metadata": {},
   "source": [
    "How much memory does it take to store the adjacency (sparse) matrix?\n",
    "\n",
    "According to the documentation, a CSR matrix is defined by:\n",
    "* dtype:   data type of the matrix. Not really needed.\n",
    "* shape:   2-tuple shape of the matrix.\n",
    "* ndim:    Number of dimensions (this is always 2). Not really needed.\n",
    "* data:    CSR format data array of the matrix.\n",
    "* indices: CSR format index array of the matrix.\n",
    "* indptr:  CSR format index pointer array of the matrix."
   ]
  },
  {
   "cell_type": "code",
   "execution_count": null,
   "metadata": {
    "collapsed": false
   },
   "outputs": [],
   "source": [
    "import sys\n",
    "\n",
    "print \"The size in memory of the adjacency matrix is {0} MB\".format(\n",
    "    (sys.getsizeof(csr_m.shape)+\n",
    "    csr_m.data.nbytes+\n",
    "    csr_m.indices.nbytes+\n",
    "    csr_m.indptr.nbytes)/(1024.0**2)\n",
    ")"
   ]
  },
  {
   "cell_type": "markdown",
   "metadata": {},
   "source": [
    "Suming up. We have gone from 74GB to just 12MB by using a sparse matrix. That is pretty good!"
   ]
  },
  {
   "cell_type": "markdown",
   "metadata": {},
   "source": [
    "### Save/Load a CSR matrix"
   ]
  },
  {
   "cell_type": "markdown",
   "metadata": {},
   "source": [
    "Despite the fact that 6 seconds is not a huge loading time, it will be nice to store the CSR matrix in a native format so to speed up the loading/saving times.\n",
    "\n",
    "Here the trick is to store the arrays the matrix is defined by: shape, data, indices, indptr. Furthermore, it is possible to omit the data array taking into consideration that is an array of \"True\" values of length the number of edges."
   ]
  },
  {
   "cell_type": "code",
   "execution_count": null,
   "metadata": {
    "collapsed": false
   },
   "outputs": [],
   "source": [
    "def csr_save(filename,csr):\n",
    "    np.savez(filename,\n",
    "        nodes=csr.shape[0],\n",
    "        edges=csr.data.size,\n",
    "        indices=csr.indices,\n",
    "        indptr =csr.indptr\n",
    "    )\n",
    "\n",
    "def csr_load(filename):\n",
    "    loader = np.load(filename)\n",
    "    edges = int(loader['edges'])\n",
    "    nodes = int(loader['nodes'])\n",
    "    return sparse.csr_matrix(\n",
    "        (np.bool_(np.ones(edges)), loader['indices'], loader['indptr']),\n",
    "        shape = (nodes,nodes)\n",
    "    )"
   ]
  },
  {
   "cell_type": "code",
   "execution_count": null,
   "metadata": {
    "collapsed": false
   },
   "outputs": [],
   "source": [
    "DATASET_NATIVE = 'data/dataset-native.npz'\n",
    "csr_save(DATASET_NATIVE,csr_m)\n",
    "%time csr = csr_load(DATASET_NATIVE)"
   ]
  },
  {
   "cell_type": "markdown",
   "metadata": {},
   "source": [
    "---"
   ]
  },
  {
   "cell_type": "markdown",
   "metadata": {},
   "source": [
    "## PageRank Algorithm"
   ]
  },
  {
   "cell_type": "markdown",
   "metadata": {},
   "source": [
    "When the PageRank algorithm is taught, the usual way to compute it consists on calculating the Google matrix $A$.\n",
    "\n",
    "$$ A = \\beta M + \\frac{1-\\beta}{n}\\mathbf{e} \\cdot \\mathbf{e}^T $$\n",
    "\n",
    "Where:\n",
    "* $\\beta$ is the probability a user follows a link, so $1-\\beta$ is the teleportation factor.\n",
    "* $n$ is the number of elements (nodes).\n",
    "* $M$ is a matrix built like this:\n",
    "    1. The starting point is a graph or adjacency matrix $G$ (shape $n \\times n$). If there is a link from $i$ to $j$ then the element $G_{j,i}=1$\n",
    "    2. Normalize the matrix by columns, so the sum of every column is 1.\n",
    "    3. If there are columns that sum 0, then set their elements to $1/n$.\n",
    "* $\\mathbf{e}$ is a vector of 1 of length $n$.\n",
    "\n",
    "And then apply the [**Power Method**](http://en.wikipedia.org/wiki/Power_iteration):\n",
    "\n",
    "$$ \\vec{r}_{(t+1)} = A \\cdot \\vec{r}_{(t)} $$\n",
    "\n",
    "Until it converges:\n",
    "\n",
    "$$  \\lVert  \\vec{r}_{(t+1)} - \\vec{r}_{(t)}  \\rVert _1 < \\epsilon $$\n",
    "\n",
    "Then, $\\vec{r}$ is an eigenvector of $A$ with the PageRank scores.\n",
    "A property of this vector is:\n",
    "\n",
    "$$ \\sum^{n}_{i=1} r_i  = 1 $$\n",
    "\n",
    "This approach has a huge drawback since it has to compute the Google matrix $A$, and, as seen before it is not likely to fit in memory."
   ]
  },
  {
   "cell_type": "markdown",
   "metadata": {},
   "source": [
    "### PageRank with a sparse matrix"
   ]
  },
  {
   "cell_type": "markdown",
   "metadata": {},
   "source": [
    "However, it is possible to rewrite the algorithm in order to work with the sparse adjacency matrix $G$ and save a lot of memory.\n",
    "The trick consist on computing the Google matrix per row in each iteration in order to save memory and pay CPU cycles.\n",
    "\n",
    "Here is the pseudocode.\n",
    "\n",
    "- $\\vec{r} \\leftarrow 1/n$\n",
    "- $flag \\leftarrow True$\n",
    "- while $flag$\n",
    "    - $\\vec{r}_{(t+1)}  \\leftarrow  G \\cdot  \\frac{\\vec{r}_t \\cdot \\beta}{\\mathbf{d}_{out}} $\n",
    "    - $\\vec{r}_{(t+1)}  \\leftarrow \\vec{r}_{(t+1)} + \\frac{1-\\vec{r}_{(t+1)}}{n} \\quad$ (Re-insert leaked PageRank)\n",
    "    - $flag \\leftarrow  \\lVert  \\vec{r}_{(t+1)} - \\vec{r}_{(t)}  \\rVert _1 < \\epsilon \\quad$ (Stop condition)\n",
    "    - $\\vec{r}_{(t)}  \\leftarrow \\vec{r}_{(t+1)}$\n",
    "    \n",
    "Where:\n",
    "- $G$ is the adjacency/connectivity matrix.\n",
    "- $\\mathbf{d}_{out}$ is a vector with the out-degree values of the nodes.\n",
    "\n",
    "It is also possible to compute the value of $\\mathbf{d}_{out} \\cdot \\frac{1}{\\beta}$ since it is an invariant inside the loop."
   ]
  },
  {
   "cell_type": "markdown",
   "metadata": {},
   "source": [
    "### Implementation"
   ]
  },
  {
   "cell_type": "code",
   "execution_count": null,
   "metadata": {
    "collapsed": false
   },
   "outputs": [],
   "source": [
    "def compute_PageRank(G, beta=0.85, epsilon=10**-4):\n",
    "    '''\n",
    "    Efficient computation of the PageRank values using a sparse adjacency \n",
    "    matrix and the iterative power method.\n",
    "    \n",
    "    Parameters\n",
    "    ----------\n",
    "    G : boolean adjacency matrix. np.bool8\n",
    "        If the element j,i is True, means that there is a link from i to j.\n",
    "    beta: 1-teleportation probability.\n",
    "    epsilon: stop condition. Minimum allowed amount of change in the PageRanks\n",
    "        between iterations.\n",
    "\n",
    "    Returns\n",
    "    -------\n",
    "    output : tuple\n",
    "        PageRank array normalized top one.\n",
    "        Number of iterations.\n",
    "\n",
    "    '''    \n",
    "    #Test adjacency matrix is OK\n",
    "    n,_ = G.shape\n",
    "    assert(G.shape==(n,n))\n",
    "    #Constants Speed-UP\n",
    "    deg_out_beta = G.sum(axis=0).T/beta #vector\n",
    "    #Initialize\n",
    "    ranks = np.ones((n,1))/n #vector\n",
    "    time = 0\n",
    "    flag = True\n",
    "    while flag:        \n",
    "        time +=1\n",
    "        with np.errstate(divide='ignore'): # Ignore division by 0 on ranks/deg_out_beta\n",
    "            new_ranks = G.dot((ranks/deg_out_beta)) #vector\n",
    "        #Leaked PageRank\n",
    "        new_ranks += (1-new_ranks.sum())/n\n",
    "        #Stop condition\n",
    "        if np.linalg.norm(ranks-new_ranks,ord=1)<=epsilon:\n",
    "            flag = False        \n",
    "        ranks = new_ranks\n",
    "    return(ranks, time)"
   ]
  },
  {
   "cell_type": "markdown",
   "metadata": {},
   "source": [
    "### Experiment"
   ]
  },
  {
   "cell_type": "code",
   "execution_count": null,
   "metadata": {
    "collapsed": false
   },
   "outputs": [],
   "source": [
    "print '==> Computing PageRank'\n",
    "%time pr,iters = compute_PageRank(csr)\n",
    "print '\\nIterations: {0}'.format(iters)\n",
    "print 'Element with the highest PageRank: {0}'.format(np.argmax(pr)+1)"
   ]
  },
  {
   "cell_type": "markdown",
   "metadata": {},
   "source": [
    "## Validation and Conclusion"
   ]
  },
  {
   "cell_type": "markdown",
   "metadata": {},
   "source": [
    "Here is another way to compute the PageRank using [NetworkX](http://networkx.github.io/)."
   ]
  },
  {
   "cell_type": "code",
   "execution_count": null,
   "metadata": {
    "collapsed": false
   },
   "outputs": [],
   "source": [
    "import networkx as nx\n",
    "\n",
    "print '==> Loading data.'\n",
    "with open(DATASET_ORIGINAL,'r') as f:\n",
    "    edgelist = [\n",
    "        tuple(int(x)-1 for x in line.split())\n",
    "        for line in f.readlines()[4:]\n",
    "    ] \n",
    "    \n",
    "print '\\n==> Building graph.'\n",
    "%time g = nx.from_edgelist(edgelist, create_using=nx.DiGraph())\n",
    "\n",
    "print '\\n==> Computing PageRank'\n",
    "%time pr = nx.pagerank(g)\n",
    "\n",
    "pr_max = max(pr.items(), key= lambda x: x[1])\n",
    "print '\\nElement with the highest PageRank: {0}'.format(pr_max[0]+1)"
   ]
  },
  {
   "cell_type": "markdown",
   "metadata": {},
   "source": [
    "NetworkX and I agree on the element with the highest PageRank.\n",
    "It is possible to see the times are are higher. NetworkX last nearly 60 times more than my implementation to calculate the PageRank scores. "
   ]
  },
  {
   "cell_type": "markdown",
   "metadata": {},
   "source": [
    "---\n",
    "\n",
    "---"
   ]
  },
  {
   "cell_type": "markdown",
   "metadata": {},
   "source": [
    "## Bibliography"
   ]
  },
  {
   "cell_type": "markdown",
   "metadata": {},
   "source": [
    "- Page, Lawrence; Brin, Sergey; Motwani, Rajeev y Winograd, Terry (1999). [The PageRank citation ranking: Bringing order to the Web.](http://ilpubs.stanford.edu/422/1/1999-66.pdf)"
   ]
  }
 ],
 "metadata": {
  "kernelspec": {
   "display_name": "Python 2",
   "language": "python",
   "name": "python2"
  },
  "language_info": {
   "codemirror_mode": {
    "name": "ipython",
    "version": 2
   },
   "file_extension": ".py",
   "mimetype": "text/x-python",
   "name": "python",
   "nbconvert_exporter": "python",
   "pygments_lexer": "ipython2",
   "version": "2.7.10"
  }
 },
 "nbformat": 4,
 "nbformat_minor": 0
}
