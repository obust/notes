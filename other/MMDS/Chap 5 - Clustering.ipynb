{
 "cells": [
  {
   "cell_type": "code",
   "execution_count": 1,
   "metadata": {
    "collapsed": true
   },
   "outputs": [],
   "source": [
    "from collections import defaultdict\n",
    "from random import uniform\n",
    "from math import sqrt"
   ]
  },
  {
   "cell_type": "code",
   "execution_count": 6,
   "metadata": {
    "collapsed": true
   },
   "outputs": [],
   "source": [
    "def point_avg(points):\n",
    "    \"\"\"\n",
    "    Accepts a list of points, each with the same number of dimensions.\n",
    "    NB. points can have more dimensions than 2\n",
    "    \n",
    "    Returns a new point which is the center of all the points.\n",
    "    \"\"\"\n",
    "    dimensions = len(points[0])\n",
    "\n",
    "    new_center = []\n",
    "\n",
    "    for dimension in xrange(dimensions):\n",
    "        dim_sum = 0  # dimension sum\n",
    "        for p in points:\n",
    "            dim_sum += p[dimension]\n",
    "\n",
    "        # average of each dimension\n",
    "        new_center.append(dim_sum / float(len(points)))\n",
    "\n",
    "    return new_center\n",
    "\n",
    "\n",
    "def update_centers(data_set, assignments):\n",
    "    \"\"\"\n",
    "    Accepts a dataset and a list of assignments; the indexes \n",
    "    of both lists correspond to each other.\n",
    "\n",
    "    Compute the center for each of the assigned groups.\n",
    "\n",
    "    Return `k` centers where `k` is the number of unique assignments.\n",
    "    \"\"\"\n",
    "    new_means = defaultdict(list)\n",
    "    centers = []\n",
    "    for assignment, point in zip(assignments, data_set):\n",
    "        new_means[assignment].append(point)\n",
    "        \n",
    "    for points in new_means.itervalues():\n",
    "        centers.append(point_avg(points))\n",
    "\n",
    "    return centers\n",
    "\n",
    "\n",
    "def assign_points(points, centers):\n",
    "    \"\"\"\n",
    "    Given a data set and a list of points betweeen other points,\n",
    "    assign each point to an index that corresponds to the index\n",
    "    of the center point on it's proximity to that point. \n",
    "    Return a an array of indexes of centers that correspond to\n",
    "    an index in the data set; that is, if there are N points\n",
    "    in `data_set` the list we return will have N elements. Also\n",
    "    If there are Y points in `centers` there will be Y unique\n",
    "    possible values within the returned list.\n",
    "    \"\"\"\n",
    "    assignments = []\n",
    "    for point in points:\n",
    "        shortest = ()  # positive infinity\n",
    "        shortest_index = 0\n",
    "        for i in xrange(len(centers)):\n",
    "            val = distance(point, centers[i])\n",
    "            if val < shortest:\n",
    "                shortest = val\n",
    "                shortest_index = i\n",
    "        assignments.append(shortest_index)\n",
    "    return assignments\n",
    "\n",
    "\n",
    "def distance(a, b):\n",
    "    \"\"\"\n",
    "    \"\"\"\n",
    "    dimensions = len(a)\n",
    "    \n",
    "    _sum = 0\n",
    "    for dimension in xrange(dimensions):\n",
    "        difference = (a[dimension] - b[dimension])\n",
    "        _sum += abs(difference)\n",
    "    return _sum\n",
    "\n",
    "\n",
    "def distance2(a, b):\n",
    "    \"\"\"\n",
    "    \"\"\"\n",
    "    dimensions = len(a)\n",
    "    \n",
    "    _sum = 0\n",
    "    for dimension in xrange(dimensions):\n",
    "        difference_sq = (a[dimension] - b[dimension]) ** 2\n",
    "        _sum += difference_sq\n",
    "    return sqrt(_sum)\n",
    "\n",
    "\n",
    "def generate_k(data_set, k):\n",
    "    \"\"\"\n",
    "    Given `data_set`, which is an array of arrays,\n",
    "    find the minimum and maximum for each coordinate, a range.\n",
    "    Generate `k` random points between the ranges.\n",
    "    Return an array of the random points within the ranges.\n",
    "    \"\"\"\n",
    "    centers = []\n",
    "    dimensions = len(data_set[0])\n",
    "    min_max = defaultdict(int)\n",
    "\n",
    "    for point in data_set:\n",
    "        for i in xrange(dimensions):\n",
    "            val = point[i]\n",
    "            min_key = 'min_%d' % i\n",
    "            max_key = 'max_%d' % i\n",
    "            if min_key not in min_max or val < min_max[min_key]:\n",
    "                min_max[min_key] = val\n",
    "            if max_key not in min_max or val > min_max[max_key]:\n",
    "                min_max[max_key] = val\n",
    "\n",
    "    for _k in xrange(k):\n",
    "        rand_point = []\n",
    "        for i in xrange(dimensions):\n",
    "            min_val = min_max['min_%d' % i]\n",
    "            max_val = min_max['max_%d' % i]\n",
    "            \n",
    "            rand_point.append(uniform(min_val, max_val))\n",
    "\n",
    "        centers.append(rand_point)\n",
    "\n",
    "    return centers\n",
    "\n",
    "\n",
    "def k_means(dataset, k):\n",
    "    k_points = [[1, 1], [4, 4]]#generate_k(dataset, k)\n",
    "    assignments = assign_points(dataset, k_points)\n",
    "    old_assignments = None\n",
    "    while assignments != old_assignments:\n",
    "        new_centers = update_centers(dataset, assignments)\n",
    "        old_assignments = assignments\n",
    "        assignments = assign_points(dataset, new_centers)\n",
    "    return update_centers(dataset, assignments)#zip(assignments, dataset)"
   ]
  },
  {
   "cell_type": "code",
   "execution_count": null,
   "metadata": {
    "collapsed": true
   },
   "outputs": [],
   "source": [
    "(1,1), (2,1) (2,2), (3,3), (4,2), (2,4), (4,4)"
   ]
  },
  {
   "cell_type": "code",
   "execution_count": 7,
   "metadata": {
    "collapsed": false
   },
   "outputs": [
    {
     "name": "stdout",
     "output_type": "stream",
     "text": [
      "[[1.6666666666666667, 1.3333333333333333], [3.25, 3.25]]\n"
     ]
    }
   ],
   "source": [
    "points = [\n",
    "    [1, 1],\n",
    "    [2, 1],\n",
    "    [2, 2],\n",
    "    [3, 3],\n",
    "    [4, 2],\n",
    "    [2, 4],\n",
    "    [4, 4],\n",
    "    ]\n",
    "\n",
    "print k_means(points, 2)"
   ]
  },
  {
   "cell_type": "code",
   "execution_count": 42,
   "metadata": {
    "collapsed": false
   },
   "outputs": [],
   "source": [
    "points = [\n",
    "    [28,145], \n",
    "    [65,140],\n",
    "    [50,130], \n",
    "    [38,115], \n",
    "    [55,118], \n",
    "    [50,90], \n",
    "    [63,88], \n",
    "    [43,83], \n",
    "    [50,60], \n",
    "    [50,30],\n",
    "    [25,125], \n",
    "    [44,105], \n",
    "    [29,97], \n",
    "    [35,63], \n",
    "    [55,63], \n",
    "    [42,57], \n",
    "    [23,40], \n",
    "    [64,37], \n",
    "    [33,22], \n",
    "    [55,20]\n",
    "]\n",
    "\n",
    "centroids = [\n",
    "    [25,125], \n",
    "    [44,105], \n",
    "    [29,97], \n",
    "    [35,63], \n",
    "    [55,63], \n",
    "    [42,57], \n",
    "    [23,40], \n",
    "    [64,37], \n",
    "    [33,22], \n",
    "    [55,20]\n",
    "]"
   ]
  },
  {
   "cell_type": "code",
   "execution_count": 43,
   "metadata": {
    "collapsed": false
   },
   "outputs": [
    {
     "name": "stdout",
     "output_type": "stream",
     "text": [
      "[[25, 125], [44, 105], [29, 97], [35, 63], [55, 63], [42, 57], [23, 40], [64, 37], [33, 22], [55, 20]]\n",
      "[0, 1, 0, 1, 1, 1, 1, 2, 4, 9, 0, 1, 2, 3, 4, 5, 6, 7, 8, 9]\n",
      "[[34.333333333333336, 133.33333333333334], [52.5, 109.33333333333333], [36.0, 90.0], [35.0, 63.0], [52.5, 61.5], [42.0, 57.0], [23.0, 40.0], [64.0, 37.0], [33.0, 22.0], [52.5, 25.0]]\n",
      "[0, 0, 0, 1, 1, 2, 1, 2, 4, 9, 0, 1, 2, 3, 4, 5, 6, 7, 8, 9]\n"
     ]
    }
   ],
   "source": [
    "dataset = points\n",
    "centers = centroids\n",
    "\n",
    "print centers\n",
    "assignments = assign_points(dataset, centers)\n",
    "print assignments\n",
    "new_centers = update_centers(dataset, assignments)\n",
    "print new_centers\n",
    "print assign_points(dataset, new_centers)"
   ]
  },
  {
   "cell_type": "code",
   "execution_count": 27,
   "metadata": {
    "collapsed": false
   },
   "outputs": [
    {
     "name": "stdout",
     "output_type": "stream",
     "text": [
      "[[34.333333333333336, 133.33333333333334], [50.0, 103.2], [36.0, 90.0], [35.0, 63.0], [52.5, 61.5], [42.0, 57.0], [23.0, 40.0], [64.0, 37.0], [33.0, 22.0], [52.5, 25.0]]\n"
     ]
    }
   ],
   "source": [
    "def k_means_bis(dataset, k, centroids):\n",
    "    centers = centroids\n",
    "    assignments = assign_points(dataset, centers)\n",
    "    new_centers = update_centers(dataset, assignments)\n",
    "    return new_centers\n",
    "\n",
    "print k_means_bis(dataset, 10, centroids)"
   ]
  },
  {
   "cell_type": "code",
   "execution_count": 15,
   "metadata": {
    "collapsed": false,
    "scrolled": true
   },
   "outputs": [
    {
     "name": "stdout",
     "output_type": "stream",
     "text": [
      "[[34.333333333333336, 133.33333333333334], [50.0, 103.2], [36.0, 90.0], [35.0, 63.0], [52.5, 61.5], [42.0, 57.0], [23.0, 40.0], [64.0, 37.0], [33.0, 22.0], [52.5, 25.0]]\n"
     ]
    }
   ],
   "source": []
  },
  {
   "cell_type": "markdown",
   "metadata": {},
   "source": []
  },
  {
   "cell_type": "code",
   "execution_count": 18,
   "metadata": {
    "collapsed": true
   },
   "outputs": [],
   "source": [
    "def rectangle_assignment(UL, LR):\n",
    "    a = [5, 10]\n",
    "    b = [20, 5]\n",
    "\n",
    "    UR = [UL[0], LR[1]]\n",
    "    LL = [LR[0], UL[1]]\n",
    "    assigned_to_a = [\n",
    "        distance(UL, a) < distance(UL, b), \n",
    "        distance(UR, a) < distance(UR, b),\n",
    "        distance(LR, a) < distance(LR, b),\n",
    "        distance(LL, a) < distance(LL, b)\n",
    "    ]\n",
    "    return assigned_to_a"
   ]
  },
  {
   "cell_type": "code",
   "execution_count": 22,
   "metadata": {
    "collapsed": false,
    "scrolled": true
   },
   "outputs": [
    {
     "name": "stdout",
     "output_type": "stream",
     "text": [
      "[True, True, True, True]\n",
      "[False, False, False, False]\n"
     ]
    }
   ],
   "source": [
    "print rectangle_assignment([7, 12], [12, 8])\n",
    "print rectangle_assignment([16, 16], [18, 15])"
   ]
  },
  {
   "cell_type": "code",
   "execution_count": 23,
   "metadata": {
    "collapsed": false
   },
   "outputs": [
    {
     "name": "stdout",
     "output_type": "stream",
     "text": [
      "[True, True, False, True]\n",
      "[False, False, False, False]\n"
     ]
    }
   ],
   "source": [
    "print rectangle_assignment([6, 15], [13, 7])\n",
    "print rectangle_assignment([16, 9], [25, 12])"
   ]
  },
  {
   "cell_type": "code",
   "execution_count": null,
   "metadata": {
    "collapsed": true
   },
   "outputs": [],
   "source": [
    "Yellow: UL=(3,3) and LR=(10,1); Blue: UL=(13,10) and LR=(16,4)\n",
    "Yellow: UL=(7,8) and LR=(12,5); Blue: UL=(13,10) and LR=(16,4)\n",
    "Yellow: UL=(6,7) and LR=(11,4); Blue: UL=(14,10) and LR=(23,6)"
   ]
  },
  {
   "cell_type": "code",
   "execution_count": 38,
   "metadata": {
    "collapsed": false
   },
   "outputs": [
    {
     "name": "stdout",
     "output_type": "stream",
     "text": [
      "[True, True, True, True]\n",
      "[True, False, False, False]\n"
     ]
    }
   ],
   "source": [
    "print rectangle_assignment([3,3], [10,1])\n",
    "print rectangle_assignment([13,10], [16,4])"
   ]
  },
  {
   "cell_type": "code",
   "execution_count": 39,
   "metadata": {
    "collapsed": false
   },
   "outputs": [
    {
     "name": "stdout",
     "output_type": "stream",
     "text": [
      "[True, True, False, True]\n",
      "[True, False, False, False]\n"
     ]
    }
   ],
   "source": [
    "print rectangle_assignment([7,8], [12,5])\n",
    "print rectangle_assignment([13,10], [16,4])"
   ]
  },
  {
   "cell_type": "code",
   "execution_count": 40,
   "metadata": {
    "collapsed": false
   },
   "outputs": [
    {
     "name": "stdout",
     "output_type": "stream",
     "text": [
      "[True, True, True, True]\n",
      "[False, False, False, False]\n"
     ]
    }
   ],
   "source": [
    "print rectangle_assignment([6,7], [11,4])\n",
    "print rectangle_assignment([14,10], [23,6])"
   ]
  },
  {
   "cell_type": "code",
   "execution_count": 41,
   "metadata": {
    "collapsed": false,
    "scrolled": true
   },
   "outputs": [
    {
     "name": "stdout",
     "output_type": "stream",
     "text": [
      "[True, True, False, True]\n",
      "[False, False, False, False]\n"
     ]
    }
   ],
   "source": [
    "print rectangle_assignment([6,15], [13,7])\n",
    "print rectangle_assignment([16, 16], [18, 5])"
   ]
  },
  {
   "cell_type": "markdown",
   "metadata": {},
   "source": [
    "Yellow: UL=(3,3) and LR=(10,1); Blue: UL=(15,14) and LR=(20,10)\n",
    "Yellow: UL=(7,12) and LR=(12,8); Blue: UL=(16,19) and LR=(25,12)\n",
    "Yellow: UL=(3,15) and LR=(13,7); Blue: UL=(11,5) and LR=(17,2)\n",
    "Yellow: UL=(6,15) and LR=(13,7); Blue: UL=(16,16) and LR=(18,5)"
   ]
  },
  {
   "cell_type": "code",
   "execution_count": 44,
   "metadata": {
    "collapsed": false
   },
   "outputs": [
    {
     "name": "stdout",
     "output_type": "stream",
     "text": [
      "[True, True, True, True]\n",
      "[False, False, False, False]\n"
     ]
    }
   ],
   "source": [
    "print rectangle_assignment([3,3], [10,1])\n",
    "print rectangle_assignment([15, 14], [20, 10])"
   ]
  },
  {
   "cell_type": "code",
   "execution_count": 45,
   "metadata": {
    "collapsed": false
   },
   "outputs": [
    {
     "name": "stdout",
     "output_type": "stream",
     "text": [
      "[True, True, True, True]\n",
      "[True, False, False, False]\n"
     ]
    }
   ],
   "source": [
    "print rectangle_assignment([7,12], [12,8])\n",
    "print rectangle_assignment([16, 19], [25, 12])"
   ]
  },
  {
   "cell_type": "code",
   "execution_count": 46,
   "metadata": {
    "collapsed": false
   },
   "outputs": [
    {
     "name": "stdout",
     "output_type": "stream",
     "text": [
      "[True, True, False, True]\n",
      "[True, False, False, False]\n"
     ]
    }
   ],
   "source": [
    "print rectangle_assignment([3, 15], [13, 7])\n",
    "print rectangle_assignment([11, 5], [17, 2])"
   ]
  },
  {
   "cell_type": "code",
   "execution_count": 47,
   "metadata": {
    "collapsed": false,
    "scrolled": true
   },
   "outputs": [
    {
     "name": "stdout",
     "output_type": "stream",
     "text": [
      "[True, True, False, True]\n",
      "[False, False, False, False]\n"
     ]
    }
   ],
   "source": [
    "print rectangle_assignment([6, 15], [13, 7])\n",
    "print rectangle_assignment([16, 16], [18, 15])"
   ]
  },
  {
   "cell_type": "code",
   "execution_count": 8,
   "metadata": {
    "collapsed": false
   },
   "outputs": [
    {
     "data": {
      "text/plain": [
       "3.553801826020486"
      ]
     },
     "execution_count": 8,
     "metadata": {},
     "output_type": "execute_result"
    }
   ],
   "source": [
    "sqrt((0.323/0.554)**2 + (1.066/0.602)**2 + (1.776/0.587)**2)"
   ]
  }
 ],
 "metadata": {
  "kernelspec": {
   "display_name": "Python 2",
   "language": "python",
   "name": "python2"
  },
  "language_info": {
   "codemirror_mode": {
    "name": "ipython",
    "version": 2
   },
   "file_extension": ".py",
   "mimetype": "text/x-python",
   "name": "python",
   "nbconvert_exporter": "python",
   "pygments_lexer": "ipython2",
   "version": "2.7.10"
  }
 },
 "nbformat": 4,
 "nbformat_minor": 0
}
