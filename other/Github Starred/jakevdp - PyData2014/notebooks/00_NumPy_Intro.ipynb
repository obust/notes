{
 "metadata": {
  "name": "",
  "signature": "sha256:0f3a5c2796d782a51c8677b7a673dffa952797363ae08f995bdd0d11931e4a36"
 },
 "nbformat": 3,
 "nbformat_minor": 0,
 "worksheets": [
  {
   "cells": [
    {
     "cell_type": "markdown",
     "metadata": {},
     "source": [
      "# Introduction to NumPy\n",
      "\n",
      "- *Jake VanderPlas*\n",
      "- *Presented at PyData @ Strata, New York City*\n",
      "- *October 15, 2014*\n",
      "\n",
      "*The source for this notebook can be found at http://github.com/jakevdp/PyData2014 *\n",
      "\n",
      "NumPy is a **huge** project, and there's no way to give a complete picture of it in ~40 minutes.\n",
      "So the goal today is to give a motivation for NumPy and a quick intro to what you'll need to get started.\n",
      "\n",
      "Note that this tutorial is written for **Python 3.3 or newer**. In order to be compatible with Python 2.x, we'll do some ``__future__`` imports to start off:"
     ]
    },
    {
     "cell_type": "code",
     "collapsed": false,
     "input": [
      "from __future__ import print_function, division"
     ],
     "language": "python",
     "metadata": {},
     "outputs": [],
     "prompt_number": 1
    },
    {
     "cell_type": "markdown",
     "metadata": {},
     "source": [
      "## Outline\n",
      "\n",
      "1. Motivating NumPy: it increases both *coding efficiency* and *computational efficiency*\n",
      "2. Why is NumPy Faster than Python?\n",
      "3. The core of it all: the ndarray\n",
      "4. Universal Functions\n",
      "5. Aggregates"
     ]
    },
    {
     "cell_type": "markdown",
     "metadata": {},
     "source": [
      "## Motivating NumPy: Efficient Numerical Computing\n",
      "\n",
      "We'll start by attempting to motivate *why* you might want to use NumPy for numerical code.\n",
      "Suppose you'd like to use a plotting tool to graph $y = \\sin(x)$ for $0 \\le x \\le 2\\pi$.\n",
      "Let's think about how you might do this in Python.\n",
      "\n",
      "We'll briefly preview ``matplotlib`` for plotting here; more on this later!"
     ]
    },
    {
     "cell_type": "code",
     "collapsed": false,
     "input": [
      "%matplotlib inline\n",
      "import matplotlib.pyplot as plt\n",
      "\n",
      "# Setup ggplot style, if using matplotlib 1.4 or newer\n",
      "try:\n",
      "    plt.style.use('ggplot')\n",
      "    print(\"Setting Matplotlib style to ggplot\")\n",
      "except AttributeError:\n",
      "    print(\"Update matplotlib to enable styles\")"
     ],
     "language": "python",
     "metadata": {},
     "outputs": [
      {
       "output_type": "stream",
       "stream": "stdout",
       "text": [
        "Setting Matplotlib style to ggplot\n"
       ]
      }
     ],
     "prompt_number": 2
    },
    {
     "cell_type": "markdown",
     "metadata": {},
     "source": [
      "### First Try: A C-like Approach\n",
      "\n",
      "A new Python user with a background in a low-level language like C or Fortran might approach the problem this way:"
     ]
    },
    {
     "cell_type": "code",
     "collapsed": false,
     "input": [
      "import math\n",
      "xmin = 0\n",
      "xmax = 2 * math.pi\n",
      "N = 1000"
     ],
     "language": "python",
     "metadata": {},
     "outputs": [],
     "prompt_number": 3
    },
    {
     "cell_type": "code",
     "collapsed": false,
     "input": [
      "# build the arrays\n",
      "x = []\n",
      "y = []\n",
      "for i in range(N):\n",
      "    xval = xmin + i * (xmax - xmin) / N\n",
      "    x.append(xval)\n",
      "    y.append(math.sin(xval))\n",
      "\n",
      "# Plot the result with matplotlib\n",
      "plt.plot(x, y);"
     ],
     "language": "python",
     "metadata": {},
     "outputs": [
      {
       "metadata": {},
       "output_type": "display_data",
       "png": "[encoded data removed]",
       "text": [
        "<matplotlib.figure.Figure at 0x106c05950>"
       ]
      }
     ],
     "prompt_number": 4
    },
    {
     "cell_type": "markdown",
     "metadata": {},
     "source": [
      "The C/Fortran approach is very prodecural, low-level, and \"hands-on\".\n",
      "Our program individually creates and modifies every value in each list."
     ]
    },
    {
     "cell_type": "markdown",
     "metadata": {},
     "source": [
      "### Second Try: A \"Pythonic\" Approach\n",
      "\n",
      "A more \"Pythonic\" approach would be to avoid the loops in favor of constructs like list or generator comprehensions. A Python expert without too much numerical background might proceed like this:"
     ]
    },
    {
     "cell_type": "code",
     "collapsed": false,
     "input": [
      "x = [xmin + i * (xmax - xmin) / N for i in range(N)]\n",
      "y = [math.sin(xi) for xi in x]\n",
      "\n",
      "plt.plot(x, y);"
     ],
     "language": "python",
     "metadata": {},
     "outputs": [
      {
       "metadata": {},
       "output_type": "display_data",
       "png": "[encoded data removed]",
       "text": [
        "<matplotlib.figure.Figure at 0x106d40c90>"
       ]
      }
     ],
     "prompt_number": 5
    },
    {
     "cell_type": "markdown",
     "metadata": {},
     "source": [
      "The Pythonic approach is beautiful, in that the lists are created in terse yet easy to grok one-line statements."
     ]
    },
    {
     "cell_type": "markdown",
     "metadata": {},
     "source": [
      "### Third Try: a NumPy Approach"
     ]
    },
    {
     "cell_type": "code",
     "collapsed": false,
     "input": [
      "import numpy as np\n",
      "\n",
      "x = np.linspace(xmin, xmax, N)\n",
      "y = np.sin(x)\n",
      "\n",
      "plt.plot(x, y);"
     ],
     "language": "python",
     "metadata": {},
     "outputs": [
      {
       "metadata": {},
       "output_type": "display_data",
       "png": "[encoded data removed]",
       "text": [
        "<matplotlib.figure.Figure at 0x106d40ed0>"
       ]
      }
     ],
     "prompt_number": 6
    },
    {
     "cell_type": "markdown",
     "metadata": {},
     "source": [
      "The NumPy version is perhaps the simplest of all: instead of setting each element of each array \"by hand\", as it were, we instead use simple functions which will create arrays and operate on them element-wise.\n",
      "\n",
      "Let's look at all these side-by-side:"
     ]
    },
    {
     "cell_type": "code",
     "collapsed": false,
     "input": [
      "#---------------------------------------------------\n",
      "# 1. C/Fortran style\n",
      "x = []\n",
      "y = []\n",
      "for i in range(N):\n",
      "    xval = xmin + i * (xmax - xmin) / N\n",
      "    x.append(xval)\n",
      "    y.append(math.sin(xval))\n",
      "\n",
      "#---------------------------------------------------\n",
      "# 2. Pythonic approach\n",
      "x = [xmin + i * (xmax - xmin) / N for i in range(N)]\n",
      "y = [math.sin(xi) for xi in x]\n",
      "\n",
      "#---------------------------------------------------\n",
      "# 3. NumPy approach\n",
      "x = np.linspace(xmin, xmax, N)\n",
      "y = np.sin(x)"
     ],
     "language": "python",
     "metadata": {},
     "outputs": [],
     "prompt_number": 7
    },
    {
     "cell_type": "markdown",
     "metadata": {},
     "source": [
      "It's clear that NumPy is the most efficient to type; how does it compare when it comes to computation time? Let's use IPython's ``%%timeit`` cell magic to check. To make things more interesting, let's increase *N* to 100,000:"
     ]
    },
    {
     "cell_type": "code",
     "collapsed": false,
     "input": [
      "N = 100000"
     ],
     "language": "python",
     "metadata": {},
     "outputs": [],
     "prompt_number": 8
    },
    {
     "cell_type": "code",
     "collapsed": false,
     "input": [
      "%%timeit\n",
      "# 1. C/Fortran style\n",
      "x = []\n",
      "y = []\n",
      "for i in range(N):\n",
      "    xval = xmin + i * (xmax - xmin) / N\n",
      "    x.append(xval)\n",
      "    y.append(math.sin(xval))"
     ],
     "language": "python",
     "metadata": {},
     "outputs": [
      {
       "output_type": "stream",
       "stream": "stdout",
       "text": [
        "10 loops, best of 3: 61.2 ms per loop\n"
       ]
      }
     ],
     "prompt_number": 9
    },
    {
     "cell_type": "code",
     "collapsed": false,
     "input": [
      "%%timeit\n",
      "# 2. Pythonic style\n",
      "x = [xmin + i * (xmax - xmin) / N for i in range(N)]\n",
      "y = [math.sin(xi) for xi in x]"
     ],
     "language": "python",
     "metadata": {},
     "outputs": [
      {
       "output_type": "stream",
       "stream": "stdout",
       "text": [
        "10 loops, best of 3: 45.3 ms per loop\n"
       ]
      }
     ],
     "prompt_number": 10
    },
    {
     "cell_type": "code",
     "collapsed": false,
     "input": [
      "%%timeit\n",
      "# 3. NumPy approach\n",
      "x = np.linspace(xmin, xmax, N)\n",
      "y = np.sin(x)"
     ],
     "language": "python",
     "metadata": {},
     "outputs": [
      {
       "output_type": "stream",
       "stream": "stdout",
       "text": [
        "1000 loops, best of 3: 1.74 ms per loop\n"
       ]
      }
     ],
     "prompt_number": 11
    },
    {
     "cell_type": "markdown",
     "metadata": {},
     "source": [
      "We see that for this operation, NumPy is **30-40x faster** than either of the pure Python approaches!\n",
      "\n",
      "What we've seen above, in a nutshell, is why NumPy is useful for numerical computing:\n",
      "\n",
      "1. Numerical operations across arrays are **faster and more natural to type.**\n",
      "2. Numerical operations across arrays are **more clear to read.**\n",
      "3. Numerical operations across arrays are **more computationally efficient.**"
     ]
    },
    {
     "cell_type": "markdown",
     "metadata": {},
     "source": [
      "## So Why is NumPy So Much Faster?\n",
      "\n",
      "The reasons that these operations are so much faster in NumPy than in Python boils down to the fact that **Python is not a compiled language**, while NumPy pushes certain operations down into compiled code. We'll talk about three main components of this below:"
     ]
    },
    {
     "cell_type": "markdown",
     "metadata": {},
     "source": [
      "### 1. Python is Dynamically rather than Statically Typed\n",
      "\n",
      "Python is a dynamically-typed language, where just about anything goes.\n",
      "This means you can do things that would seem downright silly in C or Fortran, like replace an integer in an array with a string:"
     ]
    },
    {
     "cell_type": "code",
     "collapsed": false,
     "input": [
      "L = list(range(5))\n",
      "L"
     ],
     "language": "python",
     "metadata": {},
     "outputs": [
      {
       "metadata": {},
       "output_type": "pyout",
       "prompt_number": 12,
       "text": [
        "[0, 1, 2, 3, 4]"
       ]
      }
     ],
     "prompt_number": 12
    },
    {
     "cell_type": "code",
     "collapsed": false,
     "input": [
      "L[3] = \"three\"\n",
      "L"
     ],
     "language": "python",
     "metadata": {},
     "outputs": [
      {
       "metadata": {},
       "output_type": "pyout",
       "prompt_number": 13,
       "text": [
        "[0, 1, 2, 'three', 4]"
       ]
      }
     ],
     "prompt_number": 13
    },
    {
     "cell_type": "markdown",
     "metadata": {},
     "source": [
      "The reason that Python can be so flexible is that, fundamentally **all objects are of the same type**: they are ``PyObject`` instances. Each ``PyObject`` does have an indicator of what type it is, but this information is *accessed at run-time*, rather than at some compile phase.\n",
      "\n",
      "Functionally, the difference between a C integer and a Python integer looks like this:\n",
      "\n",
      "<img src=\"images/cint_vs_pyint.png\" width=45%>\n",
      "\n",
      "That ``PyObject_HEAD`` block is what contains all of Python's dynamic goodies, like the type, reference count, etc.\n",
      "\n",
      "*Yes, there are modern JIT-compiled languages which bridge this gap, but Python doesn't yet do this, and the projects that do (PyPy, Pyston, etc.) aren't yet mature enough to use for numerical computing in practice.*"
     ]
    },
    {
     "cell_type": "markdown",
     "metadata": {},
     "source": [
      "### 2. Python is Interpreted rather than Compiled\n",
      "\n",
      "This dynamic type-checking means that Python's code cannot be pre-compiled, as with C/Fortran/etc.\n",
      "So, for example, when we multiply each of our list elements by two, we get the following:"
     ]
    },
    {
     "cell_type": "code",
     "collapsed": false,
     "input": [
      "[2 * Li for Li in L]"
     ],
     "language": "python",
     "metadata": {},
     "outputs": [
      {
       "metadata": {},
       "output_type": "pyout",
       "prompt_number": 14,
       "text": [
        "[0, 2, 4, 'threethree', 8]"
       ]
      }
     ],
     "prompt_number": 14
    },
    {
     "cell_type": "markdown",
     "metadata": {},
     "source": [
      "Notice that the ``*`` operator does fundamentally different things with integer vs. string objects!\n",
      "Here the ``*`` cannot be mapped onto some machine-code function until the program is actually run: this leads to type-checking overhead each time the function is called, even if you have an array of all integers! There's no way for Python to know ahead of time that the same ``*`` needs to be used each time: this is the sense in which it's interpreted rather than compiled.\n",
      "\n",
      "*Yes, Python is compiled to a sort of bytecode (i.e. ``.pyc`` files), but no deep optimization takes place: this bytecode is basically a 1-to-1 mapping to the Python code that generates it.*"
     ]
    },
    {
     "cell_type": "markdown",
     "metadata": {},
     "source": [
      "### 3. Python's flexible object model can lead to inefficiencies\n",
      "\n",
      "When it comes to creating lists or arrays of objects, the fact that Python is dynamically typed can make a **huge** difference: consider the memory layout of a NumPy array vs that of a Python list.\n",
      "Consider the following two objects:"
     ]
    },
    {
     "cell_type": "code",
     "collapsed": false,
     "input": [
      "L = list(range(1, 9))\n",
      "L"
     ],
     "language": "python",
     "metadata": {},
     "outputs": [
      {
       "metadata": {},
       "output_type": "pyout",
       "prompt_number": 15,
       "text": [
        "[1, 2, 3, 4, 5, 6, 7, 8]"
       ]
      }
     ],
     "prompt_number": 15
    },
    {
     "cell_type": "code",
     "collapsed": false,
     "input": [
      "A = np.arange(1, 9)\n",
      "A"
     ],
     "language": "python",
     "metadata": {},
     "outputs": [
      {
       "metadata": {},
       "output_type": "pyout",
       "prompt_number": 16,
       "text": [
        "array([1, 2, 3, 4, 5, 6, 7, 8])"
       ]
      }
     ],
     "prompt_number": 16
    },
    {
     "cell_type": "markdown",
     "metadata": {},
     "source": [
      "They may look superfically similar, but under the hood they are anything but. Here's a schematic of their memory configuration under-the-hood:\n",
      "\n",
      "<img src=\"images/array_vs_list.png\" width=80%>\n",
      "\n",
      "NumPy arrays are simply pointers to buffers containing data of a uniform type; Python lists are *pointers to pointers*, each of which in turn points to a ``PyObject`` instance existing in memory.\n",
      "\n",
      "*Yes, Python has built-in ``array`` objects that provide mono-typed storage buffers, but they are nowhere near as useful as NumPy's arrays.*"
     ]
    },
    {
     "cell_type": "markdown",
     "metadata": {},
     "source": [
      "## Exploring NumPy's ``ndarray`` object\n",
      "\n",
      "NumPy's ``ndarray`` object is essentially a pointer to a data buffer, with metadata telling us how to interpret it.\n",
      "\n",
      "<center>\n",
      "<img src=\"files/images/dtype.png\" width=60%>\n",
      "</center>"
     ]
    },
    {
     "cell_type": "markdown",
     "metadata": {},
     "source": [
      "For example, we can create the following one-dimensional array:"
     ]
    },
    {
     "cell_type": "code",
     "collapsed": false,
     "input": [
      "x = np.arange(10)\n",
      "x"
     ],
     "language": "python",
     "metadata": {},
     "outputs": [
      {
       "metadata": {},
       "output_type": "pyout",
       "prompt_number": 17,
       "text": [
        "array([0, 1, 2, 3, 4, 5, 6, 7, 8, 9])"
       ]
      }
     ],
     "prompt_number": 17
    },
    {
     "cell_type": "markdown",
     "metadata": {},
     "source": [
      "Let's look at some of the important attributes of this object:"
     ]
    },
    {
     "cell_type": "code",
     "collapsed": false,
     "input": [
      "# data type\n",
      "x.dtype"
     ],
     "language": "python",
     "metadata": {},
     "outputs": [
      {
       "metadata": {},
       "output_type": "pyout",
       "prompt_number": 18,
       "text": [
        "dtype('int64')"
       ]
      }
     ],
     "prompt_number": 18
    },
    {
     "cell_type": "code",
     "collapsed": false,
     "input": [
      "# array shape\n",
      "x.shape"
     ],
     "language": "python",
     "metadata": {},
     "outputs": [
      {
       "metadata": {},
       "output_type": "pyout",
       "prompt_number": 19,
       "text": [
        "(10,)"
       ]
      }
     ],
     "prompt_number": 19
    },
    {
     "cell_type": "code",
     "collapsed": false,
     "input": [
      "# number of dimensions\n",
      "x.ndim"
     ],
     "language": "python",
     "metadata": {},
     "outputs": [
      {
       "metadata": {},
       "output_type": "pyout",
       "prompt_number": 20,
       "text": [
        "1"
       ]
      }
     ],
     "prompt_number": 20
    },
    {
     "cell_type": "code",
     "collapsed": false,
     "input": [
      "# size of the array\n",
      "x.size"
     ],
     "language": "python",
     "metadata": {},
     "outputs": [
      {
       "metadata": {},
       "output_type": "pyout",
       "prompt_number": 21,
       "text": [
        "10"
       ]
      }
     ],
     "prompt_number": 21
    },
    {
     "cell_type": "code",
     "collapsed": false,
     "input": [
      "# number of bytes to step for each dimension\n",
      "x.strides"
     ],
     "language": "python",
     "metadata": {},
     "outputs": [
      {
       "metadata": {},
       "output_type": "pyout",
       "prompt_number": 22,
       "text": [
        "(8,)"
       ]
      }
     ],
     "prompt_number": 22
    },
    {
     "cell_type": "code",
     "collapsed": false,
     "input": [
      "# flags specifying array properties\n",
      "x.flags"
     ],
     "language": "python",
     "metadata": {},
     "outputs": [
      {
       "metadata": {},
       "output_type": "pyout",
       "prompt_number": 23,
       "text": [
        "  C_CONTIGUOUS : True\n",
        "  F_CONTIGUOUS : True\n",
        "  OWNDATA : True\n",
        "  WRITEABLE : True\n",
        "  ALIGNED : True\n",
        "  UPDATEIFCOPY : False"
       ]
      }
     ],
     "prompt_number": 23
    },
    {
     "cell_type": "markdown",
     "metadata": {},
     "source": [
      "## Arrays as Views"
     ]
    },
    {
     "cell_type": "markdown",
     "metadata": {},
     "source": [
      "Let's focus on this ``OWNDATA`` property of the ``x`` array above.\n",
      "Here we see that the array ``x`` owns its data, but if we create some derived array from ``x``, this will change.\n",
      "Let's use Python's standard slicing syntax to create a new array containing every other item in ``x``:"
     ]
    },
    {
     "cell_type": "code",
     "collapsed": false,
     "input": [
      "y = x[::2]\n",
      "y"
     ],
     "language": "python",
     "metadata": {},
     "outputs": [
      {
       "metadata": {},
       "output_type": "pyout",
       "prompt_number": 24,
       "text": [
        "array([0, 2, 4, 6, 8])"
       ]
      }
     ],
     "prompt_number": 24
    },
    {
     "cell_type": "markdown",
     "metadata": {},
     "source": [
      "Checking ``y``'s flags, we see now that ``OWNDATA`` is False:"
     ]
    },
    {
     "cell_type": "code",
     "collapsed": false,
     "input": [
      "y.flags"
     ],
     "language": "python",
     "metadata": {},
     "outputs": [
      {
       "metadata": {},
       "output_type": "pyout",
       "prompt_number": 25,
       "text": [
        "  C_CONTIGUOUS : False\n",
        "  F_CONTIGUOUS : False\n",
        "  OWNDATA : False\n",
        "  WRITEABLE : True\n",
        "  ALIGNED : True\n",
        "  UPDATEIFCOPY : False"
       ]
      }
     ],
     "prompt_number": 25
    },
    {
     "cell_type": "markdown",
     "metadata": {},
     "source": [
      "``x`` still owns the data; ``y`` simply has a pointer to it!\n",
      "Let's demonstrate this by changing one of the values in ``y``, and observing that the corresponding ``x`` value changes as well:"
     ]
    },
    {
     "cell_type": "code",
     "collapsed": false,
     "input": [
      "y[2] = 100\n",
      "x"
     ],
     "language": "python",
     "metadata": {},
     "outputs": [
      {
       "metadata": {},
       "output_type": "pyout",
       "prompt_number": 26,
       "text": [
        "array([  0,   1,   2,   3, 100,   5,   6,   7,   8,   9])"
       ]
      }
     ],
     "prompt_number": 26
    },
    {
     "cell_type": "markdown",
     "metadata": {},
     "source": [
      "So how does this work?\n",
      "It turns out that ``x`` and ``y`` point to the *same memory buffer*, but view it in different ways:"
     ]
    },
    {
     "cell_type": "code",
     "collapsed": false,
     "input": [
      "import ctypes\n",
      "print(x.data, x.itemsize, x.strides)\n",
      "print(y.data, y.itemsize, y.strides)"
     ],
     "language": "python",
     "metadata": {},
     "outputs": [
      {
       "output_type": "stream",
       "stream": "stdout",
       "text": [
        "<memory at 0x106b72c80> 8 (8,)\n",
        "<memory at 0x106b72c80> 8 (16,)\n"
       ]
      }
     ],
     "prompt_number": 27
    },
    {
     "cell_type": "markdown",
     "metadata": {},
     "source": [
      "The ``strides`` attribute shows you the number of bytes for each step in the array; ``y`` essentially takes two 8-byte steps each time it accesses the next array element."
     ]
    },
    {
     "cell_type": "code",
     "collapsed": false,
     "input": [
      "print(x)\n",
      "print(y)"
     ],
     "language": "python",
     "metadata": {},
     "outputs": [
      {
       "output_type": "stream",
       "stream": "stdout",
       "text": [
        "[  0   1   2   3 100   5   6   7   8   9]\n",
        "[  0   2 100   6   8]\n"
       ]
      }
     ],
     "prompt_number": 28
    },
    {
     "cell_type": "markdown",
     "metadata": {},
     "source": [
      "Thus we see that when constructing arrays, we generally will end up with **views** rather than **copies** of source arrays. This is one extremely powerful aspect of NumPy, but also something you should certainly be aware of!"
     ]
    },
    {
     "cell_type": "code",
     "collapsed": false,
     "input": [
      "# Side note: if you actually want a copy, you can do, e.g.\n",
      "y = x[::2].copy()"
     ],
     "language": "python",
     "metadata": {},
     "outputs": [],
     "prompt_number": 29
    },
    {
     "cell_type": "markdown",
     "metadata": {},
     "source": [
      "Such views can be even more powerful: for example, we can reshape ``x`` into a two-dimensional array:"
     ]
    },
    {
     "cell_type": "code",
     "collapsed": false,
     "input": [
      "x2 = x.reshape(2, 5)\n",
      "x2"
     ],
     "language": "python",
     "metadata": {},
     "outputs": [
      {
       "metadata": {},
       "output_type": "pyout",
       "prompt_number": 30,
       "text": [
        "array([[  0,   1,   2,   3, 100],\n",
        "       [  5,   6,   7,   8,   9]])"
       ]
      }
     ],
     "prompt_number": 30
    },
    {
     "cell_type": "markdown",
     "metadata": {},
     "source": [
      "Again, this is simply a view of ``x``:"
     ]
    },
    {
     "cell_type": "code",
     "collapsed": false,
     "input": [
      "x2[1, 4] = 42\n",
      "x2"
     ],
     "language": "python",
     "metadata": {},
     "outputs": [
      {
       "metadata": {},
       "output_type": "pyout",
       "prompt_number": 31,
       "text": [
        "array([[  0,   1,   2,   3, 100],\n",
        "       [  5,   6,   7,   8,  42]])"
       ]
      }
     ],
     "prompt_number": 31
    },
    {
     "cell_type": "code",
     "collapsed": false,
     "input": [
      "x"
     ],
     "language": "python",
     "metadata": {},
     "outputs": [
      {
       "metadata": {},
       "output_type": "pyout",
       "prompt_number": 32,
       "text": [
        "array([  0,   1,   2,   3, 100,   5,   6,   7,   8,  42])"
       ]
      }
     ],
     "prompt_number": 32
    },
    {
     "cell_type": "markdown",
     "metadata": {},
     "source": [
      "Let's see some of the attributes of ``x2``:"
     ]
    },
    {
     "cell_type": "code",
     "collapsed": false,
     "input": [
      "# number of dimensions\n",
      "x2.ndim"
     ],
     "language": "python",
     "metadata": {},
     "outputs": [
      {
       "metadata": {},
       "output_type": "pyout",
       "prompt_number": 33,
       "text": [
        "2"
       ]
      }
     ],
     "prompt_number": 33
    },
    {
     "cell_type": "code",
     "collapsed": false,
     "input": [
      "# shape of the array\n",
      "x2.shape"
     ],
     "language": "python",
     "metadata": {},
     "outputs": [
      {
       "metadata": {},
       "output_type": "pyout",
       "prompt_number": 34,
       "text": [
        "(2, 5)"
       ]
      }
     ],
     "prompt_number": 34
    },
    {
     "cell_type": "code",
     "collapsed": false,
     "input": [
      "# size of the array\n",
      "x2.size"
     ],
     "language": "python",
     "metadata": {},
     "outputs": [
      {
       "metadata": {},
       "output_type": "pyout",
       "prompt_number": 35,
       "text": [
        "10"
       ]
      }
     ],
     "prompt_number": 35
    },
    {
     "cell_type": "code",
     "collapsed": false,
     "input": [
      "# number of bytes to step for each dimension\n",
      "x2.strides"
     ],
     "language": "python",
     "metadata": {},
     "outputs": [
      {
       "metadata": {},
       "output_type": "pyout",
       "prompt_number": 36,
       "text": [
        "(40, 8)"
       ]
      }
     ],
     "prompt_number": 36
    },
    {
     "cell_type": "code",
     "collapsed": false,
     "input": [
      "x2.flags"
     ],
     "language": "python",
     "metadata": {},
     "outputs": [
      {
       "metadata": {},
       "output_type": "pyout",
       "prompt_number": 37,
       "text": [
        "  C_CONTIGUOUS : True\n",
        "  F_CONTIGUOUS : False\n",
        "  OWNDATA : False\n",
        "  WRITEABLE : True\n",
        "  ALIGNED : True\n",
        "  UPDATEIFCOPY : False"
       ]
      }
     ],
     "prompt_number": 37
    },
    {
     "cell_type": "markdown",
     "metadata": {},
     "source": [
      "So as you use NumPy arrays, keep this in mind! What you are using is a *Python object* which views a *raw data buffer* as a flexible array:\n",
      "\n",
      "<center>\n",
      "<img src=\"files/images/dtype.png\" width=60%>\n",
      "</center>"
     ]
    },
    {
     "cell_type": "markdown",
     "metadata": {},
     "source": [
      "## Creating NumPy Arrays\n",
      "\n",
      "Here we'll demonstrate some functions to create NumPy arrays from scratch:"
     ]
    },
    {
     "cell_type": "code",
     "collapsed": false,
     "input": [
      "# Array of zeros\n",
      "np.zeros((2, 3))"
     ],
     "language": "python",
     "metadata": {},
     "outputs": [
      {
       "metadata": {},
       "output_type": "pyout",
       "prompt_number": 38,
       "text": [
        "array([[ 0.,  0.,  0.],\n",
        "       [ 0.,  0.,  0.]])"
       ]
      }
     ],
     "prompt_number": 38
    },
    {
     "cell_type": "code",
     "collapsed": false,
     "input": [
      "# Array of ones\n",
      "np.ones((3, 4))"
     ],
     "language": "python",
     "metadata": {},
     "outputs": [
      {
       "metadata": {},
       "output_type": "pyout",
       "prompt_number": 39,
       "text": [
        "array([[ 1.,  1.,  1.,  1.],\n",
        "       [ 1.,  1.,  1.,  1.],\n",
        "       [ 1.,  1.,  1.,  1.]])"
       ]
      }
     ],
     "prompt_number": 39
    },
    {
     "cell_type": "code",
     "collapsed": false,
     "input": [
      "# Like Python's range() function\n",
      "np.arange(10)"
     ],
     "language": "python",
     "metadata": {},
     "outputs": [
      {
       "metadata": {},
       "output_type": "pyout",
       "prompt_number": 40,
       "text": [
        "array([0, 1, 2, 3, 4, 5, 6, 7, 8, 9])"
       ]
      }
     ],
     "prompt_number": 40
    },
    {
     "cell_type": "code",
     "collapsed": false,
     "input": [
      "# 5 steps from 0 to 1\n",
      "np.linspace(0, 1, 5)"
     ],
     "language": "python",
     "metadata": {},
     "outputs": [
      {
       "metadata": {},
       "output_type": "pyout",
       "prompt_number": 41,
       "text": [
        "array([ 0.  ,  0.25,  0.5 ,  0.75,  1.  ])"
       ]
      }
     ],
     "prompt_number": 41
    },
    {
     "cell_type": "code",
     "collapsed": false,
     "input": [
      "# uninitialized array\n",
      "np.empty(10)"
     ],
     "language": "python",
     "metadata": {},
     "outputs": [
      {
       "metadata": {},
       "output_type": "pyout",
       "prompt_number": 42,
       "text": [
        "array([ 0.,  0.,  0.,  0.,  0.,  0.,  0.,  0.,  0.,  0.])"
       ]
      }
     ],
     "prompt_number": 42
    },
    {
     "cell_type": "code",
     "collapsed": false,
     "input": [
      "# random numbers between 0 and 1\n",
      "np.random.rand(5)"
     ],
     "language": "python",
     "metadata": {},
     "outputs": [
      {
       "metadata": {},
       "output_type": "pyout",
       "prompt_number": 43,
       "text": [
        "array([ 0.48200098,  0.91255848,  0.43654199,  0.86788548,  0.36746416])"
       ]
      }
     ],
     "prompt_number": 43
    },
    {
     "cell_type": "code",
     "collapsed": false,
     "input": [
      "# standard-norm-distributed random numbers\n",
      "np.random.randn(5)"
     ],
     "language": "python",
     "metadata": {},
     "outputs": [
      {
       "metadata": {},
       "output_type": "pyout",
       "prompt_number": 44,
       "text": [
        "array([-0.86029106,  0.27795606, -1.59104791, -0.30107627,  0.46938077])"
       ]
      }
     ],
     "prompt_number": 44
    },
    {
     "cell_type": "markdown",
     "metadata": {},
     "source": [
      "## Some Strategies for Fast Computing with NumPy\n",
      "\n",
      "Here we'll discuss a couple strategies for fast computing with NumPy.\n",
      "In particular, we'll mention **universal functions**, which operate elementwise on arrays, and **aggregate functions**, which collapse arrays along particular dimensions."
     ]
    },
    {
     "cell_type": "markdown",
     "metadata": {},
     "source": [
      "### Universal Functions\n",
      "\n",
      "Where the rubber hits the road with NumPy is with Universal functions: these are functions which operate *elementwise* on arrays. We saw this above with the ``np.sin`` function, which takes an array and returns an array with the elementwise sine:"
     ]
    },
    {
     "cell_type": "code",
     "collapsed": false,
     "input": [
      "x = np.linspace(0, 2 * np.pi)\n",
      "y = np.sin(x)\n",
      "print(x.shape)\n",
      "print(y.shape)"
     ],
     "language": "python",
     "metadata": {},
     "outputs": [
      {
       "output_type": "stream",
       "stream": "stdout",
       "text": [
        "(50,)\n",
        "(50,)\n"
       ]
      }
     ],
     "prompt_number": 45
    },
    {
     "cell_type": "code",
     "collapsed": false,
     "input": [
      "plt.plot(x, y);"
     ],
     "language": "python",
     "metadata": {},
     "outputs": [
      {
       "metadata": {},
       "output_type": "display_data",
       "png": "[encoded data removed]",
       "text": [
        "<matplotlib.figure.Figure at 0x106cae9d0>"
       ]
      }
     ],
     "prompt_number": 46
    },
    {
     "cell_type": "markdown",
     "metadata": {},
     "source": [
      "NumPy also implements many arithmetic functions (e.g. ``+``, ``-``, ``*``, ``/``, ``**``) as element-wise ufuncs. So we can do things like this:"
     ]
    },
    {
     "cell_type": "code",
     "collapsed": false,
     "input": [
      "plt.plot(x, y)\n",
      "plt.plot(x, y + 1)\n",
      "plt.plot(x, -2 * y)\n",
      "plt.plot(x, 1 / (1 + y ** 2));"
     ],
     "language": "python",
     "metadata": {},
     "outputs": [
      {
       "metadata": {},
       "output_type": "display_data",
       "png": "[encoded data removed]",
       "text": [
        "<matplotlib.figure.Figure at 0x106ea1e90>"
       ]
      }
     ],
     "prompt_number": 47
    },
    {
     "cell_type": "markdown",
     "metadata": {},
     "source": [
      "You can find a lot of interesting ufuncs in NumPy: for example"
     ]
    },
    {
     "cell_type": "code",
     "collapsed": false,
     "input": [
      "for f in [np.sin, np.cos, np.exp, np.log, np.sinc]:\n",
      "    plt.plot(x, f(x), label='np.' + f.__name__)\n",
      "plt.legend()\n",
      "plt.ylim(-1, 5)"
     ],
     "language": "python",
     "metadata": {},
     "outputs": [
      {
       "output_type": "stream",
       "stream": "stderr",
       "text": [
        "-c:2: RuntimeWarning: divide by zero encountered in log\n"
       ]
      },
      {
       "metadata": {},
       "output_type": "pyout",
       "prompt_number": 48,
       "text": [
        "(-1, 5)"
       ]
      },
      {
       "metadata": {},
       "output_type": "display_data",
       "png": "[encoded data removed]",
       "text": [
        "<matplotlib.figure.Figure at 0x106ecfb50>"
       ]
      }
     ],
     "prompt_number": 48
    },
    {
     "cell_type": "markdown",
     "metadata": {},
     "source": [
      "Other interesting functions can be found in ``scipy.special``. For example, here are some Bessell functions:"
     ]
    },
    {
     "cell_type": "code",
     "collapsed": false,
     "input": [
      "from scipy import special\n",
      "x = np.linspace(0, 30, 500)\n",
      "plt.plot(x, special.j0(x), label='j0')\n",
      "plt.plot(x, special.j1(x), label='j1')\n",
      "plt.plot(x, special.jn(3, x), label='j3')\n",
      "plt.legend();"
     ],
     "language": "python",
     "metadata": {},
     "outputs": [
      {
       "metadata": {},
       "output_type": "display_data",
       "png": "[encoded data removed]",
       "text": [
        "<matplotlib.figure.Figure at 0x106e84b90>"
       ]
      }
     ],
     "prompt_number": 67
    },
    {
     "cell_type": "markdown",
     "metadata": {},
     "source": [
      "There are **far, far** more options available, and if you want some sort of specialized mathematical function, you can probably find a ufunc version of it in ``scipy.special``.\n",
      "Perhaps the best way to explore this is to use IPython's help or tab-completion features:"
     ]
    },
    {
     "cell_type": "code",
     "collapsed": false,
     "input": [
      "from scipy import special\n",
      "special?"
     ],
     "language": "python",
     "metadata": {},
     "outputs": [],
     "prompt_number": 68
    },
    {
     "cell_type": "markdown",
     "metadata": {},
     "source": [
      "Notice the key here **UFuncs loop over data for you, so you don't have to write these loops by hand in Python**."
     ]
    },
    {
     "cell_type": "markdown",
     "metadata": {},
     "source": [
      "### Aggregate Functions\n",
      "\n",
      "Aggregate function are those which collapse an array along a particular dimension.\n",
      "For example, the minimum of an array can be found using NumPy's ``min()`` aggregate:"
     ]
    },
    {
     "cell_type": "code",
     "collapsed": false,
     "input": [
      "x = np.random.random(100)\n",
      "x.min()"
     ],
     "language": "python",
     "metadata": {},
     "outputs": [
      {
       "metadata": {},
       "output_type": "pyout",
       "prompt_number": 50,
       "text": [
        "0.0040929643153089224"
       ]
      }
     ],
     "prompt_number": 50
    },
    {
     "cell_type": "markdown",
     "metadata": {},
     "source": [
      "Other aggregates exist as well:"
     ]
    },
    {
     "cell_type": "code",
     "collapsed": false,
     "input": [
      "# Maximum value\n",
      "x.max()"
     ],
     "language": "python",
     "metadata": {},
     "outputs": [
      {
       "metadata": {},
       "output_type": "pyout",
       "prompt_number": 51,
       "text": [
        "0.96697914536521146"
       ]
      }
     ],
     "prompt_number": 51
    },
    {
     "cell_type": "code",
     "collapsed": false,
     "input": [
      "# Sum\n",
      "x.sum()"
     ],
     "language": "python",
     "metadata": {},
     "outputs": [
      {
       "metadata": {},
       "output_type": "pyout",
       "prompt_number": 52,
       "text": [
        "49.430117531542443"
       ]
      }
     ],
     "prompt_number": 52
    },
    {
     "cell_type": "code",
     "collapsed": false,
     "input": [
      "# Mean\n",
      "x.mean()"
     ],
     "language": "python",
     "metadata": {},
     "outputs": [
      {
       "metadata": {},
       "output_type": "pyout",
       "prompt_number": 53,
       "text": [
        "0.49430117531542445"
       ]
      }
     ],
     "prompt_number": 53
    },
    {
     "cell_type": "code",
     "collapsed": false,
     "input": [
      "# Product\n",
      "x.prod()"
     ],
     "language": "python",
     "metadata": {},
     "outputs": [
      {
       "metadata": {},
       "output_type": "pyout",
       "prompt_number": 54,
       "text": [
        "4.6730597420222299e-46"
       ]
      }
     ],
     "prompt_number": 54
    },
    {
     "cell_type": "code",
     "collapsed": false,
     "input": [
      "# Standard Deviation\n",
      "x.std()"
     ],
     "language": "python",
     "metadata": {},
     "outputs": [
      {
       "metadata": {},
       "output_type": "pyout",
       "prompt_number": 55,
       "text": [
        "0.28299025459860538"
       ]
      }
     ],
     "prompt_number": 55
    },
    {
     "cell_type": "code",
     "collapsed": false,
     "input": [
      "# Variance\n",
      "x.var()"
     ],
     "language": "python",
     "metadata": {},
     "outputs": [
      {
       "metadata": {},
       "output_type": "pyout",
       "prompt_number": 56,
       "text": [
        "0.080083484197783508"
       ]
      }
     ],
     "prompt_number": 56
    },
    {
     "cell_type": "code",
     "collapsed": false,
     "input": [
      "# Median\n",
      "np.median(x)"
     ],
     "language": "python",
     "metadata": {},
     "outputs": [
      {
       "metadata": {},
       "output_type": "pyout",
       "prompt_number": 57,
       "text": [
        "0.51601049164335466"
       ]
      }
     ],
     "prompt_number": 57
    },
    {
     "cell_type": "code",
     "collapsed": false,
     "input": [
      "# Quantiles\n",
      "np.percentile(x, [25, 50, 75])"
     ],
     "language": "python",
     "metadata": {},
     "outputs": [
      {
       "metadata": {},
       "output_type": "pyout",
       "prompt_number": 58,
       "text": [
        "array([ 0.25034498,  0.51601049,  0.71508313])"
       ]
      }
     ],
     "prompt_number": 58
    },
    {
     "cell_type": "markdown",
     "metadata": {},
     "source": [
      "For multi-dimensional arrays, we can compute aggregates along certain specified dimensions:"
     ]
    },
    {
     "cell_type": "code",
     "collapsed": false,
     "input": [
      "y = np.arange(12).reshape(3, 4)\n",
      "y"
     ],
     "language": "python",
     "metadata": {},
     "outputs": [
      {
       "metadata": {},
       "output_type": "pyout",
       "prompt_number": 59,
       "text": [
        "array([[ 0,  1,  2,  3],\n",
        "       [ 4,  5,  6,  7],\n",
        "       [ 8,  9, 10, 11]])"
       ]
      }
     ],
     "prompt_number": 59
    },
    {
     "cell_type": "code",
     "collapsed": false,
     "input": [
      "# sum of each column\n",
      "y.sum(0)"
     ],
     "language": "python",
     "metadata": {},
     "outputs": [
      {
       "metadata": {},
       "output_type": "pyout",
       "prompt_number": 60,
       "text": [
        "array([12, 15, 18, 21])"
       ]
      }
     ],
     "prompt_number": 60
    },
    {
     "cell_type": "code",
     "collapsed": false,
     "input": [
      "# sum of each row\n",
      "y.sum(1)"
     ],
     "language": "python",
     "metadata": {},
     "outputs": [
      {
       "metadata": {},
       "output_type": "pyout",
       "prompt_number": 61,
       "text": [
        "array([ 6, 22, 38])"
       ]
      }
     ],
     "prompt_number": 61
    },
    {
     "cell_type": "code",
     "collapsed": false,
     "input": [
      "# Keep the dimensions (NumPy 1.7 or later)\n",
      "y.sum(1, keepdims=True)"
     ],
     "language": "python",
     "metadata": {},
     "outputs": [
      {
       "metadata": {},
       "output_type": "pyout",
       "prompt_number": 62,
       "text": [
        "array([[ 6],\n",
        "       [22],\n",
        "       [38]])"
       ]
      }
     ],
     "prompt_number": 62
    },
    {
     "cell_type": "code",
     "collapsed": false,
     "input": [
      "np.std(y, 0)"
     ],
     "language": "python",
     "metadata": {},
     "outputs": [
      {
       "metadata": {},
       "output_type": "pyout",
       "prompt_number": 63,
       "text": [
        "array([ 3.26598632,  3.26598632,  3.26598632,  3.26598632])"
       ]
      }
     ],
     "prompt_number": 63
    },
    {
     "cell_type": "markdown",
     "metadata": {},
     "source": [
      "As with ufuncs, the key is this: **Aggregates loop over data for you, so you don't have to write the loops yourself in Python.**"
     ]
    },
    {
     "cell_type": "markdown",
     "metadata": {},
     "source": [
      "## Last Thoughts; Where to Learn More\n",
      "\n",
      "We've just scratched the surface here: there is much more to using NumPy effectively and efficiently. We haven't covered topics like advanced indexing & slicing, masked arrays, structured arrays, linear algebra, fourier transforms, and the many more utilities that are available.\n",
      "\n",
      "If there's one thing to take away from this brief introduction, it's this:\n",
      "\n",
      "<big><font color=\"red\"> If you write Python loops which scan over your data, you're (most likely) doing it wrong. </font></big>\n",
      "<br>\n",
      "\n",
      "NumPy provides routines to replace *loops* with *vectorized* operations, as we've seen above, and this is where it gains its efficiency.\n",
      "\n",
      "For a more in-depth presentiation on the subject of efficient computing with NumPy, you can see [this 1.5 hour tutorial](http://vimeo.com/79820956) I gave at PyData 2013 (view the notebook [here](http://nbviewer.ipython.org/github/jakevdp/2014_fall_ASTR599/blob/master/notebooks/11_EfficientNumpy.ipynb))."
     ]
    }
   ],
   "metadata": {}
  }
 ]
}