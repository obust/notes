{
 "cells": [
  {
   "cell_type": "markdown",
   "metadata": {},
   "source": [
    "# Matplotlib Tutorial\n",
    "\n",
    "- *Jake VanderPlas*\n",
    "- *Presented at PyData @ Strata, New York City*\n",
    "- *October 15, 2014*"
   ]
  },
  {
   "cell_type": "markdown",
   "metadata": {},
   "source": [
    "### Summary\n",
    "1. [Basic Plotting](01_mpl_BasicPlotting.ipynb)\n",
    "2. [Object-Oriented Plotting](02_mpl_ObjectOriented.ipynb)\n",
    "3. [Various Useful Plot Types](03_mpl_TypesOfPlots.ipynb)\n",
    "4. [Text, Labels & Annotation](04_mpl_TextAnnotation.ipynb)\n",
    "5. [3D Plotting](05_mpl_3D_Plotting.ipynb)\n",
    "6. [Stylesheets](06_mpl_Stylesheets.ipynb)"
   ]
  }
 ],
 "metadata": {
  "kernelspec": {
   "display_name": "Python 2",
   "language": "python",
   "name": "python2"
  },
  "language_info": {
   "codemirror_mode": {
    "name": "ipython",
    "version": 2
   },
   "file_extension": ".py",
   "mimetype": "text/x-python",
   "name": "python",
   "nbconvert_exporter": "python",
   "pygments_lexer": "ipython2",
   "version": "2.7.10"
  }
 },
 "nbformat": 4,
 "nbformat_minor": 0
}
